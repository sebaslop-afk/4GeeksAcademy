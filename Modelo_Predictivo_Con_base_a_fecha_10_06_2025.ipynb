{
  "cells": [
    {
      "cell_type": "markdown",
      "metadata": {
        "id": "view-in-github",
        "colab_type": "text"
      },
      "source": [
        "<a href=\"https://colab.research.google.com/github/sebaslop-afk/4GeeksAcademy/blob/master/Modelo_Predictivo_Con_base_a_fecha_10_06_2025.ipynb\" target=\"_parent\"><img src=\"https://colab.research.google.com/assets/colab-badge.svg\" alt=\"Open In Colab\"/></a>"
      ]
    },
    {
      "cell_type": "code",
      "execution_count": null,
      "metadata": {
        "colab": {
          "base_uri": "https://localhost:8080/"
        },
        "id": "Qabj40VqbzuL",
        "outputId": "1ad75a02-a5ff-424b-a90d-651180c74d7d"
      },
      "outputs": [
        {
          "name": "stdout",
          "output_type": "stream",
          "text": [
            "Requirement already satisfied: yfinance in /workspaces/sebasProyecto-Dow-Jones-2025sebas/venv/lib/python3.11/site-packages (0.2.63)\n",
            "Requirement already satisfied: ta in /workspaces/sebasProyecto-Dow-Jones-2025sebas/venv/lib/python3.11/site-packages (0.11.0)\n",
            "Requirement already satisfied: pandas in /workspaces/sebasProyecto-Dow-Jones-2025sebas/venv/lib/python3.11/site-packages (2.3.0)\n",
            "Requirement already satisfied: numpy>=1.16.5 in /workspaces/sebasProyecto-Dow-Jones-2025sebas/venv/lib/python3.11/site-packages (from yfinance) (2.2.0)\n",
            "Requirement already satisfied: requests>=2.31 in /workspaces/sebasProyecto-Dow-Jones-2025sebas/venv/lib/python3.11/site-packages (from yfinance) (2.32.4)\n",
            "Requirement already satisfied: multitasking>=0.0.7 in /workspaces/sebasProyecto-Dow-Jones-2025sebas/venv/lib/python3.11/site-packages (from yfinance) (0.0.11)\n",
            "Requirement already satisfied: platformdirs>=2.0.0 in /workspaces/sebasProyecto-Dow-Jones-2025sebas/venv/lib/python3.11/site-packages (from yfinance) (4.3.8)\n",
            "Requirement already satisfied: pytz>=2022.5 in /workspaces/sebasProyecto-Dow-Jones-2025sebas/venv/lib/python3.11/site-packages (from yfinance) (2025.2)\n",
            "Requirement already satisfied: frozendict>=2.3.4 in /workspaces/sebasProyecto-Dow-Jones-2025sebas/venv/lib/python3.11/site-packages (from yfinance) (2.4.6)\n",
            "Requirement already satisfied: peewee>=3.16.2 in /workspaces/sebasProyecto-Dow-Jones-2025sebas/venv/lib/python3.11/site-packages (from yfinance) (3.18.1)\n",
            "Requirement already satisfied: beautifulsoup4>=4.11.1 in /workspaces/sebasProyecto-Dow-Jones-2025sebas/venv/lib/python3.11/site-packages (from yfinance) (4.13.4)\n",
            "Requirement already satisfied: curl_cffi>=0.7 in /workspaces/sebasProyecto-Dow-Jones-2025sebas/venv/lib/python3.11/site-packages (from yfinance) (0.11.3)\n",
            "Requirement already satisfied: protobuf>=3.19.0 in /workspaces/sebasProyecto-Dow-Jones-2025sebas/venv/lib/python3.11/site-packages (from yfinance) (6.31.1)\n",
            "Requirement already satisfied: websockets>=13.0 in /workspaces/sebasProyecto-Dow-Jones-2025sebas/venv/lib/python3.11/site-packages (from yfinance) (15.0.1)\n",
            "Requirement already satisfied: python-dateutil>=2.8.2 in /workspaces/sebasProyecto-Dow-Jones-2025sebas/venv/lib/python3.11/site-packages (from pandas) (2.9.0.post0)\n",
            "Requirement already satisfied: tzdata>=2022.7 in /workspaces/sebasProyecto-Dow-Jones-2025sebas/venv/lib/python3.11/site-packages (from pandas) (2025.2)\n",
            "Requirement already satisfied: soupsieve>1.2 in /workspaces/sebasProyecto-Dow-Jones-2025sebas/venv/lib/python3.11/site-packages (from beautifulsoup4>=4.11.1->yfinance) (2.7)\n",
            "Requirement already satisfied: typing-extensions>=4.0.0 in /workspaces/sebasProyecto-Dow-Jones-2025sebas/venv/lib/python3.11/site-packages (from beautifulsoup4>=4.11.1->yfinance) (4.14.0)\n",
            "Requirement already satisfied: cffi>=1.12.0 in /workspaces/sebasProyecto-Dow-Jones-2025sebas/venv/lib/python3.11/site-packages (from curl_cffi>=0.7->yfinance) (1.17.1)\n",
            "Requirement already satisfied: certifi>=2024.2.2 in /workspaces/sebasProyecto-Dow-Jones-2025sebas/venv/lib/python3.11/site-packages (from curl_cffi>=0.7->yfinance) (2025.6.15)\n",
            "Requirement already satisfied: pycparser in /workspaces/sebasProyecto-Dow-Jones-2025sebas/venv/lib/python3.11/site-packages (from cffi>=1.12.0->curl_cffi>=0.7->yfinance) (2.22)\n",
            "Requirement already satisfied: six>=1.5 in /workspaces/sebasProyecto-Dow-Jones-2025sebas/venv/lib/python3.11/site-packages (from python-dateutil>=2.8.2->pandas) (1.17.0)\n",
            "Requirement already satisfied: charset_normalizer<4,>=2 in /workspaces/sebasProyecto-Dow-Jones-2025sebas/venv/lib/python3.11/site-packages (from requests>=2.31->yfinance) (3.4.2)\n",
            "Requirement already satisfied: idna<4,>=2.5 in /workspaces/sebasProyecto-Dow-Jones-2025sebas/venv/lib/python3.11/site-packages (from requests>=2.31->yfinance) (3.10)\n",
            "Requirement already satisfied: urllib3<3,>=1.21.1 in /workspaces/sebasProyecto-Dow-Jones-2025sebas/venv/lib/python3.11/site-packages (from requests>=2.31->yfinance) (2.5.0)\n",
            "Requirement already satisfied: pandas_datareader in /workspaces/sebasProyecto-Dow-Jones-2025sebas/venv/lib/python3.11/site-packages (0.10.0)\n",
            "Requirement already satisfied: lxml in /workspaces/sebasProyecto-Dow-Jones-2025sebas/venv/lib/python3.11/site-packages (from pandas_datareader) (5.4.0)\n",
            "Requirement already satisfied: pandas>=0.23 in /workspaces/sebasProyecto-Dow-Jones-2025sebas/venv/lib/python3.11/site-packages (from pandas_datareader) (2.3.0)\n",
            "Requirement already satisfied: requests>=2.19.0 in /workspaces/sebasProyecto-Dow-Jones-2025sebas/venv/lib/python3.11/site-packages (from pandas_datareader) (2.32.4)\n",
            "Requirement already satisfied: numpy>=1.23.2 in /workspaces/sebasProyecto-Dow-Jones-2025sebas/venv/lib/python3.11/site-packages (from pandas>=0.23->pandas_datareader) (2.2.0)\n",
            "Requirement already satisfied: python-dateutil>=2.8.2 in /workspaces/sebasProyecto-Dow-Jones-2025sebas/venv/lib/python3.11/site-packages (from pandas>=0.23->pandas_datareader) (2.9.0.post0)\n",
            "Requirement already satisfied: pytz>=2020.1 in /workspaces/sebasProyecto-Dow-Jones-2025sebas/venv/lib/python3.11/site-packages (from pandas>=0.23->pandas_datareader) (2025.2)\n",
            "Requirement already satisfied: tzdata>=2022.7 in /workspaces/sebasProyecto-Dow-Jones-2025sebas/venv/lib/python3.11/site-packages (from pandas>=0.23->pandas_datareader) (2025.2)\n",
            "Requirement already satisfied: six>=1.5 in /workspaces/sebasProyecto-Dow-Jones-2025sebas/venv/lib/python3.11/site-packages (from python-dateutil>=2.8.2->pandas>=0.23->pandas_datareader) (1.17.0)\n",
            "Requirement already satisfied: charset_normalizer<4,>=2 in /workspaces/sebasProyecto-Dow-Jones-2025sebas/venv/lib/python3.11/site-packages (from requests>=2.19.0->pandas_datareader) (3.4.2)\n",
            "Requirement already satisfied: idna<4,>=2.5 in /workspaces/sebasProyecto-Dow-Jones-2025sebas/venv/lib/python3.11/site-packages (from requests>=2.19.0->pandas_datareader) (3.10)\n",
            "Requirement already satisfied: urllib3<3,>=1.21.1 in /workspaces/sebasProyecto-Dow-Jones-2025sebas/venv/lib/python3.11/site-packages (from requests>=2.19.0->pandas_datareader) (2.5.0)\n",
            "Requirement already satisfied: certifi>=2017.4.17 in /workspaces/sebasProyecto-Dow-Jones-2025sebas/venv/lib/python3.11/site-packages (from requests>=2.19.0->pandas_datareader) (2025.6.15)\n"
          ]
        }
      ],
      "source": [
        "!pip install yfinance ta pandas\n",
        "!pip install pandas_datareader"
      ]
    },
    {
      "cell_type": "code",
      "execution_count": null,
      "metadata": {
        "colab": {
          "base_uri": "https://localhost:8080/"
        },
        "id": "QsLMG4TVPEB9",
        "outputId": "f75ec085-7bfa-4f75-daaf-c62d68524d61"
      },
      "outputs": [
        {
          "name": "stdout",
          "output_type": "stream",
          "text": [
            "✅ Tickers obtenidos (43): ['MMM', 'AXP', 'AMGN', 'AMZN', 'AAPL', 'BA', 'CAT', 'CVX', 'CSCO', 'KO', 'DIS', 'GS', 'HD', 'HON', 'IBM', 'JNJ', 'JPM', 'MCD', 'MRK', 'MSFT', 'NKE', 'NVDA', 'PG', 'CRM', 'SHW', 'TRV', 'UNH', 'VZ', 'V', 'WMT', 'GC=F', 'EURUSD=X', 'GBPUSD=X', 'JPY=X', '^VIX', 'CL=F', '^TNX', '^SPX', 'DX-Y.NYB', 'UUP', 'XLV', 'XLF', '^DJI']\n",
            "📥 Descargando datos para: MMM\n"
          ]
        },
        {
          "name": "stderr",
          "output_type": "stream",
          "text": [
            "/tmp/ipykernel_2228/2861515197.py:45: FutureWarning: YF.download() has changed argument auto_adjust default to True\n",
            "  data = yf.download(ticker, start=start_date, end=end_date)\n",
            "[*********************100%***********************]  1 of 1 completed\n"
          ]
        },
        {
          "name": "stdout",
          "output_type": "stream",
          "text": [
            "✅ Guardado: /workspaces/sebasProyecto-Dow-Jones-2025sebas/dow_data/MMM.csv | Última fecha: 2025-05-09\n",
            "📥 Descargando datos para: AXP\n"
          ]
        },
        {
          "name": "stderr",
          "output_type": "stream",
          "text": [
            "/tmp/ipykernel_2228/2861515197.py:45: FutureWarning: YF.download() has changed argument auto_adjust default to True\n",
            "  data = yf.download(ticker, start=start_date, end=end_date)\n",
            "[*********************100%***********************]  1 of 1 completed\n"
          ]
        },
        {
          "name": "stdout",
          "output_type": "stream",
          "text": [
            "✅ Guardado: /workspaces/sebasProyecto-Dow-Jones-2025sebas/dow_data/AXP.csv | Última fecha: 2025-05-09\n",
            "📥 Descargando datos para: AMGN\n"
          ]
        },
        {
          "name": "stderr",
          "output_type": "stream",
          "text": [
            "/tmp/ipykernel_2228/2861515197.py:45: FutureWarning: YF.download() has changed argument auto_adjust default to True\n",
            "  data = yf.download(ticker, start=start_date, end=end_date)\n",
            "[*********************100%***********************]  1 of 1 completed\n"
          ]
        },
        {
          "name": "stdout",
          "output_type": "stream",
          "text": [
            "✅ Guardado: /workspaces/sebasProyecto-Dow-Jones-2025sebas/dow_data/AMGN.csv | Última fecha: 2025-05-09\n"
          ]
        },
        {
          "name": "stderr",
          "output_type": "stream",
          "text": [
            "/tmp/ipykernel_2228/2861515197.py:45: FutureWarning: YF.download() has changed argument auto_adjust default to True\n",
            "  data = yf.download(ticker, start=start_date, end=end_date)\n",
            "[*********************100%***********************]  1 of 1 completed"
          ]
        },
        {
          "name": "stdout",
          "output_type": "stream",
          "text": [
            "📥 Descargando datos para: AMZN\n"
          ]
        },
        {
          "name": "stderr",
          "output_type": "stream",
          "text": [
            "\n"
          ]
        },
        {
          "name": "stdout",
          "output_type": "stream",
          "text": [
            "✅ Guardado: /workspaces/sebasProyecto-Dow-Jones-2025sebas/dow_data/AMZN.csv | Última fecha: 2025-05-09\n",
            "📥 Descargando datos para: AAPL\n"
          ]
        },
        {
          "name": "stderr",
          "output_type": "stream",
          "text": [
            "/tmp/ipykernel_2228/2861515197.py:45: FutureWarning: YF.download() has changed argument auto_adjust default to True\n",
            "  data = yf.download(ticker, start=start_date, end=end_date)\n",
            "[*********************100%***********************]  1 of 1 completed\n"
          ]
        },
        {
          "name": "stdout",
          "output_type": "stream",
          "text": [
            "✅ Guardado: /workspaces/sebasProyecto-Dow-Jones-2025sebas/dow_data/AAPL.csv | Última fecha: 2025-05-09\n"
          ]
        },
        {
          "name": "stderr",
          "output_type": "stream",
          "text": [
            "/tmp/ipykernel_2228/2861515197.py:45: FutureWarning: YF.download() has changed argument auto_adjust default to True\n",
            "  data = yf.download(ticker, start=start_date, end=end_date)\n",
            "[*********************100%***********************]  1 of 1 completed"
          ]
        },
        {
          "name": "stdout",
          "output_type": "stream",
          "text": [
            "📥 Descargando datos para: BA\n"
          ]
        },
        {
          "name": "stderr",
          "output_type": "stream",
          "text": [
            "\n"
          ]
        },
        {
          "name": "stdout",
          "output_type": "stream",
          "text": [
            "✅ Guardado: /workspaces/sebasProyecto-Dow-Jones-2025sebas/dow_data/BA.csv | Última fecha: 2025-05-09\n",
            "📥 Descargando datos para: CAT\n"
          ]
        },
        {
          "name": "stderr",
          "output_type": "stream",
          "text": [
            "/tmp/ipykernel_2228/2861515197.py:45: FutureWarning: YF.download() has changed argument auto_adjust default to True\n",
            "  data = yf.download(ticker, start=start_date, end=end_date)\n",
            "[*********************100%***********************]  1 of 1 completed\n"
          ]
        },
        {
          "name": "stdout",
          "output_type": "stream",
          "text": [
            "✅ Guardado: /workspaces/sebasProyecto-Dow-Jones-2025sebas/dow_data/CAT.csv | Última fecha: 2025-05-09\n",
            "📥 Descargando datos para: CVX\n"
          ]
        },
        {
          "name": "stderr",
          "output_type": "stream",
          "text": [
            "/tmp/ipykernel_2228/2861515197.py:45: FutureWarning: YF.download() has changed argument auto_adjust default to True\n",
            "  data = yf.download(ticker, start=start_date, end=end_date)\n",
            "[*********************100%***********************]  1 of 1 completed\n"
          ]
        },
        {
          "name": "stdout",
          "output_type": "stream",
          "text": [
            "✅ Guardado: /workspaces/sebasProyecto-Dow-Jones-2025sebas/dow_data/CVX.csv | Última fecha: 2025-05-09\n"
          ]
        },
        {
          "name": "stderr",
          "output_type": "stream",
          "text": [
            "/tmp/ipykernel_2228/2861515197.py:45: FutureWarning: YF.download() has changed argument auto_adjust default to True\n",
            "  data = yf.download(ticker, start=start_date, end=end_date)\n",
            "[*********************100%***********************]  1 of 1 completed"
          ]
        },
        {
          "name": "stdout",
          "output_type": "stream",
          "text": [
            "📥 Descargando datos para: CSCO\n",
            "✅ Guardado: /workspaces/sebasProyecto-Dow-Jones-2025sebas/dow_data/CSCO.csv | Última fecha: 2025-05-09\n"
          ]
        },
        {
          "name": "stderr",
          "output_type": "stream",
          "text": [
            "\n"
          ]
        },
        {
          "name": "stdout",
          "output_type": "stream",
          "text": [
            "📥 Descargando datos para: KO\n"
          ]
        },
        {
          "name": "stderr",
          "output_type": "stream",
          "text": [
            "/tmp/ipykernel_2228/2861515197.py:45: FutureWarning: YF.download() has changed argument auto_adjust default to True\n",
            "  data = yf.download(ticker, start=start_date, end=end_date)\n",
            "[*********************100%***********************]  1 of 1 completed\n"
          ]
        },
        {
          "name": "stdout",
          "output_type": "stream",
          "text": [
            "✅ Guardado: /workspaces/sebasProyecto-Dow-Jones-2025sebas/dow_data/KO.csv | Última fecha: 2025-05-09\n"
          ]
        },
        {
          "name": "stderr",
          "output_type": "stream",
          "text": [
            "/tmp/ipykernel_2228/2861515197.py:45: FutureWarning: YF.download() has changed argument auto_adjust default to True\n",
            "  data = yf.download(ticker, start=start_date, end=end_date)\n",
            "[*********************100%***********************]  1 of 1 completed"
          ]
        },
        {
          "name": "stdout",
          "output_type": "stream",
          "text": [
            "📥 Descargando datos para: DIS\n"
          ]
        },
        {
          "name": "stderr",
          "output_type": "stream",
          "text": [
            "\n"
          ]
        },
        {
          "name": "stdout",
          "output_type": "stream",
          "text": [
            "✅ Guardado: /workspaces/sebasProyecto-Dow-Jones-2025sebas/dow_data/DIS.csv | Última fecha: 2025-05-09\n"
          ]
        },
        {
          "name": "stderr",
          "output_type": "stream",
          "text": [
            "/tmp/ipykernel_2228/2861515197.py:45: FutureWarning: YF.download() has changed argument auto_adjust default to True\n",
            "  data = yf.download(ticker, start=start_date, end=end_date)\n",
            "[*********************100%***********************]  1 of 1 completed"
          ]
        },
        {
          "name": "stdout",
          "output_type": "stream",
          "text": [
            "📥 Descargando datos para: GS\n"
          ]
        },
        {
          "name": "stderr",
          "output_type": "stream",
          "text": [
            "\n"
          ]
        },
        {
          "name": "stdout",
          "output_type": "stream",
          "text": [
            "✅ Guardado: /workspaces/sebasProyecto-Dow-Jones-2025sebas/dow_data/GS.csv | Última fecha: 2025-05-09\n",
            "📥 Descargando datos para: HD\n"
          ]
        },
        {
          "name": "stderr",
          "output_type": "stream",
          "text": [
            "/tmp/ipykernel_2228/2861515197.py:45: FutureWarning: YF.download() has changed argument auto_adjust default to True\n",
            "  data = yf.download(ticker, start=start_date, end=end_date)\n",
            "[*********************100%***********************]  1 of 1 completed\n"
          ]
        },
        {
          "name": "stdout",
          "output_type": "stream",
          "text": [
            "✅ Guardado: /workspaces/sebasProyecto-Dow-Jones-2025sebas/dow_data/HD.csv | Última fecha: 2025-05-09\n",
            "📥 Descargando datos para: HON\n"
          ]
        },
        {
          "name": "stderr",
          "output_type": "stream",
          "text": [
            "/tmp/ipykernel_2228/2861515197.py:45: FutureWarning: YF.download() has changed argument auto_adjust default to True\n",
            "  data = yf.download(ticker, start=start_date, end=end_date)\n",
            "[*********************100%***********************]  1 of 1 completed\n"
          ]
        },
        {
          "name": "stdout",
          "output_type": "stream",
          "text": [
            "✅ Guardado: /workspaces/sebasProyecto-Dow-Jones-2025sebas/dow_data/HON.csv | Última fecha: 2025-05-09\n",
            "📥 Descargando datos para: IBM\n"
          ]
        },
        {
          "name": "stderr",
          "output_type": "stream",
          "text": [
            "/tmp/ipykernel_2228/2861515197.py:45: FutureWarning: YF.download() has changed argument auto_adjust default to True\n",
            "  data = yf.download(ticker, start=start_date, end=end_date)\n",
            "[*********************100%***********************]  1 of 1 completed\n"
          ]
        },
        {
          "name": "stdout",
          "output_type": "stream",
          "text": [
            "✅ Guardado: /workspaces/sebasProyecto-Dow-Jones-2025sebas/dow_data/IBM.csv | Última fecha: 2025-05-09\n",
            "📥 Descargando datos para: JNJ\n"
          ]
        },
        {
          "name": "stderr",
          "output_type": "stream",
          "text": [
            "/tmp/ipykernel_2228/2861515197.py:45: FutureWarning: YF.download() has changed argument auto_adjust default to True\n",
            "  data = yf.download(ticker, start=start_date, end=end_date)\n",
            "[*********************100%***********************]  1 of 1 completed\n"
          ]
        },
        {
          "name": "stdout",
          "output_type": "stream",
          "text": [
            "✅ Guardado: /workspaces/sebasProyecto-Dow-Jones-2025sebas/dow_data/JNJ.csv | Última fecha: 2025-05-09\n",
            "📥 Descargando datos para: JPM\n"
          ]
        },
        {
          "name": "stderr",
          "output_type": "stream",
          "text": [
            "/tmp/ipykernel_2228/2861515197.py:45: FutureWarning: YF.download() has changed argument auto_adjust default to True\n",
            "  data = yf.download(ticker, start=start_date, end=end_date)\n",
            "[*********************100%***********************]  1 of 1 completed\n"
          ]
        },
        {
          "name": "stdout",
          "output_type": "stream",
          "text": [
            "✅ Guardado: /workspaces/sebasProyecto-Dow-Jones-2025sebas/dow_data/JPM.csv | Última fecha: 2025-05-09\n"
          ]
        },
        {
          "name": "stderr",
          "output_type": "stream",
          "text": [
            "/tmp/ipykernel_2228/2861515197.py:45: FutureWarning: YF.download() has changed argument auto_adjust default to True\n",
            "  data = yf.download(ticker, start=start_date, end=end_date)\n",
            "[*********************100%***********************]  1 of 1 completed"
          ]
        },
        {
          "name": "stdout",
          "output_type": "stream",
          "text": [
            "📥 Descargando datos para: MCD\n"
          ]
        },
        {
          "name": "stderr",
          "output_type": "stream",
          "text": [
            "\n"
          ]
        },
        {
          "name": "stdout",
          "output_type": "stream",
          "text": [
            "✅ Guardado: /workspaces/sebasProyecto-Dow-Jones-2025sebas/dow_data/MCD.csv | Última fecha: 2025-05-09\n",
            "📥 Descargando datos para: MRK\n"
          ]
        },
        {
          "name": "stderr",
          "output_type": "stream",
          "text": [
            "/tmp/ipykernel_2228/2861515197.py:45: FutureWarning: YF.download() has changed argument auto_adjust default to True\n",
            "  data = yf.download(ticker, start=start_date, end=end_date)\n",
            "[*********************100%***********************]  1 of 1 completed\n"
          ]
        },
        {
          "name": "stdout",
          "output_type": "stream",
          "text": [
            "✅ Guardado: /workspaces/sebasProyecto-Dow-Jones-2025sebas/dow_data/MRK.csv | Última fecha: 2025-05-09\n"
          ]
        },
        {
          "name": "stderr",
          "output_type": "stream",
          "text": [
            "/tmp/ipykernel_2228/2861515197.py:45: FutureWarning: YF.download() has changed argument auto_adjust default to True\n",
            "  data = yf.download(ticker, start=start_date, end=end_date)\n",
            "[*********************100%***********************]  1 of 1 completed"
          ]
        },
        {
          "name": "stdout",
          "output_type": "stream",
          "text": [
            "📥 Descargando datos para: MSFT\n"
          ]
        },
        {
          "name": "stderr",
          "output_type": "stream",
          "text": [
            "\n"
          ]
        },
        {
          "name": "stdout",
          "output_type": "stream",
          "text": [
            "✅ Guardado: /workspaces/sebasProyecto-Dow-Jones-2025sebas/dow_data/MSFT.csv | Última fecha: 2025-05-09\n"
          ]
        },
        {
          "name": "stderr",
          "output_type": "stream",
          "text": [
            "/tmp/ipykernel_2228/2861515197.py:45: FutureWarning: YF.download() has changed argument auto_adjust default to True\n",
            "  data = yf.download(ticker, start=start_date, end=end_date)\n",
            "[*********************100%***********************]  1 of 1 completed"
          ]
        },
        {
          "name": "stdout",
          "output_type": "stream",
          "text": [
            "📥 Descargando datos para: NKE\n"
          ]
        },
        {
          "name": "stderr",
          "output_type": "stream",
          "text": [
            "\n"
          ]
        },
        {
          "name": "stdout",
          "output_type": "stream",
          "text": [
            "✅ Guardado: /workspaces/sebasProyecto-Dow-Jones-2025sebas/dow_data/NKE.csv | Última fecha: 2025-05-09\n"
          ]
        },
        {
          "name": "stderr",
          "output_type": "stream",
          "text": [
            "/tmp/ipykernel_2228/2861515197.py:45: FutureWarning: YF.download() has changed argument auto_adjust default to True\n",
            "  data = yf.download(ticker, start=start_date, end=end_date)\n",
            "[*********************100%***********************]  1 of 1 completed"
          ]
        },
        {
          "name": "stdout",
          "output_type": "stream",
          "text": [
            "📥 Descargando datos para: NVDA\n"
          ]
        },
        {
          "name": "stderr",
          "output_type": "stream",
          "text": [
            "\n"
          ]
        },
        {
          "name": "stdout",
          "output_type": "stream",
          "text": [
            "✅ Guardado: /workspaces/sebasProyecto-Dow-Jones-2025sebas/dow_data/NVDA.csv | Última fecha: 2025-05-09\n",
            "📥 Descargando datos para: PG\n"
          ]
        },
        {
          "name": "stderr",
          "output_type": "stream",
          "text": [
            "/tmp/ipykernel_2228/2861515197.py:45: FutureWarning: YF.download() has changed argument auto_adjust default to True\n",
            "  data = yf.download(ticker, start=start_date, end=end_date)\n",
            "[*********************100%***********************]  1 of 1 completed\n"
          ]
        },
        {
          "name": "stdout",
          "output_type": "stream",
          "text": [
            "✅ Guardado: /workspaces/sebasProyecto-Dow-Jones-2025sebas/dow_data/PG.csv | Última fecha: 2025-05-09\n"
          ]
        },
        {
          "name": "stderr",
          "output_type": "stream",
          "text": [
            "/tmp/ipykernel_2228/2861515197.py:45: FutureWarning: YF.download() has changed argument auto_adjust default to True\n",
            "  data = yf.download(ticker, start=start_date, end=end_date)\n",
            "[*********************100%***********************]  1 of 1 completed"
          ]
        },
        {
          "name": "stdout",
          "output_type": "stream",
          "text": [
            "📥 Descargando datos para: CRM\n"
          ]
        },
        {
          "name": "stderr",
          "output_type": "stream",
          "text": [
            "\n"
          ]
        },
        {
          "name": "stdout",
          "output_type": "stream",
          "text": [
            "✅ Guardado: /workspaces/sebasProyecto-Dow-Jones-2025sebas/dow_data/CRM.csv | Última fecha: 2025-05-09\n",
            "📥 Descargando datos para: SHW\n"
          ]
        },
        {
          "name": "stderr",
          "output_type": "stream",
          "text": [
            "/tmp/ipykernel_2228/2861515197.py:45: FutureWarning: YF.download() has changed argument auto_adjust default to True\n",
            "  data = yf.download(ticker, start=start_date, end=end_date)\n",
            "[*********************100%***********************]  1 of 1 completed\n"
          ]
        },
        {
          "name": "stdout",
          "output_type": "stream",
          "text": [
            "✅ Guardado: /workspaces/sebasProyecto-Dow-Jones-2025sebas/dow_data/SHW.csv | Última fecha: 2025-05-09\n"
          ]
        },
        {
          "name": "stderr",
          "output_type": "stream",
          "text": [
            "/tmp/ipykernel_2228/2861515197.py:45: FutureWarning: YF.download() has changed argument auto_adjust default to True\n",
            "  data = yf.download(ticker, start=start_date, end=end_date)\n",
            "[*********************100%***********************]  1 of 1 completed"
          ]
        },
        {
          "name": "stdout",
          "output_type": "stream",
          "text": [
            "📥 Descargando datos para: TRV\n",
            "✅ Guardado: /workspaces/sebasProyecto-Dow-Jones-2025sebas/dow_data/TRV.csv | Última fecha: 2025-05-09\n"
          ]
        },
        {
          "name": "stderr",
          "output_type": "stream",
          "text": [
            "\n"
          ]
        },
        {
          "name": "stdout",
          "output_type": "stream",
          "text": [
            "📥 Descargando datos para: UNH\n"
          ]
        },
        {
          "name": "stderr",
          "output_type": "stream",
          "text": [
            "/tmp/ipykernel_2228/2861515197.py:45: FutureWarning: YF.download() has changed argument auto_adjust default to True\n",
            "  data = yf.download(ticker, start=start_date, end=end_date)\n",
            "[*********************100%***********************]  1 of 1 completed\n"
          ]
        },
        {
          "name": "stdout",
          "output_type": "stream",
          "text": [
            "✅ Guardado: /workspaces/sebasProyecto-Dow-Jones-2025sebas/dow_data/UNH.csv | Última fecha: 2025-05-09\n",
            "📥 Descargando datos para: VZ\n"
          ]
        },
        {
          "name": "stderr",
          "output_type": "stream",
          "text": [
            "/tmp/ipykernel_2228/2861515197.py:45: FutureWarning: YF.download() has changed argument auto_adjust default to True\n",
            "  data = yf.download(ticker, start=start_date, end=end_date)\n",
            "[*********************100%***********************]  1 of 1 completed\n"
          ]
        },
        {
          "name": "stdout",
          "output_type": "stream",
          "text": [
            "✅ Guardado: /workspaces/sebasProyecto-Dow-Jones-2025sebas/dow_data/VZ.csv | Última fecha: 2025-05-09\n"
          ]
        },
        {
          "name": "stderr",
          "output_type": "stream",
          "text": [
            "/tmp/ipykernel_2228/2861515197.py:45: FutureWarning: YF.download() has changed argument auto_adjust default to True\n",
            "  data = yf.download(ticker, start=start_date, end=end_date)\n",
            "[*********************100%***********************]  1 of 1 completed"
          ]
        },
        {
          "name": "stdout",
          "output_type": "stream",
          "text": [
            "📥 Descargando datos para: V\n"
          ]
        },
        {
          "name": "stderr",
          "output_type": "stream",
          "text": [
            "\n"
          ]
        },
        {
          "name": "stdout",
          "output_type": "stream",
          "text": [
            "✅ Guardado: /workspaces/sebasProyecto-Dow-Jones-2025sebas/dow_data/V.csv | Última fecha: 2025-05-09\n",
            "📥 Descargando datos para: WMT\n"
          ]
        },
        {
          "name": "stderr",
          "output_type": "stream",
          "text": [
            "/tmp/ipykernel_2228/2861515197.py:45: FutureWarning: YF.download() has changed argument auto_adjust default to True\n",
            "  data = yf.download(ticker, start=start_date, end=end_date)\n",
            "[*********************100%***********************]  1 of 1 completed\n"
          ]
        },
        {
          "name": "stdout",
          "output_type": "stream",
          "text": [
            "✅ Guardado: /workspaces/sebasProyecto-Dow-Jones-2025sebas/dow_data/WMT.csv | Última fecha: 2025-05-09\n"
          ]
        },
        {
          "name": "stderr",
          "output_type": "stream",
          "text": [
            "/tmp/ipykernel_2228/2861515197.py:45: FutureWarning: YF.download() has changed argument auto_adjust default to True\n",
            "  data = yf.download(ticker, start=start_date, end=end_date)\n",
            "[*********************100%***********************]  1 of 1 completed"
          ]
        },
        {
          "name": "stdout",
          "output_type": "stream",
          "text": [
            "📥 Descargando datos para: GC=F\n",
            "✅ Guardado: /workspaces/sebasProyecto-Dow-Jones-2025sebas/dow_data/GC=F.csv | Última fecha: 2025-05-09\n"
          ]
        },
        {
          "name": "stderr",
          "output_type": "stream",
          "text": [
            "\n",
            "/tmp/ipykernel_2228/2861515197.py:45: FutureWarning: YF.download() has changed argument auto_adjust default to True\n",
            "  data = yf.download(ticker, start=start_date, end=end_date)\n",
            "[*********************100%***********************]  1 of 1 completed"
          ]
        },
        {
          "name": "stdout",
          "output_type": "stream",
          "text": [
            "📥 Descargando datos para: EURUSD=X\n"
          ]
        },
        {
          "name": "stderr",
          "output_type": "stream",
          "text": [
            "\n"
          ]
        },
        {
          "name": "stdout",
          "output_type": "stream",
          "text": [
            "✅ Guardado: /workspaces/sebasProyecto-Dow-Jones-2025sebas/dow_data/EURUSD=X.csv | Última fecha: 2025-05-09\n"
          ]
        },
        {
          "name": "stderr",
          "output_type": "stream",
          "text": [
            "/tmp/ipykernel_2228/2861515197.py:45: FutureWarning: YF.download() has changed argument auto_adjust default to True\n",
            "  data = yf.download(ticker, start=start_date, end=end_date)\n",
            "[*********************100%***********************]  1 of 1 completed"
          ]
        },
        {
          "name": "stdout",
          "output_type": "stream",
          "text": [
            "📥 Descargando datos para: GBPUSD=X\n",
            "✅ Guardado: /workspaces/sebasProyecto-Dow-Jones-2025sebas/dow_data/GBPUSD=X.csv | Última fecha: 2025-05-09\n"
          ]
        },
        {
          "name": "stderr",
          "output_type": "stream",
          "text": [
            "\n",
            "/tmp/ipykernel_2228/2861515197.py:45: FutureWarning: YF.download() has changed argument auto_adjust default to True\n",
            "  data = yf.download(ticker, start=start_date, end=end_date)\n",
            "[*********************100%***********************]  1 of 1 completed"
          ]
        },
        {
          "name": "stdout",
          "output_type": "stream",
          "text": [
            "📥 Descargando datos para: JPY=X\n",
            "✅ Guardado: /workspaces/sebasProyecto-Dow-Jones-2025sebas/dow_data/JPY=X.csv | Última fecha: 2025-05-09\n"
          ]
        },
        {
          "name": "stderr",
          "output_type": "stream",
          "text": [
            "\n",
            "/tmp/ipykernel_2228/2861515197.py:45: FutureWarning: YF.download() has changed argument auto_adjust default to True\n",
            "  data = yf.download(ticker, start=start_date, end=end_date)\n",
            "[*********************100%***********************]  1 of 1 completed"
          ]
        },
        {
          "name": "stdout",
          "output_type": "stream",
          "text": [
            "📥 Descargando datos para: ^VIX\n",
            "✅ Guardado: /workspaces/sebasProyecto-Dow-Jones-2025sebas/dow_data/^VIX.csv | Última fecha: 2025-05-09\n"
          ]
        },
        {
          "name": "stderr",
          "output_type": "stream",
          "text": [
            "\n",
            "/tmp/ipykernel_2228/2861515197.py:45: FutureWarning: YF.download() has changed argument auto_adjust default to True\n",
            "  data = yf.download(ticker, start=start_date, end=end_date)\n",
            "[*********************100%***********************]  1 of 1 completed"
          ]
        },
        {
          "name": "stdout",
          "output_type": "stream",
          "text": [
            "📥 Descargando datos para: CL=F\n",
            "✅ Guardado: /workspaces/sebasProyecto-Dow-Jones-2025sebas/dow_data/CL=F.csv | Última fecha: 2025-05-09\n"
          ]
        },
        {
          "name": "stderr",
          "output_type": "stream",
          "text": [
            "\n",
            "/tmp/ipykernel_2228/2861515197.py:45: FutureWarning: YF.download() has changed argument auto_adjust default to True\n",
            "  data = yf.download(ticker, start=start_date, end=end_date)\n",
            "[*********************100%***********************]  1 of 1 completed"
          ]
        },
        {
          "name": "stdout",
          "output_type": "stream",
          "text": [
            "📥 Descargando datos para: ^TNX\n",
            "✅ Guardado: /workspaces/sebasProyecto-Dow-Jones-2025sebas/dow_data/^TNX.csv | Última fecha: 2025-05-09\n"
          ]
        },
        {
          "name": "stderr",
          "output_type": "stream",
          "text": [
            "\n",
            "/tmp/ipykernel_2228/2861515197.py:45: FutureWarning: YF.download() has changed argument auto_adjust default to True\n",
            "  data = yf.download(ticker, start=start_date, end=end_date)\n",
            "[*********************100%***********************]  1 of 1 completed"
          ]
        },
        {
          "name": "stdout",
          "output_type": "stream",
          "text": [
            "📥 Descargando datos para: ^SPX\n",
            "✅ Guardado: /workspaces/sebasProyecto-Dow-Jones-2025sebas/dow_data/^SPX.csv | Última fecha: 2025-05-09\n"
          ]
        },
        {
          "name": "stderr",
          "output_type": "stream",
          "text": [
            "\n",
            "/tmp/ipykernel_2228/2861515197.py:45: FutureWarning: YF.download() has changed argument auto_adjust default to True\n",
            "  data = yf.download(ticker, start=start_date, end=end_date)\n",
            "[*********************100%***********************]  1 of 1 completed"
          ]
        },
        {
          "name": "stdout",
          "output_type": "stream",
          "text": [
            "📥 Descargando datos para: DX-Y.NYB\n",
            "✅ Guardado: /workspaces/sebasProyecto-Dow-Jones-2025sebas/dow_data/DX-Y.NYB.csv | Última fecha: 2025-05-09\n"
          ]
        },
        {
          "name": "stderr",
          "output_type": "stream",
          "text": [
            "\n",
            "/tmp/ipykernel_2228/2861515197.py:45: FutureWarning: YF.download() has changed argument auto_adjust default to True\n",
            "  data = yf.download(ticker, start=start_date, end=end_date)\n",
            "[*********************100%***********************]  1 of 1 completed"
          ]
        },
        {
          "name": "stdout",
          "output_type": "stream",
          "text": [
            "📥 Descargando datos para: UUP\n",
            "✅ Guardado: /workspaces/sebasProyecto-Dow-Jones-2025sebas/dow_data/UUP.csv | Última fecha: 2025-05-09\n"
          ]
        },
        {
          "name": "stderr",
          "output_type": "stream",
          "text": [
            "\n",
            "/tmp/ipykernel_2228/2861515197.py:45: FutureWarning: YF.download() has changed argument auto_adjust default to True\n",
            "  data = yf.download(ticker, start=start_date, end=end_date)\n",
            "[*********************100%***********************]  1 of 1 completed"
          ]
        },
        {
          "name": "stdout",
          "output_type": "stream",
          "text": [
            "📥 Descargando datos para: XLV\n",
            "✅ Guardado: /workspaces/sebasProyecto-Dow-Jones-2025sebas/dow_data/XLV.csv | Última fecha: 2025-05-09\n"
          ]
        },
        {
          "name": "stderr",
          "output_type": "stream",
          "text": [
            "\n",
            "/tmp/ipykernel_2228/2861515197.py:45: FutureWarning: YF.download() has changed argument auto_adjust default to True\n",
            "  data = yf.download(ticker, start=start_date, end=end_date)\n",
            "[*********************100%***********************]  1 of 1 completed"
          ]
        },
        {
          "name": "stdout",
          "output_type": "stream",
          "text": [
            "📥 Descargando datos para: XLF\n"
          ]
        },
        {
          "name": "stderr",
          "output_type": "stream",
          "text": [
            "\n"
          ]
        },
        {
          "name": "stdout",
          "output_type": "stream",
          "text": [
            "✅ Guardado: /workspaces/sebasProyecto-Dow-Jones-2025sebas/dow_data/XLF.csv | Última fecha: 2025-05-09\n"
          ]
        },
        {
          "name": "stderr",
          "output_type": "stream",
          "text": [
            "/tmp/ipykernel_2228/2861515197.py:45: FutureWarning: YF.download() has changed argument auto_adjust default to True\n",
            "  data = yf.download(ticker, start=start_date, end=end_date)\n",
            "[*********************100%***********************]  1 of 1 completed"
          ]
        },
        {
          "name": "stdout",
          "output_type": "stream",
          "text": [
            "📥 Descargando datos para: ^DJI\n",
            "✅ Guardado: /workspaces/sebasProyecto-Dow-Jones-2025sebas/dow_data/^DJI.csv | Última fecha: 2025-05-09\n"
          ]
        },
        {
          "name": "stderr",
          "output_type": "stream",
          "text": [
            "\n"
          ]
        },
        {
          "name": "stdout",
          "output_type": "stream",
          "text": [
            "✅ Proceso completado. Registros combinados: 112284\n",
            "         Date    Ticker                 Open                 High  \\\n",
            "0  2015-01-02      AAPL   24.746229620306494    24.75733822078495   \n",
            "24 2015-01-02       MMM     97.3516917085752    97.57037430653402   \n",
            "25 2015-01-02       MRK    39.50769367737041   39.901253501871324   \n",
            "26 2015-01-02      MSFT    39.91316387951886   40.563269701522984   \n",
            "27 2015-01-02       NKE    42.53170597092245    42.70790920507789   \n",
            "28 2015-01-02      NVDA  0.48306554555892944   0.4866651649418316   \n",
            "29 2015-01-02        PG    67.73985926180471    67.85917482752035   \n",
            "30 2015-01-02       SHW    79.20405197439949    80.03784077642115   \n",
            "32 2015-01-02       UNH    86.19648128807316    87.14761720717019   \n",
            "23 2015-01-02       MCD    72.16513892317755     72.8321300089375   \n",
            "33 2015-01-02       UUP   20.838030087173994    20.90714454650879   \n",
            "35 2015-01-02        VZ   27.490435759310795   27.624963155917577   \n",
            "36 2015-01-02       WMT   23.421363990667754   23.543535327023314   \n",
            "37 2015-01-02       XLF   16.612974846015927    16.63970503625687   \n",
            "38 2015-01-02       XLV    58.14311876453713    58.68469293157811   \n",
            "39 2015-01-02      ^DJI        17823.0703125      17951.779296875   \n",
            "40 2015-01-02      ^SPX     2058.89990234375    2072.360107421875   \n",
            "41 2015-01-02      ^TNX    2.197000026702881   2.2130000591278076   \n",
            "42 2015-01-02      ^VIX   17.760000228881836   20.139999389648438   \n",
            "34 2015-01-02         V    61.18960550758112      61.972537651101   \n",
            "22 2015-01-02        KO   30.308667408005856   30.409077032357565   \n",
            "31 2015-01-02       TRV    84.10730401502406    84.46338671147372   \n",
            "20 2015-01-02       JPM    46.94023638632259   47.529064416260546   \n",
            "21 2015-01-02     JPY=X   119.88999938964844   120.73600006103516   \n",
            "2  2015-01-02      AMZN   15.628999710083008   15.737500190734863   \n",
            "3  2015-01-02       AXP     79.9975457102616    80.65868613307876   \n",
            "4  2015-01-02        BA   114.63679775199242   115.31024758718785   \n",
            "5  2015-01-02       CAT    69.69065772053607    70.14630577022463   \n",
            "6  2015-01-02      CL=F     53.7599983215332    55.11000061035156   \n",
            "7  2015-01-02       CRM    59.47384294403796    60.00007104683385   \n",
            "8  2015-01-02      CSCO   20.236734540296887   20.425591521525494   \n",
            "9  2015-01-02       CVX    71.17825601909331    72.05180621744817   \n",
            "10 2015-01-02       DIS    87.37796647125731    87.71859885664036   \n",
            "1  2015-01-02      AMGN   118.41794893706158   120.21461940421003   \n",
            "12 2015-01-02  EURUSD=X   1.2088682651519775    1.208956003189087   \n",
            "13 2015-01-02  GBPUSD=X   1.5580207109451294    1.558457851409912   \n",
            "14 2015-01-02      GC=F               1184.0               1194.5   \n",
            "15 2015-01-02        GS     158.713551846529   159.06299200922652   \n",
            "16 2015-01-02        HD    82.22767913199212    82.61864373958284   \n",
            "17 2015-01-02       HON    76.88142985187126    77.38016148308948   \n",
            "18 2015-01-02       IBM    98.87145437224734   100.09731239722538   \n",
            "19 2015-01-02       JNJ    78.40821785929859    78.78141260266604   \n",
            "11 2015-01-02  DX-Y.NYB    90.36000061035156    91.16000366210938   \n",
            "66 2015-01-05       MCD    71.52883101875324    71.82015747575502   \n",
            "73 2015-01-05       SHW    78.59075239922045    79.29766022827133   \n",
            "72 2015-01-05        PG    67.28497430774999    67.85916473685624   \n",
            "71 2015-01-05      NVDA   0.4830655036285956  0.48450535125677696   \n",
            "67 2015-01-05       MMM    96.34096933573055    96.71923596508104   \n",
            "69 2015-01-05      MSFT    39.66509977276096     39.9730458684429   \n",
            "68 2015-01-05       MRK    40.19125522358027    40.37767719925961   \n",
            "\n",
            "                   Low                Close      Volume  \n",
            "0   23.848709278537115   24.288583755493164   212818400  \n",
            "24   96.18141514015554    96.96751403808594     2531214  \n",
            "25  39.376507989301125    39.48698043823242     7415962  \n",
            "26   39.81051627880419    39.99870300292969    27913900  \n",
            "27   41.45684876609573    41.86212158203125     4985800  \n",
            "28  0.4753863956847443  0.48306554555892944   113680000  \n",
            "29   67.05381182677769    67.44158172607422     7251400  \n",
            "30   78.64819046822694    79.28260040283203     1700400  \n",
            "32   84.93113574143592    85.58503723144531     3060900  \n",
            "23   71.33715704839638    71.49815368652344     6019700  \n",
            "33  20.829390573779808    20.90714454650879     1887600  \n",
            "35   27.43779441009706   27.467039108276367    11421200  \n",
            "36  23.225892027361162   23.320913314819336    13505400  \n",
            "37  16.399131755046927   16.526100158691406    40511471  \n",
            "38    57.8384824885674    58.07542037963867     7516800  \n",
            "39      17731.30078125      17832.990234375    76270000  \n",
            "40     2046.0400390625    2058.199951171875  2708700000  \n",
            "41  2.1019999980926514    2.122999906539917           0  \n",
            "42  17.049999237060547   17.790000915527344           0  \n",
            "34   60.98283337520877   61.570613861083984     8389600  \n",
            "22    29.9787582784978   30.222604751586914     9921100  \n",
            "31   83.03904988853327    83.43470001220703     1270800  \n",
            "20   46.85719594522898   47.174259185791016    12600000  \n",
            "21  119.83599853515625   119.87000274658203           0  \n",
            "2   15.347999572753906   15.425999641418457    55664000  \n",
            "3    79.11316902197505     79.8687515258789     2437500  \n",
            "4   112.90503528687749   113.65721130371094     4294200  \n",
            "5    68.84772273374571     69.7741928100586     3767900  \n",
            "6   52.029998779296875   52.689998626708984      268708  \n",
            "7    58.09372891797654   58.818538665771484     2796400  \n",
            "8   19.888074752019662    20.05514144897461    22926500  \n",
            "9     70.6809080465646    71.78400421142578     5898800  \n",
            "10   85.48144284570279    86.31002044677734     5865400  \n",
            "1    117.2645291879885   118.21831512451172     2605400  \n",
            "12  1.2010799646377563   1.2089413404464722           0  \n",
            "13   1.538745641708374   1.5579720735549927           0  \n",
            "14              1169.5               1186.0           0  \n",
            "15  156.60061688972687    157.9902801513672     1877700  \n",
            "16   80.28067109092483    80.87493896484375     4323700  \n",
            "17   76.03742247596351    76.90444946289062     2232817  \n",
            "18   98.68144383485829    99.33114624023438     5779673  \n",
            "19    77.7215352036826    78.01262664794922     5753600  \n",
            "11   90.33000183105469    91.08000183105469           0  \n",
            "66   70.70084317366603    70.70851135253906     6211900  \n",
            "73   78.47897306547854    79.04692077636719     2161800  \n",
            "72   67.00160272595237    67.12091827392578     8626100  \n",
            "71  0.4727466719119682  0.47490641474723816   197952000  \n",
            "67   94.61510963734747    94.78059387207031     4416708  \n",
            "69  39.562452161903224    39.63088607788086    39673900  \n",
            "68    39.7493652781792    40.07387924194336    16727338  \n",
            "(112284, 7)\n",
            "             Date    Ticker                Open                High  \\\n",
            "112212 2025-05-09      GC=F              3299.0              3335.5   \n",
            "112213 2025-05-09        GS   567.4216321367601   569.2624320778136   \n",
            "112214 2025-05-09        HD   359.8934136622576    363.312169923686   \n",
            "112215 2025-05-09       HON  213.44938575643573   213.7876689145066   \n",
            "112216 2025-05-09       IBM  252.50999450683594               253.0   \n",
            "112218 2025-05-09       JPM               254.5  255.50999450683594   \n",
            "112240 2025-05-09      ^VIX  22.399999618530273   22.81999969482422   \n",
            "112241        NaT      AAPL                AAPL                AAPL   \n",
            "112242        NaT      AMGN                AMGN                AMGN   \n",
            "112243        NaT      AMZN                AMZN                AMZN   \n",
            "112244        NaT       AXP                 AXP                 AXP   \n",
            "112245        NaT        BA                  BA                  BA   \n",
            "112246        NaT       CAT                 CAT                 CAT   \n",
            "112247        NaT      CL=F                CL=F                CL=F   \n",
            "112248        NaT       CRM                 CRM                 CRM   \n",
            "112249        NaT      CSCO                CSCO                CSCO   \n",
            "112250        NaT       CVX                 CVX                 CVX   \n",
            "112251        NaT       DIS                 DIS                 DIS   \n",
            "112252        NaT  DX-Y.NYB            DX-Y.NYB            DX-Y.NYB   \n",
            "112253        NaT  EURUSD=X            EURUSD=X            EURUSD=X   \n",
            "112254        NaT  GBPUSD=X            GBPUSD=X            GBPUSD=X   \n",
            "112255        NaT      GC=F                GC=F                GC=F   \n",
            "112256        NaT        GS                  GS                  GS   \n",
            "112257        NaT        HD                  HD                  HD   \n",
            "112258        NaT       HON                 HON                 HON   \n",
            "112259        NaT       IBM                 IBM                 IBM   \n",
            "112260        NaT       JNJ                 JNJ                 JNJ   \n",
            "112261        NaT       JPM                 JPM                 JPM   \n",
            "112262        NaT     JPY=X               JPY=X               JPY=X   \n",
            "112263        NaT        KO                  KO                  KO   \n",
            "112264        NaT       MCD                 MCD                 MCD   \n",
            "112265        NaT       MMM                 MMM                 MMM   \n",
            "112266        NaT       MRK                 MRK                 MRK   \n",
            "112267        NaT      MSFT                MSFT                MSFT   \n",
            "112268        NaT       NKE                 NKE                 NKE   \n",
            "112269        NaT      NVDA                NVDA                NVDA   \n",
            "112270        NaT        PG                  PG                  PG   \n",
            "112271        NaT       SHW                 SHW                 SHW   \n",
            "112272        NaT       TRV                 TRV                 TRV   \n",
            "112273        NaT       UNH                 UNH                 UNH   \n",
            "112274        NaT       UUP                 UUP                 UUP   \n",
            "112275        NaT         V                   V                   V   \n",
            "112276        NaT        VZ                  VZ                  VZ   \n",
            "112277        NaT       WMT                 WMT                 WMT   \n",
            "112278        NaT       XLF                 XLF                 XLF   \n",
            "112279        NaT       XLV                 XLV                 XLV   \n",
            "112280        NaT      ^DJI                ^DJI                ^DJI   \n",
            "112281        NaT      ^SPX                ^SPX                ^SPX   \n",
            "112282        NaT      ^TNX                ^TNX                ^TNX   \n",
            "112283        NaT      ^VIX                ^VIX                ^VIX   \n",
            "\n",
            "                       Low               Close   Volume  \n",
            "112212              3299.0    3335.39990234375        0  \n",
            "112213   562.9738319228702   564.2872314453125  1522500  \n",
            "112214   359.2672998223601   360.4698181152344  1970700  \n",
            "112215  211.58889670254234   211.9470672607422  2394000  \n",
            "112216  247.63999938964844   249.1999969482422  2901300  \n",
            "112218  252.33999633789062   253.0800018310547  5087600  \n",
            "112240  21.829999923706055  21.899999618530273        0  \n",
            "112241                AAPL                AAPL        0  \n",
            "112242                AMGN                AMGN        0  \n",
            "112243                AMZN                AMZN        0  \n",
            "112244                 AXP                 AXP        0  \n",
            "112245                  BA                  BA        0  \n",
            "112246                 CAT                 CAT        0  \n",
            "112247                CL=F                CL=F        0  \n",
            "112248                 CRM                 CRM        0  \n",
            "112249                CSCO                CSCO        0  \n",
            "112250                 CVX                 CVX        0  \n",
            "112251                 DIS                 DIS        0  \n",
            "112252            DX-Y.NYB            DX-Y.NYB        0  \n",
            "112253            EURUSD=X            EURUSD=X        0  \n",
            "112254            GBPUSD=X            GBPUSD=X        0  \n",
            "112255                GC=F                GC=F        0  \n",
            "112256                  GS                  GS        0  \n",
            "112257                  HD                  HD        0  \n",
            "112258                 HON                 HON        0  \n",
            "112259                 IBM                 IBM        0  \n",
            "112260                 JNJ                 JNJ        0  \n",
            "112261                 JPM                 JPM        0  \n",
            "112262               JPY=X               JPY=X        0  \n",
            "112263                  KO                  KO        0  \n",
            "112264                 MCD                 MCD        0  \n",
            "112265                 MMM                 MMM        0  \n",
            "112266                 MRK                 MRK        0  \n",
            "112267                MSFT                MSFT        0  \n",
            "112268                 NKE                 NKE        0  \n",
            "112269                NVDA                NVDA        0  \n",
            "112270                  PG                  PG        0  \n",
            "112271                 SHW                 SHW        0  \n",
            "112272                 TRV                 TRV        0  \n",
            "112273                 UNH                 UNH        0  \n",
            "112274                 UUP                 UUP        0  \n",
            "112275                   V                   V        0  \n",
            "112276                  VZ                  VZ        0  \n",
            "112277                 WMT                 WMT        0  \n",
            "112278                 XLF                 XLF        0  \n",
            "112279                 XLV                 XLV        0  \n",
            "112280                ^DJI                ^DJI        0  \n",
            "112281                ^SPX                ^SPX        0  \n",
            "112282                ^TNX                ^TNX        0  \n",
            "112283                ^VIX                ^VIX        0  \n",
            "📊 Total de tickers únicos: 43\n"
          ]
        }
      ],
      "source": [
        "import pandas as pd\n",
        "import glob\n",
        "import os\n",
        "import numpy as np\n",
        "import yfinance as yf\n",
        "import time\n",
        "\n",
        "from sklearn.preprocessing import StandardScaler\n",
        "from sklearn.cluster import KMeans\n",
        "from sklearn.ensemble import RandomForestRegressor\n",
        "from sklearn.metrics import mean_squared_error\n",
        "\n",
        "import matplotlib.pyplot as plt\n",
        "import seaborn as sns\n",
        "import ta\n",
        "\n",
        "# Paso 1: Obtener tickers del Dow Jones\n",
        "def get_dow_tickers():\n",
        "    url = \"https://en.wikipedia.org/wiki/Dow_Jones_Industrial_Average\"\n",
        "    tables = pd.read_html(url)\n",
        "    for table in tables:\n",
        "        if 'Symbol' in table.columns:\n",
        "            return [t.replace('.', '-') for t in table['Symbol']]\n",
        "    raise ValueError(\"No se encontró la columna 'Symbol'.\")\n",
        "\n",
        "# Obtener tickers\n",
        "dow_tickers = get_dow_tickers()\n",
        "extra_tickers = ['GC=F', 'EURUSD=X', 'GBPUSD=X', 'JPY=X', '^VIX', 'CL=F', '^TNX', '^SPX', 'DX-Y.NYB', 'UUP', 'XLV', 'XLF','^DJI']\n",
        "all_tickers = dow_tickers + extra_tickers\n",
        "\n",
        "print(f\"✅ Tickers obtenidos ({len(all_tickers)}): {all_tickers}\")\n",
        "\n",
        "# ✅ Crear carpeta para los CSVs con ruta absoluta\n",
        "# Asegúrate de que esta ruta coincide con tu entorno (puedes usar print(os.getcwd()) si dudas)\n",
        "folder_path = \"/workspaces/sebasProyecto-Dow-Jones-2025sebas/dow_data\"\n",
        "os.makedirs(folder_path, exist_ok=True)\n",
        "\n",
        "# Paso 2: Descargar datos\n",
        "start_date = \"2015-01-02\"\n",
        "end_date = \"2025-05-10\"\n",
        "\n",
        "for ticker in all_tickers:\n",
        "    try:\n",
        "        print(f\"📥 Descargando datos para: {ticker}\")\n",
        "        data = yf.download(ticker, start=start_date, end=end_date)\n",
        "\n",
        "        if data.empty:\n",
        "            print(f\"⚠️ Sin datos para {ticker}, se omite.\")\n",
        "            continue\n",
        "\n",
        "        data.reset_index(inplace=True)\n",
        "        file_path = os.path.join(folder_path, f\"{ticker}.csv\")\n",
        "        data.to_csv(file_path, index=False)\n",
        "        print(f\"✅ Guardado: {file_path} | Última fecha: {data['Date'].iloc[-1].date()}\")\n",
        "\n",
        "        time.sleep(1)  # para evitar bloqueos\n",
        "\n",
        "    except Exception as e:\n",
        "        print(f\"❌ Error al procesar {ticker}: {e}\")\n",
        "\n",
        "# Paso 3: Leer archivos CSV y formatear\n",
        "csv_files = glob.glob(os.path.join(folder_path, \"*.csv\"))\n",
        "dfs = []\n",
        "\n",
        "for file in csv_files:\n",
        "    try:\n",
        "        ticker = os.path.basename(file).replace(\".csv\", \"\")\n",
        "        df = pd.read_csv(file)\n",
        "\n",
        "        if \"Date\" not in df.columns or \"Open\" not in df.columns:\n",
        "            print(f\"⚠️ Formato inválido en: {file}, se omite.\")\n",
        "            continue\n",
        "\n",
        "        df[\"Date\"] = pd.to_datetime(df[\"Date\"])\n",
        "        df[\"Ticker\"] = ticker\n",
        "\n",
        "        df = df[[\"Date\", \"Ticker\", \"Open\", \"High\", \"Low\", \"Close\", \"Volume\"]].copy()\n",
        "\n",
        "        currency_tickers = ['GC=F']\n",
        "\n",
        "        if ticker in currency_tickers:\n",
        "            df[\"Volume\"] = 0\n",
        "        else:\n",
        "            df[\"Volume\"] = pd.to_numeric(df[\"Volume\"], errors=\"coerce\").fillna(0).astype(int)\n",
        "\n",
        "        dfs.append(df)\n",
        "\n",
        "    except Exception as e:\n",
        "        print(f\"❌ Error procesando {file}: {e}\")\n",
        "        continue\n",
        "\n",
        "# Paso 4: Concatenar todo\n",
        "final_df = pd.concat(dfs).sort_values([\"Date\", \"Ticker\"]).reset_index(drop=True)\n",
        "\n",
        "# Guardar dataset final en ruta absoluta también\n",
        "output_path = \"/workspaces/sebasProyecto-Dow-Jones-2025sebas/DowJones_ConExtras_10y.csv\"\n",
        "final_df.to_csv(output_path, index=False)\n",
        "print(\"✅ Proceso completado. Registros combinados:\", len(final_df))\n",
        "\n",
        "# Ordenar por fecha (opcional)\n",
        "final_df = final_df.sort_values(\"Date\")\n",
        "\n",
        "# Mostrar resultados\n",
        "print(final_df.head(50))\n",
        "print(final_df.shape)\n",
        "print(final_df.tail(50))\n",
        "print(\"📊 Total de tickers únicos:\", len(final_df['Ticker'].unique()))\n"
      ]
    },
    {
      "cell_type": "code",
      "execution_count": null,
      "metadata": {
        "colab": {
          "base_uri": "https://localhost:8080/"
        },
        "id": "g8NKSItayfsD",
        "outputId": "c9460e37-eeb7-4932-8504-01193dfd3400"
      },
      "outputs": [
        {
          "name": "stdout",
          "output_type": "stream",
          "text": [
            "✅ Datos limpios guardados en: /workspaces/sebasProyecto-Dow-Jones-2025sebas/datos_limpios_hasta_2025-05-09.csv\n",
            "📅 Última fecha registrada: 2025-05-09\n",
            "             Date    Ticker                Open                High  \\\n",
            "112222 2025-05-09       MMM  140.57151816322286  141.92489037003529   \n",
            "112223 2025-05-09       MRK   77.18717452041082   77.67231499077468   \n",
            "112224 2025-05-09      MSFT  439.19371771814804  439.93235195021686   \n",
            "112225 2025-05-09       NKE  58.749570011217145   58.98798725094344   \n",
            "112226 2025-05-09      NVDA  117.34184743589364   118.2217911942619   \n",
            "112227 2025-05-09        PG  158.02000427246094   159.1300048828125   \n",
            "112228 2025-05-09       SHW   351.7096128582116  353.00675933215217   \n",
            "112238 2025-05-09      ^SPX    5679.64990234375    5691.68994140625   \n",
            "112230 2025-05-09       UNH    382.951513682806   383.8252853099375   \n",
            "112231 2025-05-09       UUP  27.649999618530273   27.68000030517578   \n",
            "112232 2025-05-09         V  351.24663014231794   353.2133649760644   \n",
            "112233 2025-05-09        VZ   43.52000045776367  43.880001068115234   \n",
            "112234 2025-05-09       WMT               96.75   97.19999694824219   \n",
            "112235 2025-05-09       XLF  49.959999084472656  50.040000915527344   \n",
            "112236 2025-05-09       XLV  134.30999755859375  134.77000427246094   \n",
            "112237 2025-05-09      ^DJI      41405.48046875       41512.4296875   \n",
            "112220 2025-05-09        KO   70.48882361522757   70.64769768559819   \n",
            "112229 2025-05-09       TRV   269.6377988855965   270.6137841311633   \n",
            "112219 2025-05-09     JPY=X  146.01499938964844  146.16600036621094   \n",
            "112208 2025-05-09       DIS  105.26000213623047  106.19000244140625   \n",
            "112217 2025-05-09       JNJ  154.09891552881132  154.73347487153322   \n",
            "112239 2025-05-09      ^TNX   4.392000198364258  4.3979997634887695   \n",
            "112198 2025-05-09      AAPL    198.739389980464   200.2773664943336   \n",
            "112199 2025-05-09      AMGN  268.28903731576247   271.0843415350832   \n",
            "112200 2025-05-09      AMZN   193.3800048828125  194.69000244140625   \n",
            "112201 2025-05-09       AXP               285.0               287.0   \n",
            "112202 2025-05-09        BA   193.5500030517578   195.3000030517578   \n",
            "112203 2025-05-09       CAT   325.6499938964844    327.739990234375   \n",
            "112204 2025-05-09      CL=F               60.25   61.45000076293945   \n",
            "112205 2025-05-09       CRM   281.6199951171875   282.4800109863281   \n",
            "112206 2025-05-09      CSCO   60.65999984741211   60.83000183105469   \n",
            "112207 2025-05-09       CVX   137.2285105290067  137.69285588752393   \n",
            "112209 2025-05-09  DX-Y.NYB  100.63999938964844  100.86000061035156   \n",
            "112210 2025-05-09  EURUSD=X   1.122422695159912  1.1291142702102661   \n",
            "112211 2025-05-09  GBPUSD=X   1.324082374572754   1.331788420677185   \n",
            "112212 2025-05-09      GC=F              3299.0              3335.5   \n",
            "112213 2025-05-09        GS   567.4216321367601   569.2624320778136   \n",
            "112214 2025-05-09        HD   359.8934136622576    363.312169923686   \n",
            "112215 2025-05-09       HON  213.44938575643573   213.7876689145066   \n",
            "112216 2025-05-09       IBM  252.50999450683594               253.0   \n",
            "112218 2025-05-09       JPM               254.5  255.50999450683594   \n",
            "112240 2025-05-09      ^VIX  22.399999618530273   22.81999969482422   \n",
            "\n",
            "                       Low               Close      Volume  \n",
            "112222   140.2729924579425  141.90499877929688     2634100  \n",
            "112223   75.06838913941836   75.21690368652344    15614500  \n",
            "112224  435.08127232610667   437.9260559082031    15324200  \n",
            "112225  57.835645469545526   57.91511535644531    13954400  \n",
            "112226  115.20199668891294  116.64189910888672   132972200  \n",
            "112227  157.41000366210938  157.66000366210938     6453200  \n",
            "112228  349.45454268416256   351.0909423828125     1470700  \n",
            "112238    5644.14990234375       5659.91015625  4645090000  \n",
            "112230   375.8717665742057  377.95697021484375     8381100  \n",
            "112231   27.59000015258789   27.65999984741211     1307000  \n",
            "112232    350.088580306823   351.9554748535156     3086600  \n",
            "112233   43.31999969482422   43.61000061035156    10878400  \n",
            "112234   96.29000091552734   96.72000122070312    13697800  \n",
            "112235  49.720001220703125   49.86000061035156    22075000  \n",
            "112236   132.6199951171875  132.67999267578125     7555200  \n",
            "112237      41150.73046875      41249.37890625   373930000  \n",
            "112220   69.96256651430703   70.02214050292969    11228900  \n",
            "112229   268.1539293116061  268.64190673828125      774600  \n",
            "112219   144.8489990234375  146.01499938964844           0  \n",
            "112208  104.76000213623047  105.94000244140625    10438200  \n",
            "112217   152.5026000547485  152.90911865234375     6520400  \n",
            "112239  4.3429999351501465               4.375           0  \n",
            "112198  197.28129528859796  198.27000427246094    36453900  \n",
            "112199   263.3328370333836  263.53106689453125     3328900  \n",
            "112200  191.16000366210938  193.05999755859375    29663100  \n",
            "112201   282.9700012207031    284.510009765625     2704600  \n",
            "112202  192.17999267578125  194.85000610351562     7669900  \n",
            "112203  323.30999755859375   325.6199951171875     1646200  \n",
            "112204   59.88999938964844   61.02000045776367      239640  \n",
            "112205   273.8800048828125   275.4200134277344     4324200  \n",
            "112206  59.439998626708984   59.77000045776367    17480700  \n",
            "112207  136.04295400573318  136.82345581054688     5965700  \n",
            "112209  100.08999633789062  100.33999633789062           0  \n",
            "112210  1.1199839115142822   1.122422695159912           0  \n",
            "112211  1.3213530778884888   1.323539137840271           0  \n",
            "112212              3299.0    3335.39990234375           0  \n",
            "112213   562.9738319228702   564.2872314453125     1522500  \n",
            "112214   359.2672998223601   360.4698181152344     1970700  \n",
            "112215  211.58889670254234   211.9470672607422     2394000  \n",
            "112216  247.63999938964844   249.1999969482422     2901300  \n",
            "112218  252.33999633789062   253.0800018310547     5087600  \n",
            "112240  21.829999923706055  21.899999618530273           0  \n"
          ]
        }
      ],
      "source": [
        "import os\n",
        "\n",
        "# 🔹 Quitar filas con fechas nulas o mal formateadas\n",
        "final_df = final_df[final_df[\"Date\"].notna()].copy()\n",
        "\n",
        "# 🔹 Obtener la ruta segura dentro del proyecto\n",
        "ruta_guardado = \"/workspaces/sebasProyecto-Dow-Jones-2025sebas/datos_limpios_hasta_2025-05-09.csv\"\n",
        "\n",
        "# 🔹 Guardar el dataset limpio\n",
        "final_df.to_csv(ruta_guardado, index=False)\n",
        "print(f\"✅ Datos limpios guardados en: {ruta_guardado}\")\n",
        "print(f\"📅 Última fecha registrada: {final_df['Date'].max().date()}\")\n",
        "\n",
        "# 🔹 Ver las últimas 42 filas como resumen\n",
        "print(final_df.tail(42))\n"
      ]
    },
    {
      "cell_type": "code",
      "execution_count": null,
      "metadata": {
        "colab": {
          "base_uri": "https://localhost:8080/"
        },
        "id": "wLhWF3Q2ykIq",
        "outputId": "082259d2-b3a9-4062-e759-078b6356ed05"
      },
      "outputs": [
        {
          "name": "stderr",
          "output_type": "stream",
          "text": [
            "[**                     5%                       ]  2 of 42 completed"
          ]
        },
        {
          "name": "stdout",
          "output_type": "stream",
          "text": [
            "📥 Descargando datos desde 2025-05-12 hasta 2025-06-13\n"
          ]
        },
        {
          "name": "stderr",
          "output_type": "stream",
          "text": [
            "[*********************100%***********************]  42 of 42 completed\n"
          ]
        },
        {
          "name": "stdout",
          "output_type": "stream",
          "text": [
            "✅ Datos actualizados guardados en: /workspaces/sebasProyecto-Dow-Jones-2025sebas/datos_actualizados_hasta_2025-06-12.csv\n",
            "📅 Última fecha registrada: 2025-06-12\n",
            "             Date Ticker        Open        High         Low       Close  \\\n",
            "113207 2025-05-20    JPM  262.519989  266.660004  262.299988  265.679993   \n",
            "113208 2025-05-21    JPM  264.350006  265.649994  260.730011  261.040009   \n",
            "113209 2025-05-22    JPM  259.440002  262.299988  258.869995  260.670013   \n",
            "113210 2025-05-23    JPM  256.809998  261.989990  256.000000  260.709991   \n",
            "113211 2025-05-26    JPM         NaN         NaN         NaN         NaN   \n",
            "113212 2025-05-27    JPM  262.040009  265.299988  261.989990  265.290009   \n",
            "113213 2025-05-28    JPM  266.239990  266.720001  262.899994  263.489990   \n",
            "113214 2025-05-29    JPM  264.799988  265.410004  262.529999  264.369995   \n",
            "113215 2025-05-30    JPM  263.450012  265.329987  262.730011  264.000000   \n",
            "113216 2025-06-02    JPM  263.019989  265.029999  261.899994  264.660004   \n",
            "113217 2025-06-03    JPM  263.730011  266.579987  262.880005  266.269989   \n",
            "113218 2025-06-04    JPM  265.920013  267.119995  264.179993  264.220001   \n",
            "113219 2025-06-05    JPM  264.739990  264.739990  260.309998  261.950012   \n",
            "113220 2025-06-06    JPM  264.329987  266.649994  264.260010  265.730011   \n",
            "113221 2025-06-09    JPM  266.000000  267.899994  263.350006  266.739990   \n",
            "113222 2025-06-10    JPM  265.880005  268.899994  265.850006  268.600006   \n",
            "113223 2025-06-11    JPM  268.679993  269.619995  265.790009  268.149994   \n",
            "113224 2025-06-12    JPM  266.859985  268.290009  265.140015  268.239990   \n",
            "113225 2025-05-12   ^VIX   19.840000   20.440001   18.139999   18.389999   \n",
            "113226 2025-05-13   ^VIX   18.690001   18.850000   17.650000   18.219999   \n",
            "113227 2025-05-14   ^VIX   18.100000   18.820000   18.059999   18.620001   \n",
            "113228 2025-05-15   ^VIX   19.190001   19.379999   17.770000   17.830000   \n",
            "113229 2025-05-16   ^VIX   17.959999   17.959999   17.150000   17.240000   \n",
            "113230 2025-05-19   ^VIX   19.840000   19.920000   17.920000   18.139999   \n",
            "113231 2025-05-20   ^VIX   18.459999   18.680000   17.700001   18.090000   \n",
            "113232 2025-05-21   ^VIX   18.770000   21.049999   17.770000   20.870001   \n",
            "113233 2025-05-22   ^VIX   20.620001   22.070000   19.639999   20.280001   \n",
            "113234 2025-05-23   ^VIX   20.139999   25.530001   19.830000   22.290001   \n",
            "113235 2025-05-26   ^VIX         NaN         NaN         NaN         NaN   \n",
            "113236 2025-05-27   ^VIX   20.629999   21.010000   18.950001   18.959999   \n",
            "113237 2025-05-28   ^VIX   19.209999   19.430000   18.680000   19.309999   \n",
            "113238 2025-05-29   ^VIX   18.250000   20.200001   18.110001   19.180000   \n",
            "113239 2025-05-30   ^VIX   19.610001   20.549999   18.570000   18.570000   \n",
            "113240 2025-06-02   ^VIX   19.809999   20.450001   18.360001   18.360001   \n",
            "113241 2025-06-03   ^VIX   18.830000   19.209999   17.639999   17.690001   \n",
            "113242 2025-06-04   ^VIX   17.680000   18.070000   17.410000   17.610001   \n",
            "113243 2025-06-05   ^VIX   17.680000   18.799999   17.080000   18.480000   \n",
            "113244 2025-06-06   ^VIX   18.160000   18.350000   16.650000   16.770000   \n",
            "113245 2025-06-09   ^VIX   17.690001   17.719999   16.820000   17.160000   \n",
            "113246 2025-06-10   ^VIX   17.500000   17.990000   16.680000   16.950001   \n",
            "113247 2025-06-11   ^VIX   17.040001   18.090000   16.230000   17.260000   \n",
            "113248 2025-06-12   ^VIX   17.870001   18.870001   17.430000   18.020000   \n",
            "\n",
            "            Volume  \n",
            "113207   8436300.0  \n",
            "113208   7464000.0  \n",
            "113209   6514100.0  \n",
            "113210   6671800.0  \n",
            "113211         NaN  \n",
            "113212   7506600.0  \n",
            "113213   5535400.0  \n",
            "113214   5081200.0  \n",
            "113215  10977700.0  \n",
            "113216   6011200.0  \n",
            "113217   6998400.0  \n",
            "113218   5915700.0  \n",
            "113219   8173800.0  \n",
            "113220   7738100.0  \n",
            "113221   8285000.0  \n",
            "113222   7538100.0  \n",
            "113223   7434100.0  \n",
            "113224   6618000.0  \n",
            "113225         0.0  \n",
            "113226         0.0  \n",
            "113227         0.0  \n",
            "113228         0.0  \n",
            "113229         0.0  \n",
            "113230         0.0  \n",
            "113231         0.0  \n",
            "113232         0.0  \n",
            "113233         0.0  \n",
            "113234         0.0  \n",
            "113235         NaN  \n",
            "113236         0.0  \n",
            "113237         0.0  \n",
            "113238         0.0  \n",
            "113239         0.0  \n",
            "113240         0.0  \n",
            "113241         0.0  \n",
            "113242         0.0  \n",
            "113243         0.0  \n",
            "113244         0.0  \n",
            "113245         0.0  \n",
            "113246         0.0  \n",
            "113247         0.0  \n",
            "113248         0.0  \n"
          ]
        }
      ],
      "source": [
        "import yfinance as yf\n",
        "import pandas as pd\n",
        "from datetime import datetime\n",
        "import os\n",
        "\n",
        "# Tickers usados previamente (ajusta si alguno no es compatible con yfinance)\n",
        "tickers = [\n",
        "    \"MMM\", \"MRK\", \"MSFT\", \"NKE\", \"NVDA\", \"PG\", \"SHW\", \"^SPX\", \"UNH\", \"UUP\",\n",
        "    \"V\", \"VZ\", \"WMT\", \"XLF\", \"XLV\", \"^DJI\", \"KO\", \"TRV\", \"JPY=X\", \"DIS\",\n",
        "    \"JNJ\", \"^TNX\", \"AAPL\", \"AMGN\", \"AMZN\", \"AXP\", \"BA\", \"CAT\", \"CL=F\",\n",
        "    \"CRM\", \"CSCO\", \"CVX\", \"DX-Y.NYB\", \"EURUSD=X\", \"GBPUSD=X\", \"GC=F\",\n",
        "    \"GS\", \"HD\", \"HON\", \"IBM\", \"JPM\", \"^VIX\"\n",
        "]\n",
        "\n",
        "# Fechas de actualización\n",
        "start_date = \"2025-05-12\"\n",
        "end_date = \"2025-06-13\"\n",
        "\n",
        "# Descargar nuevos datos\n",
        "print(f\"📥 Descargando datos desde {start_date} hasta {end_date}\")\n",
        "new_data = yf.download(tickers, start=start_date, end=end_date, group_by='date', auto_adjust=False)\n",
        "\n",
        "# Transformar en formato largo\n",
        "data_list = []\n",
        "for ticker in tickers:\n",
        "    if ticker in new_data.columns.levels[0]:\n",
        "        df = new_data[ticker].copy()\n",
        "        df['Ticker'] = ticker\n",
        "        df['Date'] = df.index\n",
        "        data_list.append(df.reset_index(drop=True))\n",
        "\n",
        "new_df = pd.concat(data_list, ignore_index=True)\n",
        "\n",
        "# Renombrar columnas para que coincidan con final_df\n",
        "new_df = new_df.rename(columns={\n",
        "    'Open': 'Open',\n",
        "    'High': 'High',\n",
        "    'Low': 'Low',\n",
        "    'Close': 'Close',\n",
        "    'Volume': 'Volume'\n",
        "})[['Date', 'Ticker', 'Open', 'High', 'Low', 'Close', 'Volume']]\n",
        "\n",
        "# ✅ Ruta segura donde se guardó el dataset anterior\n",
        "ruta_anterior = \"/workspaces/sebasProyecto-Dow-Jones-2025sebas/datos_limpios_hasta_2025-05-09.csv\"\n",
        "ruta_actualizada = \"/workspaces/sebasProyecto-Dow-Jones-2025sebas/datos_actualizados_hasta_2025-06-12.csv\"\n",
        "\n",
        "# Cargar datos anteriores\n",
        "final_df = pd.read_csv(ruta_anterior)\n",
        "\n",
        "# Asegurarse de que Date sea datetime\n",
        "final_df['Date'] = pd.to_datetime(final_df['Date'])\n",
        "new_df['Date'] = pd.to_datetime(new_df['Date'])\n",
        "\n",
        "# Concatenar y quitar duplicados\n",
        "final_df = pd.concat([final_df, new_df], ignore_index=True)\n",
        "final_df = final_df.drop_duplicates(subset=['Date', 'Ticker'])\n",
        "\n",
        "# Guardar archivo actualizado\n",
        "final_df.to_csv(ruta_actualizada, index=False)\n",
        "print(f\"✅ Datos actualizados guardados en: {ruta_actualizada}\")\n",
        "print(f\"📅 Última fecha registrada: {final_df['Date'].max().date()}\")\n",
        "\n",
        "# Vista final\n",
        "print(final_df.tail(42))\n"
      ]
    },
    {
      "cell_type": "code",
      "execution_count": null,
      "metadata": {
        "colab": {
          "base_uri": "https://localhost:8080/"
        },
        "id": "G-eY-Wth8egX",
        "outputId": "b335bd58-0b51-455d-f45a-8c3eb7186d54"
      },
      "outputs": [
        {
          "name": "stdout",
          "output_type": "stream",
          "text": [
            "             Date    Ticker          Open          High           Low  \\\n",
            "113207 2025-06-12       JPM    266.859985    268.290009    265.140015   \n",
            "113208 2025-06-12       MMM    146.419998    147.270004    144.490005   \n",
            "113209 2025-06-12       UUP     27.090000     27.139999     27.059999   \n",
            "113210 2025-06-12       MRK     80.190002     82.110001     80.070000   \n",
            "113211 2025-06-12      CL=F     69.029999     69.290001     66.720001   \n",
            "113212 2025-06-12       CAT    359.850006    362.000000    357.869995   \n",
            "113213 2025-06-12       WMT     94.889999     95.260002     93.430000   \n",
            "113214 2025-06-12        BA    202.169998    206.339996    201.279999   \n",
            "113215 2025-06-12       XLF     50.700001     51.009998     50.500000   \n",
            "113216 2025-06-12       AXP    296.670013    298.579987    294.000000   \n",
            "113217 2025-06-12       XLV    135.759995    136.839996    135.490005   \n",
            "113218 2025-06-12        VZ     43.880001     43.889999     42.910000   \n",
            "113219 2025-06-12      AMZN    211.779999    213.580002    211.330002   \n",
            "113220 2025-06-12      AMGN    294.209991    297.440002    292.679993   \n",
            "113221 2025-06-12        KO     72.250000     72.400002     71.599998   \n",
            "113222 2025-06-12      AAPL    199.080002    199.679993    197.360001   \n",
            "113223 2025-06-12       TRV    260.290009    266.079987    258.839996   \n",
            "113224 2025-06-12      ^TNX      4.367000      4.387000      4.344000   \n",
            "113225 2025-06-12     JPY=X    144.203003    144.324997    143.205994   \n",
            "113226 2025-06-12       JNJ    156.240005    156.679993    155.169998   \n",
            "113227 2025-06-12      ^DJI  42737.359375  42970.398438  42606.421875   \n",
            "113228 2025-06-12       IBM    281.529999    283.059998    279.829987   \n",
            "113229 2025-06-12       CRM    264.700012    269.019989    263.399994   \n",
            "113230 2025-06-12      CSCO     64.320000     65.209999     64.110001   \n",
            "113231 2025-06-12       HON    225.029999    226.710007    223.770004   \n",
            "113232 2025-06-12      MSFT    475.019989    480.420013    473.519989   \n",
            "113233 2025-06-12        HD    360.809998    365.070007    358.510010   \n",
            "113234 2025-06-12       NKE     62.740002     62.930000     61.759998   \n",
            "113235 2025-06-12        GS    621.000000    626.010010    615.799988   \n",
            "113236 2025-06-12      NVDA    141.970001    145.000000    141.850006   \n",
            "113237 2025-06-12      GC=F   3363.000000   3395.899902   3353.399902   \n",
            "113238 2025-06-12         V    372.230011    374.170013    369.549988   \n",
            "113239 2025-06-12        PG    161.970001    163.309998    161.679993   \n",
            "113240 2025-06-12       SHW    357.660004    357.660004    354.290009   \n",
            "113241 2025-06-12  EURUSD=X      1.150933      1.162872      1.150285   \n",
            "113242 2025-06-12      ^SPX   6009.899902   6045.430176   6003.879883   \n",
            "113243 2025-06-12  DX-Y.NYB     98.459999     98.519997     97.599998   \n",
            "113244 2025-06-12       UNH    311.399994    318.799988    308.510010   \n",
            "113245 2025-06-12       CVX    144.500000    145.199997    143.429993   \n",
            "113246 2025-06-12       DIS    118.870003    119.389999    117.660004   \n",
            "113247 2025-06-12  GBPUSD=X      1.356871      1.362361      1.352612   \n",
            "113248 2025-06-12      ^VIX     17.870001     18.870001     17.430000   \n",
            "\n",
            "               Close        Volume  \n",
            "113207    268.239990  6.618000e+06  \n",
            "113208    144.770004  2.069700e+06  \n",
            "113209     27.100000  1.260800e+06  \n",
            "113210     81.820000  1.316920e+07  \n",
            "113211     68.040001  3.793940e+05  \n",
            "113212    360.959991  1.571800e+06  \n",
            "113213     94.830002  1.784570e+07  \n",
            "113214    203.750000  3.058660e+07  \n",
            "113215     51.000000  2.550090e+07  \n",
            "113216    297.989990  1.604500e+06  \n",
            "113217    136.809998  9.809500e+06  \n",
            "113218     43.160000  2.237050e+07  \n",
            "113219    213.240005  2.764000e+07  \n",
            "113220    297.290009  2.159700e+06  \n",
            "113221     72.239998  1.280690e+07  \n",
            "113222    199.199997  4.390460e+07  \n",
            "113223    265.950012  1.141400e+06  \n",
            "113224      4.357000  0.000000e+00  \n",
            "113225    144.203003  0.000000e+00  \n",
            "113226    156.660004  7.075500e+06  \n",
            "113227  42967.621094  4.557600e+08  \n",
            "113228    281.029999  3.418000e+06  \n",
            "113229    266.910004  8.054000e+06  \n",
            "113230     65.099998  1.516080e+07  \n",
            "113231    226.050003  1.598800e+06  \n",
            "113232    478.869995  1.895060e+07  \n",
            "113233    363.160004  2.921900e+06  \n",
            "113234     62.799999  9.830500e+06  \n",
            "113235    625.109985  1.634700e+06  \n",
            "113236    145.000000  1.623650e+08  \n",
            "113237   3380.899902  1.818000e+03  \n",
            "113238    371.399994  4.874000e+06  \n",
            "113239    163.179993  6.509900e+06  \n",
            "113240    356.200012  8.885000e+05  \n",
            "113241      1.150933  0.000000e+00  \n",
            "113242   6045.259766  4.669500e+09  \n",
            "113243     97.919998  0.000000e+00  \n",
            "113244    318.500000  1.595720e+07  \n",
            "113245    144.970001  6.999400e+06  \n",
            "113246    118.610001  7.980300e+06  \n",
            "113247      1.356742  0.000000e+00  \n",
            "113248     18.020000  0.000000e+00  \n"
          ]
        }
      ],
      "source": [
        "# Ordenar por fecha\n",
        "final_df = final_df.sort_values(by='Date').reset_index(drop=True)\n",
        "print(final_df.tail(42))"
      ]
    },
    {
      "cell_type": "markdown",
      "metadata": {
        "id": "8SLC0yyJI9te"
      },
      "source": [
        "CODIGO PABLO MORENA VARIABLES"
      ]
    },
    {
      "cell_type": "code",
      "execution_count": null,
      "metadata": {
        "id": "TxhZoJTPI_pq"
      },
      "outputs": [],
      "source": [
        "final_df['Close'] = pd.to_numeric(final_df['Close'], errors='coerce')"
      ]
    },
    {
      "cell_type": "code",
      "execution_count": null,
      "metadata": {
        "colab": {
          "base_uri": "https://localhost:8080/"
        },
        "id": "F56CF0cEJDmA",
        "outputId": "d95afad4-cc26-4b97-88c6-0425d2b556b2"
      },
      "outputs": [
        {
          "name": "stdout",
          "output_type": "stream",
          "text": [
            "0           24.288584\n",
            "1           22.925109\n",
            "2           31.685670\n",
            "3           44.296676\n",
            "4           48.216294\n",
            "             ...     \n",
            "113244    1405.657167\n",
            "113245    1211.705295\n",
            "113246    1043.536789\n",
            "113247     883.201397\n",
            "113248     750.096566\n",
            "Name: Close, Length: 113249, dtype: float64\n"
          ]
        }
      ],
      "source": [
        "#Calcular las medias móviles exponenciales (EMA)\n",
        "ema_12 = final_df['Close'].ewm(span=12, adjust=False).mean()\n",
        "ema_26 = final_df['Close'].ewm(span=26, adjust=False).mean()\n",
        "\n",
        "print(ema_12)"
      ]
    },
    {
      "cell_type": "code",
      "execution_count": null,
      "metadata": {
        "colab": {
          "base_uri": "https://localhost:8080/"
        },
        "id": "TMN1PYr1JEyx",
        "outputId": "8bf1b31f-fd00-4a9b-ff59-ca6debcbe091"
      },
      "outputs": [
        {
          "name": "stderr",
          "output_type": "stream",
          "text": [
            "/tmp/ipykernel_2228/2819583313.py:18: FutureWarning: DataFrameGroupBy.apply operated on the grouping columns. This behavior is deprecated, and in a future version of pandas the grouping columns will be excluded from the operation. Either pass `include_groups=False` to exclude the groupings or explicitly select the grouping columns after groupby to silence this warning.\n",
            "  final_df = final_df.groupby(\"Ticker\").apply(calcular_macd).reset_index(drop=True)\n"
          ]
        }
      ],
      "source": [
        "def calcular_macd(grupo):\n",
        "    close = grupo['Close']\n",
        "    ema_12 = close.ewm(span=12, adjust=False).mean()\n",
        "    ema_26 = close.ewm(span=26, adjust=False).mean()\n",
        "    ema_50 = close.ewm(span=50, adjust=False).mean()\n",
        "    ema_150 = close.ewm(span=150, adjust=False).mean()\n",
        "    macd = ema_12 - ema_26\n",
        "    signal = macd.ewm(span=9, adjust=False).mean()\n",
        "    grupo[\"MACD\"] = macd\n",
        "    grupo[\"MACD_Signal\"] = signal\n",
        "    grupo[\"MACD_Hist\"] = macd - signal\n",
        "    grupo[\"EMA_50\"] = ema_50\n",
        "    grupo[\"EMA_150\"] = ema_150\n",
        "\n",
        "    return grupo\n",
        "\n",
        "# Aplicar por ticker\n",
        "final_df = final_df.groupby(\"Ticker\").apply(calcular_macd).reset_index(drop=True)\n",
        "\n",
        "def interpretar_emas(ema_50, ema_150):\n",
        "    if pd.isna(ema_50) or pd.isna(ema_150):\n",
        "        return 'Sin datos'\n",
        "    elif ema_50 > ema_150:\n",
        "        return 'Tendencia Alcista'\n",
        "    elif ema_50 < ema_150:\n",
        "        return 'Tendencia Bajista'\n",
        "    else:\n",
        "        return 'Neutral'\n",
        "\n",
        "final_df['EMA_Signal'] = final_df.apply(lambda row: interpretar_emas(row['EMA_50'], row['EMA_150']), axis=1)"
      ]
    },
    {
      "cell_type": "code",
      "execution_count": null,
      "metadata": {
        "colab": {
          "base_uri": "https://localhost:8080/"
        },
        "id": "-XvkkVRzJJMt",
        "outputId": "dcb212eb-6b8f-44c2-babb-1eaf3e65bcb5"
      },
      "outputs": [
        {
          "name": "stderr",
          "output_type": "stream",
          "text": [
            "/tmp/ipykernel_2228/2007162344.py:7: FutureWarning: The 'method' keyword in Series.replace is deprecated and will be removed in a future version.\n",
            "  rs = avg_gain / avg_loss.replace(to_replace=0, method='ffill')\n",
            "/tmp/ipykernel_2228/2007162344.py:7: FutureWarning: The 'method' keyword in Series.replace is deprecated and will be removed in a future version.\n",
            "  rs = avg_gain / avg_loss.replace(to_replace=0, method='ffill')\n",
            "/tmp/ipykernel_2228/2007162344.py:7: FutureWarning: The 'method' keyword in Series.replace is deprecated and will be removed in a future version.\n",
            "  rs = avg_gain / avg_loss.replace(to_replace=0, method='ffill')\n",
            "/tmp/ipykernel_2228/2007162344.py:7: FutureWarning: The 'method' keyword in Series.replace is deprecated and will be removed in a future version.\n",
            "  rs = avg_gain / avg_loss.replace(to_replace=0, method='ffill')\n",
            "/tmp/ipykernel_2228/2007162344.py:7: FutureWarning: The 'method' keyword in Series.replace is deprecated and will be removed in a future version.\n",
            "  rs = avg_gain / avg_loss.replace(to_replace=0, method='ffill')\n",
            "/tmp/ipykernel_2228/2007162344.py:7: FutureWarning: The 'method' keyword in Series.replace is deprecated and will be removed in a future version.\n",
            "  rs = avg_gain / avg_loss.replace(to_replace=0, method='ffill')\n",
            "/tmp/ipykernel_2228/2007162344.py:7: FutureWarning: The 'method' keyword in Series.replace is deprecated and will be removed in a future version.\n",
            "  rs = avg_gain / avg_loss.replace(to_replace=0, method='ffill')\n",
            "/tmp/ipykernel_2228/2007162344.py:7: FutureWarning: The 'method' keyword in Series.replace is deprecated and will be removed in a future version.\n",
            "  rs = avg_gain / avg_loss.replace(to_replace=0, method='ffill')\n",
            "/tmp/ipykernel_2228/2007162344.py:7: FutureWarning: The 'method' keyword in Series.replace is deprecated and will be removed in a future version.\n",
            "  rs = avg_gain / avg_loss.replace(to_replace=0, method='ffill')\n",
            "/tmp/ipykernel_2228/2007162344.py:7: FutureWarning: The 'method' keyword in Series.replace is deprecated and will be removed in a future version.\n",
            "  rs = avg_gain / avg_loss.replace(to_replace=0, method='ffill')\n",
            "/tmp/ipykernel_2228/2007162344.py:7: FutureWarning: The 'method' keyword in Series.replace is deprecated and will be removed in a future version.\n",
            "  rs = avg_gain / avg_loss.replace(to_replace=0, method='ffill')\n",
            "/tmp/ipykernel_2228/2007162344.py:7: FutureWarning: The 'method' keyword in Series.replace is deprecated and will be removed in a future version.\n",
            "  rs = avg_gain / avg_loss.replace(to_replace=0, method='ffill')\n",
            "/tmp/ipykernel_2228/2007162344.py:7: FutureWarning: The 'method' keyword in Series.replace is deprecated and will be removed in a future version.\n",
            "  rs = avg_gain / avg_loss.replace(to_replace=0, method='ffill')\n",
            "/tmp/ipykernel_2228/2007162344.py:7: FutureWarning: The 'method' keyword in Series.replace is deprecated and will be removed in a future version.\n",
            "  rs = avg_gain / avg_loss.replace(to_replace=0, method='ffill')\n",
            "/tmp/ipykernel_2228/2007162344.py:7: FutureWarning: The 'method' keyword in Series.replace is deprecated and will be removed in a future version.\n",
            "  rs = avg_gain / avg_loss.replace(to_replace=0, method='ffill')\n",
            "/tmp/ipykernel_2228/2007162344.py:7: FutureWarning: The 'method' keyword in Series.replace is deprecated and will be removed in a future version.\n",
            "  rs = avg_gain / avg_loss.replace(to_replace=0, method='ffill')\n",
            "/tmp/ipykernel_2228/2007162344.py:7: FutureWarning: The 'method' keyword in Series.replace is deprecated and will be removed in a future version.\n",
            "  rs = avg_gain / avg_loss.replace(to_replace=0, method='ffill')\n",
            "/tmp/ipykernel_2228/2007162344.py:7: FutureWarning: The 'method' keyword in Series.replace is deprecated and will be removed in a future version.\n",
            "  rs = avg_gain / avg_loss.replace(to_replace=0, method='ffill')\n",
            "/tmp/ipykernel_2228/2007162344.py:7: FutureWarning: The 'method' keyword in Series.replace is deprecated and will be removed in a future version.\n",
            "  rs = avg_gain / avg_loss.replace(to_replace=0, method='ffill')\n",
            "/tmp/ipykernel_2228/2007162344.py:7: FutureWarning: The 'method' keyword in Series.replace is deprecated and will be removed in a future version.\n",
            "  rs = avg_gain / avg_loss.replace(to_replace=0, method='ffill')\n",
            "/tmp/ipykernel_2228/2007162344.py:7: FutureWarning: The 'method' keyword in Series.replace is deprecated and will be removed in a future version.\n",
            "  rs = avg_gain / avg_loss.replace(to_replace=0, method='ffill')\n",
            "/tmp/ipykernel_2228/2007162344.py:7: FutureWarning: The 'method' keyword in Series.replace is deprecated and will be removed in a future version.\n",
            "  rs = avg_gain / avg_loss.replace(to_replace=0, method='ffill')\n",
            "/tmp/ipykernel_2228/2007162344.py:7: FutureWarning: The 'method' keyword in Series.replace is deprecated and will be removed in a future version.\n",
            "  rs = avg_gain / avg_loss.replace(to_replace=0, method='ffill')\n",
            "/tmp/ipykernel_2228/2007162344.py:7: FutureWarning: The 'method' keyword in Series.replace is deprecated and will be removed in a future version.\n",
            "  rs = avg_gain / avg_loss.replace(to_replace=0, method='ffill')\n",
            "/tmp/ipykernel_2228/2007162344.py:7: FutureWarning: The 'method' keyword in Series.replace is deprecated and will be removed in a future version.\n",
            "  rs = avg_gain / avg_loss.replace(to_replace=0, method='ffill')\n",
            "/tmp/ipykernel_2228/2007162344.py:7: FutureWarning: The 'method' keyword in Series.replace is deprecated and will be removed in a future version.\n",
            "  rs = avg_gain / avg_loss.replace(to_replace=0, method='ffill')\n",
            "/tmp/ipykernel_2228/2007162344.py:7: FutureWarning: The 'method' keyword in Series.replace is deprecated and will be removed in a future version.\n",
            "  rs = avg_gain / avg_loss.replace(to_replace=0, method='ffill')\n",
            "/tmp/ipykernel_2228/2007162344.py:7: FutureWarning: The 'method' keyword in Series.replace is deprecated and will be removed in a future version.\n",
            "  rs = avg_gain / avg_loss.replace(to_replace=0, method='ffill')\n",
            "/tmp/ipykernel_2228/2007162344.py:7: FutureWarning: The 'method' keyword in Series.replace is deprecated and will be removed in a future version.\n",
            "  rs = avg_gain / avg_loss.replace(to_replace=0, method='ffill')\n",
            "/tmp/ipykernel_2228/2007162344.py:7: FutureWarning: The 'method' keyword in Series.replace is deprecated and will be removed in a future version.\n",
            "  rs = avg_gain / avg_loss.replace(to_replace=0, method='ffill')\n",
            "/tmp/ipykernel_2228/2007162344.py:7: FutureWarning: The 'method' keyword in Series.replace is deprecated and will be removed in a future version.\n",
            "  rs = avg_gain / avg_loss.replace(to_replace=0, method='ffill')\n",
            "/tmp/ipykernel_2228/2007162344.py:7: FutureWarning: The 'method' keyword in Series.replace is deprecated and will be removed in a future version.\n",
            "  rs = avg_gain / avg_loss.replace(to_replace=0, method='ffill')\n",
            "/tmp/ipykernel_2228/2007162344.py:7: FutureWarning: The 'method' keyword in Series.replace is deprecated and will be removed in a future version.\n",
            "  rs = avg_gain / avg_loss.replace(to_replace=0, method='ffill')\n",
            "/tmp/ipykernel_2228/2007162344.py:7: FutureWarning: The 'method' keyword in Series.replace is deprecated and will be removed in a future version.\n",
            "  rs = avg_gain / avg_loss.replace(to_replace=0, method='ffill')\n",
            "/tmp/ipykernel_2228/2007162344.py:7: FutureWarning: The 'method' keyword in Series.replace is deprecated and will be removed in a future version.\n",
            "  rs = avg_gain / avg_loss.replace(to_replace=0, method='ffill')\n",
            "/tmp/ipykernel_2228/2007162344.py:7: FutureWarning: The 'method' keyword in Series.replace is deprecated and will be removed in a future version.\n",
            "  rs = avg_gain / avg_loss.replace(to_replace=0, method='ffill')\n",
            "/tmp/ipykernel_2228/2007162344.py:7: FutureWarning: The 'method' keyword in Series.replace is deprecated and will be removed in a future version.\n",
            "  rs = avg_gain / avg_loss.replace(to_replace=0, method='ffill')\n",
            "/tmp/ipykernel_2228/2007162344.py:7: FutureWarning: The 'method' keyword in Series.replace is deprecated and will be removed in a future version.\n",
            "  rs = avg_gain / avg_loss.replace(to_replace=0, method='ffill')\n",
            "/tmp/ipykernel_2228/2007162344.py:7: FutureWarning: The 'method' keyword in Series.replace is deprecated and will be removed in a future version.\n",
            "  rs = avg_gain / avg_loss.replace(to_replace=0, method='ffill')\n",
            "/tmp/ipykernel_2228/2007162344.py:7: FutureWarning: The 'method' keyword in Series.replace is deprecated and will be removed in a future version.\n",
            "  rs = avg_gain / avg_loss.replace(to_replace=0, method='ffill')\n",
            "/tmp/ipykernel_2228/2007162344.py:7: FutureWarning: The 'method' keyword in Series.replace is deprecated and will be removed in a future version.\n",
            "  rs = avg_gain / avg_loss.replace(to_replace=0, method='ffill')\n",
            "/tmp/ipykernel_2228/2007162344.py:7: FutureWarning: The 'method' keyword in Series.replace is deprecated and will be removed in a future version.\n",
            "  rs = avg_gain / avg_loss.replace(to_replace=0, method='ffill')\n",
            "/tmp/ipykernel_2228/2007162344.py:7: FutureWarning: The 'method' keyword in Series.replace is deprecated and will be removed in a future version.\n",
            "  rs = avg_gain / avg_loss.replace(to_replace=0, method='ffill')\n",
            "/tmp/ipykernel_2228/2007162344.py:13: FutureWarning: DataFrameGroupBy.apply operated on the grouping columns. This behavior is deprecated, and in a future version of pandas the grouping columns will be excluded from the operation. Either pass `include_groups=False` to exclude the groupings or explicitly select the grouping columns after groupby to silence this warning.\n",
            "  final_df = final_df.groupby(\"Ticker\").apply(calcular_rsi).reset_index(drop=True)\n"
          ]
        }
      ],
      "source": [
        "def calcular_rsi(df, period=14, column='Close'):\n",
        "    delta = df[column].diff()\n",
        "    gain = delta.where(delta > 0, 0)\n",
        "    loss = -delta.where(delta < 0, 0)\n",
        "    avg_gain = gain.rolling(window=period).mean()\n",
        "    avg_loss = loss.rolling(window=period).mean()\n",
        "    rs = avg_gain / avg_loss.replace(to_replace=0, method='ffill')\n",
        "    rsi = 100 - (100 / (1 + rs))\n",
        "    df['RSI'] = rsi\n",
        "    return df\n",
        "\n",
        "#Aplicar por ticker\n",
        "final_df = final_df.groupby(\"Ticker\").apply(calcular_rsi).reset_index(drop=True)\n",
        "\n",
        "def interpretar_rsi(rsi):\n",
        "    if pd.isna(rsi):\n",
        "        return 'Sin datos'\n",
        "    elif rsi > 70:\n",
        "        return 'Sobrecompra'\n",
        "    elif rsi < 30:\n",
        "        return 'Sobreventa'\n",
        "    else:\n",
        "        return 'Neutral'\n",
        "\n",
        "final_df['RSI_Signal'] = final_df['RSI'].apply(interpretar_rsi)"
      ]
    },
    {
      "cell_type": "code",
      "execution_count": null,
      "metadata": {
        "colab": {
          "base_uri": "https://localhost:8080/"
        },
        "id": "X-whoPWgJNLj",
        "outputId": "43015a24-0a88-4597-afe6-54686bf9f6aa"
      },
      "outputs": [
        {
          "name": "stdout",
          "output_type": "stream",
          "text": [
            "559\n"
          ]
        }
      ],
      "source": [
        "print(final_df[\"RSI\"].isna().sum()) #Existen 546 datos NaN porque el period es 14 y esta filtrado según los Tickers. Por lo que 13 valores vacíos por 42 tickers hacen 546 valores Nan"
      ]
    },
    {
      "cell_type": "code",
      "execution_count": null,
      "metadata": {
        "colab": {
          "base_uri": "https://localhost:8080/"
        },
        "id": "ScT7TuNmJLEO",
        "outputId": "d4e99d1c-592a-4650-832b-b20d81074a7e"
      },
      "outputs": [
        {
          "name": "stdout",
          "output_type": "stream",
          "text": [
            "🧹 Columnas eliminadas: []\n",
            "🧹 Columnas eliminadas: []\n",
            "Date\n",
            "Ticker\n",
            "Open\n",
            "High\n",
            "Low\n",
            "Close\n",
            "Volume\n",
            "MACD\n",
            "MACD_Signal\n",
            "MACD_Hist\n",
            "EMA_50\n",
            "EMA_150\n",
            "EMA_Signal\n",
            "RSI\n",
            "RSI_Signal\n"
          ]
        }
      ],
      "source": [
        "# Eliminar columnas duplicadas generadas por nombres repetidos (como Close.1, High.1, etc.)\n",
        "columnas_a_borrar = [col for col in final_df.columns if any(sufijo in col for sufijo in [\".1\", \".2\", \".3\"])]\n",
        "final_df.drop(columns=columnas_a_borrar, inplace=True)\n",
        "# Borrar columnas con sufijos numéricos no deseados (del tipo .4, .5, ..., .42)\n",
        "columnas_a_borrar = [col for col in final_df.columns if any(col.endswith(f\".{i}\") for i in range(1, 43))]\n",
        "final_df.drop(columns=columnas_a_borrar, inplace=True)\n",
        "\n",
        "print(f\"🧹 Columnas eliminadas: {columnas_a_borrar}\")\n",
        "\n",
        "print(f\"🧹 Columnas eliminadas: {columnas_a_borrar}\")\n",
        "\n",
        "for i in final_df.columns:\n",
        "  print(i)"
      ]
    },
    {
      "cell_type": "code",
      "execution_count": null,
      "metadata": {
        "colab": {
          "base_uri": "https://localhost:8080/"
        },
        "id": "aXAe8KSENJjJ",
        "outputId": "e6684a25-828b-4590-9910-a8246fa00bd6"
      },
      "outputs": [
        {
          "name": "stdout",
          "output_type": "stream",
          "text": [
            "<class 'pandas.core.frame.DataFrame'>\n"
          ]
        }
      ],
      "source": [
        "print(type(final_df))"
      ]
    },
    {
      "cell_type": "code",
      "execution_count": null,
      "metadata": {
        "colab": {
          "base_uri": "https://localhost:8080/"
        },
        "id": "e3kXoP0_KijN",
        "outputId": "3b46298e-f450-4f89-df80-8fb2e0b50def"
      },
      "outputs": [
        {
          "name": "stdout",
          "output_type": "stream",
          "text": [
            "        Date Ticker       Open       High        Low      Close       Volume  \\\n",
            "0 2015-01-02   AAPL  24.746230  24.757338  23.848709  24.288584  212818400.0   \n",
            "1 2015-01-05   AAPL  24.057535  24.137513  23.417720  23.604332  257142000.0   \n",
            "2 2015-01-06   AAPL  23.668762  23.866483  23.244438  23.606558  263188400.0   \n",
            "3 2015-01-07   AAPL  23.815377  24.037535  23.704298  23.937565  160423600.0   \n",
            "4 2015-01-08   AAPL  24.266369  24.915071  24.148623  24.857309  237458000.0   \n",
            "\n",
            "       MACD  MACD_Signal  MACD_Hist     EMA_50    EMA_150         EMA_Signal  \\\n",
            "0  0.000000     0.000000   0.000000  24.288584  24.288584            Neutral   \n",
            "1 -0.054584    -0.010917  -0.043667  24.261750  24.279521  Tendencia Bajista   \n",
            "2 -0.096550    -0.028043  -0.068507  24.236057  24.270607  Tendencia Bajista   \n",
            "3 -0.101924    -0.042820  -0.059104  24.224351  24.266196  Tendencia Bajista   \n",
            "4 -0.031603    -0.040576   0.008974  24.249173  24.274026  Tendencia Bajista   \n",
            "\n",
            "   RSI RSI_Signal  \n",
            "0  NaN  Sin datos  \n",
            "1  NaN  Sin datos  \n",
            "2  NaN  Sin datos  \n",
            "3  NaN  Sin datos  \n",
            "4  NaN  Sin datos  \n"
          ]
        }
      ],
      "source": [
        "print(final_df.head())"
      ]
    },
    {
      "cell_type": "code",
      "execution_count": null,
      "metadata": {
        "colab": {
          "base_uri": "https://localhost:8080/"
        },
        "id": "4TPJPGCmKn5l",
        "outputId": "6694f577-fb9f-4a3c-841c-53d6391f827e"
      },
      "outputs": [
        {
          "name": "stdout",
          "output_type": "stream",
          "text": [
            "Date: 0\n",
            "Ticker: 0\n",
            "Open: 38\n",
            "High: 38\n",
            "Low: 38\n",
            "Close: 38\n",
            "Volume: 38\n",
            "MACD: 0\n",
            "MACD_Signal: 0\n",
            "MACD_Hist: 0\n",
            "EMA_50: 0\n",
            "EMA_150: 0\n",
            "EMA_Signal: 0\n",
            "RSI: 559\n",
            "RSI_Signal: 0\n"
          ]
        }
      ],
      "source": [
        "for i in final_df.columns:\n",
        "  print(f\"{i}: {final_df[i].isna().sum()}\")"
      ]
    },
    {
      "cell_type": "code",
      "execution_count": null,
      "metadata": {
        "id": "waRUK4-dOTcT"
      },
      "outputs": [],
      "source": [
        "final_df['Date'] = pd.to_datetime(final_df['Date'])"
      ]
    },
    {
      "cell_type": "code",
      "execution_count": null,
      "metadata": {
        "id": "bKISOkq5OV2K"
      },
      "outputs": [],
      "source": [
        "final_df = final_df.sort_values(by='Date').reset_index(drop=True)"
      ]
    },
    {
      "cell_type": "code",
      "execution_count": null,
      "metadata": {
        "colab": {
          "base_uri": "https://localhost:8080/"
        },
        "id": "MfqETsADOXJZ",
        "outputId": "ba35088d-b457-471e-c6c9-21faa37dd2ff"
      },
      "outputs": [
        {
          "name": "stdout",
          "output_type": "stream",
          "text": [
            "        Date Ticker       Open       High        Low      Close       Volume  \\\n",
            "0 2015-01-02   AAPL  24.746230  24.757338  23.848709  24.288584  212818400.0   \n",
            "1 2015-01-02    CVX  71.178256  72.051806  70.680908  71.784004    5898800.0   \n",
            "2 2015-01-02    UUP  20.838030  20.907145  20.829391  20.907145    1887600.0   \n",
            "3 2015-01-02   CSCO  20.236735  20.425592  19.888075  20.055141   22926500.0   \n",
            "4 2015-01-02      V  61.189606  61.972538  60.982833  61.570614    8389600.0   \n",
            "\n",
            "   MACD  MACD_Signal  MACD_Hist     EMA_50    EMA_150 EMA_Signal  RSI  \\\n",
            "0   0.0          0.0        0.0  24.288584  24.288584    Neutral  NaN   \n",
            "1   0.0          0.0        0.0  71.784004  71.784004    Neutral  NaN   \n",
            "2   0.0          0.0        0.0  20.907145  20.907145    Neutral  NaN   \n",
            "3   0.0          0.0        0.0  20.055141  20.055141    Neutral  NaN   \n",
            "4   0.0          0.0        0.0  61.570614  61.570614    Neutral  NaN   \n",
            "\n",
            "  RSI_Signal  \n",
            "0  Sin datos  \n",
            "1  Sin datos  \n",
            "2  Sin datos  \n",
            "3  Sin datos  \n",
            "4  Sin datos  \n"
          ]
        }
      ],
      "source": [
        "print(final_df.head())"
      ]
    },
    {
      "cell_type": "markdown",
      "metadata": {
        "id": "yyq6vukBPnCz"
      },
      "source": [
        "CODIGO PABLO RODADO ADX Y ATR"
      ]
    },
    {
      "cell_type": "code",
      "execution_count": null,
      "metadata": {
        "colab": {
          "base_uri": "https://localhost:8080/"
        },
        "id": "U0PUDEIbOzsX",
        "outputId": "39663f5d-e7d6-4dd4-ab66-80a211946579"
      },
      "outputs": [
        {
          "name": "stdout",
          "output_type": "stream",
          "text": [
            "✅ Columna ADX y clasificaciones añadidas. Guardado en: /workspaces/sebasProyecto-Dow-Jones-2025sebas/DowJones_ConExtras_10y_ADX.csv\n",
            "📅 Última fecha registrada: 2025-06-12\n",
            "🔍 Últimas 50 filas del dataset:\n",
            "             Date    Ticker          Open          High           Low  \\\n",
            "113161 2025-06-11        VZ     44.189999     44.400002     43.689999   \n",
            "113162 2025-06-11       WMT     97.290001     97.290001     95.349998   \n",
            "113163 2025-06-11       XLF     51.110001     51.340000     50.810001   \n",
            "113164 2025-06-11       XLV    135.710007    136.570007    135.339996   \n",
            "113165 2025-06-11      ^DJI  42882.859375  43115.691406  42738.621094   \n",
            "113166 2025-06-11      ^SPX   6049.379883   6059.399902   6002.319824   \n",
            "113167 2025-06-11      ^TNX      4.498000      4.506000      4.407000   \n",
            "113168 2025-06-11      ^VIX     17.040001     18.090000     16.230000   \n",
            "113169 2025-06-12      AAPL    199.080002    199.679993    197.360001   \n",
            "113170 2025-06-12      AMGN    294.209991    297.440002    292.679993   \n",
            "113171 2025-06-12      AMZN    211.779999    213.580002    211.330002   \n",
            "113172 2025-06-12       AXP    296.670013    298.579987    294.000000   \n",
            "113173 2025-06-12        BA    202.169998    206.339996    201.279999   \n",
            "113174 2025-06-12       CAT    359.850006    362.000000    357.869995   \n",
            "113175 2025-06-12      CL=F     69.029999     69.290001     66.720001   \n",
            "113176 2025-06-12       CRM    264.700012    269.019989    263.399994   \n",
            "113177 2025-06-12      CSCO     64.320000     65.209999     64.110001   \n",
            "113178 2025-06-12       CVX    144.500000    145.199997    143.429993   \n",
            "113179 2025-06-12       DIS    118.870003    119.389999    117.660004   \n",
            "113180 2025-06-12  DX-Y.NYB     98.459999     98.519997     97.599998   \n",
            "113181 2025-06-12  EURUSD=X      1.150933      1.162872      1.150285   \n",
            "113182 2025-06-12  GBPUSD=X      1.356871      1.362361      1.352612   \n",
            "113183 2025-06-12      GC=F   3363.000000   3395.899902   3353.399902   \n",
            "113184 2025-06-12        GS    621.000000    626.010010    615.799988   \n",
            "113185 2025-06-12        HD    360.809998    365.070007    358.510010   \n",
            "113186 2025-06-12       HON    225.029999    226.710007    223.770004   \n",
            "113187 2025-06-12       IBM    281.529999    283.059998    279.829987   \n",
            "113188 2025-06-12       JNJ    156.240005    156.679993    155.169998   \n",
            "113189 2025-06-12       JPM    266.859985    268.290009    265.140015   \n",
            "113190 2025-06-12     JPY=X    144.203003    144.324997    143.205994   \n",
            "113191 2025-06-12        KO     72.250000     72.400002     71.599998   \n",
            "113192 2025-06-12       MMM    146.419998    147.270004    144.490005   \n",
            "113193 2025-06-12       MRK     80.190002     82.110001     80.070000   \n",
            "113194 2025-06-12      MSFT    475.019989    480.420013    473.519989   \n",
            "113195 2025-06-12       NKE     62.740002     62.930000     61.759998   \n",
            "113196 2025-06-12      NVDA    141.970001    145.000000    141.850006   \n",
            "113197 2025-06-12        PG    161.970001    163.309998    161.679993   \n",
            "113198 2025-06-12       SHW    357.660004    357.660004    354.290009   \n",
            "113199 2025-06-12       TRV    260.290009    266.079987    258.839996   \n",
            "113200 2025-06-12       UNH    311.399994    318.799988    308.510010   \n",
            "113201 2025-06-12       UUP     27.090000     27.139999     27.059999   \n",
            "113202 2025-06-12         V    372.230011    374.170013    369.549988   \n",
            "113203 2025-06-12        VZ     43.880001     43.889999     42.910000   \n",
            "113204 2025-06-12       WMT     94.889999     95.260002     93.430000   \n",
            "113205 2025-06-12       XLF     50.700001     51.009998     50.500000   \n",
            "113206 2025-06-12       XLV    135.759995    136.839996    135.490005   \n",
            "113207 2025-06-12      ^DJI  42737.359375  42970.398438  42606.421875   \n",
            "113208 2025-06-12      ^SPX   6009.899902   6045.430176   6003.879883   \n",
            "113209 2025-06-12      ^TNX      4.367000      4.387000      4.344000   \n",
            "113210 2025-06-12      ^VIX     17.870001     18.870001     17.430000   \n",
            "\n",
            "               Close        Volume        ADX Trend_Strength  \n",
            "113161     43.740002  1.460210e+07  11.151111       No Trend  \n",
            "113162     95.800003  1.638960e+07  10.571818       No Trend  \n",
            "113163     51.000000  3.936840e+07  11.357645       No Trend  \n",
            "113164    135.750000  1.364400e+07  19.005134       No Trend  \n",
            "113165  42865.769531  4.672600e+08  11.533330       No Trend  \n",
            "113166   6022.240234  5.111550e+09  16.976539       No Trend  \n",
            "113167      4.412000  0.000000e+00  11.617472       No Trend  \n",
            "113168     17.260000  0.000000e+00  17.574512       No Trend  \n",
            "113169    199.199997  4.390460e+07  16.035297       No Trend  \n",
            "113170    297.290009  2.159700e+06  23.111078     Weak Trend  \n",
            "113171    213.240005  2.764000e+07  23.590231     Weak Trend  \n",
            "113172    297.989990  1.604500e+06  17.926564       No Trend  \n",
            "113173    203.750000  3.058660e+07  38.437581   Strong Trend  \n",
            "113174    360.959991  1.571800e+06  26.706328     Weak Trend  \n",
            "113175     68.040001  3.793940e+05  20.239248     Weak Trend  \n",
            "113176    266.910004  8.054000e+06  21.391303     Weak Trend  \n",
            "113177     65.099998  1.516080e+07  31.483474   Strong Trend  \n",
            "113178    144.970001  6.999400e+06  18.435475       No Trend  \n",
            "113179    118.610001  7.980300e+06  43.316547   Strong Trend  \n",
            "113180     97.919998  0.000000e+00  16.980436       No Trend  \n",
            "113181      1.150933  0.000000e+00  16.425700       No Trend  \n",
            "113182      1.356742  0.000000e+00  23.194816     Weak Trend  \n",
            "113183   3380.899902  1.818000e+03  10.533742       No Trend  \n",
            "113184    625.109985  1.634700e+06  16.557606       No Trend  \n",
            "113185    363.160004  2.921900e+06  13.504001       No Trend  \n",
            "113186    226.050003  1.598800e+06  28.581927     Weak Trend  \n",
            "113187    281.029999  3.418000e+06  22.203449     Weak Trend  \n",
            "113188    156.660004  7.075500e+06   9.525599       No Trend  \n",
            "113189    268.239990  6.618000e+06  19.406983       No Trend  \n",
            "113190    144.203003  0.000000e+00  10.549745       No Trend  \n",
            "113191     72.239998  1.280690e+07  10.110910       No Trend  \n",
            "113192    144.770004  2.069700e+06  12.110435       No Trend  \n",
            "113193     81.820000  1.316920e+07  17.656576       No Trend  \n",
            "113194    478.869995  1.895060e+07  43.744872   Strong Trend  \n",
            "113195     62.799999  9.830500e+06  15.828496       No Trend  \n",
            "113196    145.000000  1.623650e+08  35.954592   Strong Trend  \n",
            "113197    163.179993  6.509900e+06  16.051737       No Trend  \n",
            "113198    356.200012  8.885000e+05  19.843387       No Trend  \n",
            "113199    265.950012  1.141400e+06  16.184830       No Trend  \n",
            "113200    318.500000  1.595720e+07  37.456157   Strong Trend  \n",
            "113201     27.100000  1.260800e+06  13.987748       No Trend  \n",
            "113202    371.399994  4.874000e+06  26.864149     Weak Trend  \n",
            "113203     43.160000  2.237050e+07  11.015114       No Trend  \n",
            "113204     94.830002  1.784570e+07  11.614792       No Trend  \n",
            "113205     51.000000  2.550090e+07  10.756475       No Trend  \n",
            "113206    136.809998  9.809500e+06  18.401098       No Trend  \n",
            "113207  42967.621094  4.557600e+08  11.626990       No Trend  \n",
            "113208   6045.259766  4.669500e+09  17.258070       No Trend  \n",
            "113209      4.357000  0.000000e+00  11.486675       No Trend  \n",
            "113210     18.020000  0.000000e+00  17.686149       No Trend  \n"
          ]
        }
      ],
      "source": [
        "import pandas as pd\n",
        "import numpy as np\n",
        "import ta\n",
        "import os\n",
        "\n",
        "# ✅ Ruta absoluta donde está tu archivo base limpio (ajústala si cambiaste el nombre)\n",
        "ruta_entrada = \"/workspaces/sebasProyecto-Dow-Jones-2025sebas/datos_actualizados_hasta_2025-06-12.csv\"\n",
        "\n",
        "# ✅ Ruta donde se guardará el nuevo archivo con ADX\n",
        "ruta_salida = \"/workspaces/sebasProyecto-Dow-Jones-2025sebas/DowJones_ConExtras_10y_ADX.csv\"\n",
        "\n",
        "# Cargar datos\n",
        "final_df = pd.read_csv(ruta_entrada)\n",
        "\n",
        "# Asegurar que Date sea tipo datetime\n",
        "final_df['Date'] = pd.to_datetime(final_df['Date'])\n",
        "\n",
        "# Lista para guardar dataframes por ticker con ADX\n",
        "adx_list = []\n",
        "\n",
        "for ticker in final_df['Ticker'].unique():\n",
        "    df_ticker = final_df[final_df['Ticker'] == ticker].copy()\n",
        "    df_ticker.sort_values(\"Date\", inplace=True)\n",
        "\n",
        "    # Asegurar que columnas clave sean numéricas\n",
        "    for col in ['High', 'Low', 'Close']:\n",
        "        df_ticker[col] = pd.to_numeric(df_ticker[col], errors='coerce')\n",
        "\n",
        "    # Eliminar filas con datos faltantes\n",
        "    df_ticker.dropna(subset=['High', 'Low', 'Close'], inplace=True)\n",
        "\n",
        "    # Calcular ADX\n",
        "    adx_indicator = ta.trend.ADXIndicator(\n",
        "        high=df_ticker['High'],\n",
        "        low=df_ticker['Low'],\n",
        "        close=df_ticker['Close'],\n",
        "        window=14,\n",
        "        fillna=True\n",
        "    )\n",
        "\n",
        "    df_ticker['ADX'] = adx_indicator.adx()\n",
        "    adx_list.append(df_ticker)\n",
        "\n",
        "# Concatenar todos los tickers con su ADX\n",
        "final_df = pd.concat(adx_list).sort_values(['Date', 'Ticker']).reset_index(drop=True)\n",
        "\n",
        "# Clasificación de fuerza de la tendencia\n",
        "def categorize_adx(adx_value):\n",
        "    if adx_value < 20:\n",
        "        return 'No Trend'\n",
        "    elif adx_value < 30:\n",
        "        return 'Weak Trend'\n",
        "    else:\n",
        "        return 'Strong Trend'\n",
        "\n",
        "final_df['Trend_Strength'] = final_df['ADX'].apply(categorize_adx)\n",
        "\n",
        "# Guardar en ruta segura\n",
        "final_df.to_csv(ruta_salida, index=False)\n",
        "print(f\"✅ Columna ADX y clasificaciones añadidas. Guardado en: {ruta_salida}\")\n",
        "print(f\"📅 Última fecha registrada: {final_df['Date'].max().date()}\")\n",
        "print(\"🔍 Últimas 50 filas del dataset:\")\n",
        "print(final_df.tail(50))\n"
      ]
    },
    {
      "cell_type": "code",
      "execution_count": null,
      "metadata": {
        "colab": {
          "base_uri": "https://localhost:8080/"
        },
        "id": "NRCP8pupPlN3",
        "outputId": "c7224945-38c7-43e0-ec52-46bef536e102"
      },
      "outputs": [
        {
          "name": "stdout",
          "output_type": "stream",
          "text": [
            "✅ ATR añadido y archivo guardado en: /workspaces/sebasProyecto-Dow-Jones-2025sebas/DowJones_ConExtras_10y_ATR.csv\n",
            "📊 Porcentaje de 'ATR Alto': 1.69%\n",
            "🔍 Últimas 50 filas:\n",
            "             Date    Ticker          Open          High           Low  \\\n",
            "113161 2025-06-11        VZ     44.189999     44.400002     43.689999   \n",
            "113162 2025-06-11       WMT     97.290001     97.290001     95.349998   \n",
            "113163 2025-06-11       XLF     51.110001     51.340000     50.810001   \n",
            "113164 2025-06-11       XLV    135.710007    136.570007    135.339996   \n",
            "113165 2025-06-11      ^DJI  42882.859375  43115.691406  42738.621094   \n",
            "113166 2025-06-11      ^SPX   6049.379883   6059.399902   6002.319824   \n",
            "113167 2025-06-11      ^TNX      4.498000      4.506000      4.407000   \n",
            "113168 2025-06-11      ^VIX     17.040001     18.090000     16.230000   \n",
            "113169 2025-06-12      AAPL    199.080002    199.679993    197.360001   \n",
            "113170 2025-06-12      AMGN    294.209991    297.440002    292.679993   \n",
            "113171 2025-06-12      AMZN    211.779999    213.580002    211.330002   \n",
            "113172 2025-06-12       AXP    296.670013    298.579987    294.000000   \n",
            "113173 2025-06-12        BA    202.169998    206.339996    201.279999   \n",
            "113174 2025-06-12       CAT    359.850006    362.000000    357.869995   \n",
            "113175 2025-06-12      CL=F     69.029999     69.290001     66.720001   \n",
            "113176 2025-06-12       CRM    264.700012    269.019989    263.399994   \n",
            "113177 2025-06-12      CSCO     64.320000     65.209999     64.110001   \n",
            "113178 2025-06-12       CVX    144.500000    145.199997    143.429993   \n",
            "113179 2025-06-12       DIS    118.870003    119.389999    117.660004   \n",
            "113180 2025-06-12  DX-Y.NYB     98.459999     98.519997     97.599998   \n",
            "113181 2025-06-12  EURUSD=X      1.150933      1.162872      1.150285   \n",
            "113182 2025-06-12  GBPUSD=X      1.356871      1.362361      1.352612   \n",
            "113183 2025-06-12      GC=F   3363.000000   3395.899902   3353.399902   \n",
            "113184 2025-06-12        GS    621.000000    626.010010    615.799988   \n",
            "113185 2025-06-12        HD    360.809998    365.070007    358.510010   \n",
            "113186 2025-06-12       HON    225.029999    226.710007    223.770004   \n",
            "113187 2025-06-12       IBM    281.529999    283.059998    279.829987   \n",
            "113188 2025-06-12       JNJ    156.240005    156.679993    155.169998   \n",
            "113189 2025-06-12       JPM    266.859985    268.290009    265.140015   \n",
            "113190 2025-06-12     JPY=X    144.203003    144.324997    143.205994   \n",
            "113191 2025-06-12        KO     72.250000     72.400002     71.599998   \n",
            "113192 2025-06-12       MMM    146.419998    147.270004    144.490005   \n",
            "113193 2025-06-12       MRK     80.190002     82.110001     80.070000   \n",
            "113194 2025-06-12      MSFT    475.019989    480.420013    473.519989   \n",
            "113195 2025-06-12       NKE     62.740002     62.930000     61.759998   \n",
            "113196 2025-06-12      NVDA    141.970001    145.000000    141.850006   \n",
            "113197 2025-06-12        PG    161.970001    163.309998    161.679993   \n",
            "113198 2025-06-12       SHW    357.660004    357.660004    354.290009   \n",
            "113199 2025-06-12       TRV    260.290009    266.079987    258.839996   \n",
            "113200 2025-06-12       UNH    311.399994    318.799988    308.510010   \n",
            "113201 2025-06-12       UUP     27.090000     27.139999     27.059999   \n",
            "113202 2025-06-12         V    372.230011    374.170013    369.549988   \n",
            "113203 2025-06-12        VZ     43.880001     43.889999     42.910000   \n",
            "113204 2025-06-12       WMT     94.889999     95.260002     93.430000   \n",
            "113205 2025-06-12       XLF     50.700001     51.009998     50.500000   \n",
            "113206 2025-06-12       XLV    135.759995    136.839996    135.490005   \n",
            "113207 2025-06-12      ^DJI  42737.359375  42970.398438  42606.421875   \n",
            "113208 2025-06-12      ^SPX   6009.899902   6045.430176   6003.879883   \n",
            "113209 2025-06-12      ^TNX      4.367000      4.387000      4.344000   \n",
            "113210 2025-06-12      ^VIX     17.870001     18.870001     17.430000   \n",
            "\n",
            "               Close        Volume        ADX Trend_Strength         ATR  \\\n",
            "113161     43.740002  1.460210e+07  11.151111       No Trend    0.693425   \n",
            "113162     95.800003  1.638960e+07  10.571818       No Trend    1.864584   \n",
            "113163     51.000000  3.936840e+07  11.357645       No Trend    0.686727   \n",
            "113164    135.750000  1.364400e+07  19.005134       No Trend    2.012562   \n",
            "113165  42865.769531  4.672600e+08  11.533330       No Trend  504.971937   \n",
            "113166   6022.240234  5.111550e+09  16.976539       No Trend   74.426079   \n",
            "113167      4.412000  0.000000e+00  11.617472       No Trend    0.081172   \n",
            "113168     17.260000  0.000000e+00  17.574512       No Trend    2.296637   \n",
            "113169    199.199997  4.390460e+07  16.035297       No Trend    5.065987   \n",
            "113170    297.290009  2.159700e+06  23.111078     Weak Trend    6.342104   \n",
            "113171    213.240005  2.764000e+07  23.590231     Weak Trend    5.134159   \n",
            "113172    297.989990  1.604500e+06  17.926564       No Trend    5.843180   \n",
            "113173    203.750000  3.058660e+07  38.437581   Strong Trend    5.602614   \n",
            "113174    360.959991  1.571800e+06  26.706328     Weak Trend    7.034963   \n",
            "113175     68.040001  3.793940e+05  20.239248     Weak Trend    2.147872   \n",
            "113176    266.910004  8.054000e+06  21.391303     Weak Trend    6.839974   \n",
            "113177     65.099998  1.516080e+07  31.483474   Strong Trend    1.126407   \n",
            "113178    144.970001  6.999400e+06  18.435475       No Trend    2.923083   \n",
            "113179    118.610001  7.980300e+06  43.316547   Strong Trend    2.418398   \n",
            "113180     97.919998  0.000000e+00  16.980436       No Trend    0.764056   \n",
            "113181      1.150933  0.000000e+00  16.425700       No Trend    0.010880   \n",
            "113182      1.356742  0.000000e+00  23.194816     Weak Trend    0.010004   \n",
            "113183   3380.899902  1.818000e+03  10.533742       No Trend   59.722445   \n",
            "113184    625.109985  1.634700e+06  16.557606       No Trend   13.622560   \n",
            "113185    363.160004  2.921900e+06  13.504001       No Trend    6.822017   \n",
            "113186    226.050003  1.598800e+06  28.581927     Weak Trend    3.566807   \n",
            "113187    281.029999  3.418000e+06  22.203449     Weak Trend    5.072910   \n",
            "113188    156.660004  7.075500e+06   9.525599       No Trend    2.297866   \n",
            "113189    268.239990  6.618000e+06  19.406983       No Trend    4.508386   \n",
            "113190    144.203003  0.000000e+00  10.549745       No Trend    1.723312   \n",
            "113191     72.239998  1.280690e+07  10.110910       No Trend    0.983774   \n",
            "113192    144.770004  2.069700e+06  12.110435       No Trend    3.252513   \n",
            "113193     81.820000  1.316920e+07  17.656576       No Trend    2.032410   \n",
            "113194    478.869995  1.895060e+07  43.744872   Strong Trend    7.026622   \n",
            "113195     62.799999  9.830500e+06  15.828496       No Trend    1.811426   \n",
            "113196    145.000000  1.623650e+08  35.954592   Strong Trend    4.255026   \n",
            "113197    163.179993  6.509900e+06  16.051737       No Trend    2.452436   \n",
            "113198    356.200012  8.885000e+05  19.843387       No Trend    6.417818   \n",
            "113199    265.950012  1.141400e+06  16.184830       No Trend    5.315000   \n",
            "113200    318.500000  1.595720e+07  37.456157   Strong Trend   12.919219   \n",
            "113201     27.100000  1.260800e+06  13.987748       No Trend    0.167954   \n",
            "113202    371.399994  4.874000e+06  26.864149     Weak Trend    5.817719   \n",
            "113203     43.160000  2.237050e+07  11.015114       No Trend    0.713895   \n",
            "113204     94.830002  1.784570e+07  11.614792       No Trend    1.900685   \n",
            "113205     51.000000  2.550090e+07  10.756475       No Trend    0.674103   \n",
            "113206    136.809998  9.809500e+06  18.401098       No Trend    1.965236   \n",
            "113207  42967.621094  4.557600e+08  11.626990       No Trend  494.900839   \n",
            "113208   6045.259766  4.669500e+09  17.258070       No Trend   72.077809   \n",
            "113209      4.357000  0.000000e+00  11.486675       No Trend    0.080231   \n",
            "113210     18.020000  0.000000e+00  17.686149       No Trend    2.247592   \n",
            "\n",
            "        ATR_Mean30  ATR_Alto  \n",
            "113161    0.885761     False  \n",
            "113162    2.237121     False  \n",
            "113163    0.952788     False  \n",
            "113164    2.623650     False  \n",
            "113165  706.410038     False  \n",
            "113166  105.223184     False  \n",
            "113167    0.088948     False  \n",
            "113168    3.548835     False  \n",
            "113169    6.536512     False  \n",
            "113170    7.918226     False  \n",
            "113171    6.674247     False  \n",
            "113172    7.882519     False  \n",
            "113173    5.733721     False  \n",
            "113174    8.996694     False  \n",
            "113175    2.273864     False  \n",
            "113176    7.747961     False  \n",
            "113177    1.304904     False  \n",
            "113178    3.432114     False  \n",
            "113179    2.855673     False  \n",
            "113180    0.858969     False  \n",
            "113181    0.011247     False  \n",
            "113182    0.011459     False  \n",
            "113183   68.823281     False  \n",
            "113184   17.027474     False  \n",
            "113185    8.030208     False  \n",
            "113186    4.582461     False  \n",
            "113187    6.370432     False  \n",
            "113188    2.932637     False  \n",
            "113189    6.023693     False  \n",
            "113190    1.938042     False  \n",
            "113191    1.245021     False  \n",
            "113192    4.005725     False  \n",
            "113193    2.438770     False  \n",
            "113194    9.811004     False  \n",
            "113195    2.086887     False  \n",
            "113196    5.110112     False  \n",
            "113197    3.154408     False  \n",
            "113198    8.053839     False  \n",
            "113199    5.533424     False  \n",
            "113200   17.932510     False  \n",
            "113201    0.192566     False  \n",
            "113202    7.142989     False  \n",
            "113203    0.870444     False  \n",
            "113204    2.205874     False  \n",
            "113205    0.930089     False  \n",
            "113206    2.588889     False  \n",
            "113207  689.780191     False  \n",
            "113208  102.650888     False  \n",
            "113209    0.088338     False  \n",
            "113210    3.432442     False  \n"
          ]
        }
      ],
      "source": [
        "import pandas as pd\n",
        "import numpy as np\n",
        "import ta\n",
        "import os\n",
        "\n",
        "# ✅ Ruta de entrada del dataset base (con ADX o sin él)\n",
        "ruta_entrada = \"/workspaces/sebasProyecto-Dow-Jones-2025sebas/DowJones_ConExtras_10y_ADX.csv\"\n",
        "\n",
        "# ✅ Ruta donde guardar el CSV con ATR añadido\n",
        "ruta_salida = \"/workspaces/sebasProyecto-Dow-Jones-2025sebas/DowJones_ConExtras_10y_ATR.csv\"\n",
        "\n",
        "# Cargar datos\n",
        "final_df = pd.read_csv(ruta_entrada)\n",
        "final_df['Date'] = pd.to_datetime(final_df['Date'])\n",
        "\n",
        "# Lista para guardar los resultados\n",
        "atr_list = []\n",
        "\n",
        "# Calcular ATR por ticker\n",
        "for ticker in final_df['Ticker'].unique():\n",
        "    df_ticker = final_df[final_df['Ticker'] == ticker].copy()\n",
        "    df_ticker.sort_values(\"Date\", inplace=True)\n",
        "\n",
        "    for col in ['High', 'Low', 'Close']:\n",
        "        df_ticker[col] = pd.to_numeric(df_ticker[col], errors='coerce')\n",
        "\n",
        "    df_ticker.dropna(subset=['High', 'Low', 'Close'], inplace=True)\n",
        "\n",
        "    # Calcular ATR (Average True Range)\n",
        "    atr_indicator = ta.volatility.AverageTrueRange(\n",
        "        high=df_ticker['High'],\n",
        "        low=df_ticker['Low'],\n",
        "        close=df_ticker['Close'],\n",
        "        window=14,\n",
        "        fillna=True\n",
        "    )\n",
        "\n",
        "    df_ticker['ATR'] = atr_indicator.average_true_range()\n",
        "    atr_list.append(df_ticker)\n",
        "\n",
        "# Concatenar los resultados\n",
        "final_df = pd.concat(atr_list).sort_values(['Date', 'Ticker']).reset_index(drop=True)\n",
        "\n",
        "# Añadir media móvil de ATR (30 días)\n",
        "final_df['ATR_Mean30'] = final_df.groupby('Ticker')['ATR'].transform(lambda x: x.rolling(30).mean())\n",
        "\n",
        "# Añadir columna booleana \"ATR alto\"\n",
        "final_df['ATR_Alto'] = final_df['ATR'] > final_df['ATR_Mean30'] * 1.5  # Puedes ajustar este umbral\n",
        "\n",
        "# Guardar resultado en ruta segura\n",
        "final_df.to_csv(ruta_salida, index=False)\n",
        "print(f\"✅ ATR añadido y archivo guardado en: {ruta_salida}\")\n",
        "\n",
        "# Mostrar porcentaje de veces que el ATR fue alto\n",
        "print(f\"📊 Porcentaje de 'ATR Alto': {final_df['ATR_Alto'].mean():.2%}\")\n",
        "\n",
        "# Mostrar últimas filas\n",
        "print(\"🔍 Últimas 50 filas:\")\n",
        "print(final_df.tail(50))\n"
      ]
    },
    {
      "cell_type": "code",
      "execution_count": null,
      "metadata": {
        "colab": {
          "base_uri": "https://localhost:8080/"
        },
        "id": "_Rr2RJPcgJle",
        "outputId": "e9883cdf-cd11-451c-8f7e-a79a69dbb0ed"
      },
      "outputs": [
        {
          "name": "stdout",
          "output_type": "stream",
          "text": [
            "           Date    Ticker       ATR  ATR_Mean30  ATR_Alto\n",
            "1219 2015-02-12  EURUSD=X  0.013763    0.008619      True\n",
            "1220 2015-02-12  GBPUSD=X  0.013638    0.007949      True\n",
            "1228 2015-02-12     JPY=X  1.285520    0.734875      True\n",
            "1250 2015-02-13      AAPL  0.612083    0.393575      True\n",
            "1251 2015-02-13      AMGN  3.144212    1.967972      True\n"
          ]
        }
      ],
      "source": [
        "atr_altos = final_df[final_df['ATR_Alto'] == True]\n",
        "print(atr_altos[['Date', 'Ticker', 'ATR', 'ATR_Mean30','ATR_Alto']].head())"
      ]
    },
    {
      "cell_type": "code",
      "execution_count": null,
      "metadata": {
        "colab": {
          "base_uri": "https://localhost:8080/"
        },
        "id": "eUdziZXiP-by",
        "outputId": "75c0f5dc-e0fc-4a03-ffd4-56acbc0a5e14"
      },
      "outputs": [
        {
          "name": "stdout",
          "output_type": "stream",
          "text": [
            "<class 'pandas.core.frame.DataFrame'>\n",
            "RangeIndex: 113211 entries, 0 to 113210\n",
            "Data columns (total 12 columns):\n",
            " #   Column          Non-Null Count   Dtype         \n",
            "---  ------          --------------   -----         \n",
            " 0   Date            113211 non-null  datetime64[ns]\n",
            " 1   Ticker          113211 non-null  object        \n",
            " 2   Open            113211 non-null  float64       \n",
            " 3   High            113211 non-null  float64       \n",
            " 4   Low             113211 non-null  float64       \n",
            " 5   Close           113211 non-null  float64       \n",
            " 6   Volume          113211 non-null  float64       \n",
            " 7   ADX             113211 non-null  float64       \n",
            " 8   Trend_Strength  113211 non-null  object        \n",
            " 9   ATR             113211 non-null  float64       \n",
            " 10  ATR_Mean30      111964 non-null  float64       \n",
            " 11  ATR_Alto        113211 non-null  bool          \n",
            "dtypes: bool(1), datetime64[ns](1), float64(8), object(2)\n",
            "memory usage: 9.6+ MB\n",
            "None\n"
          ]
        }
      ],
      "source": [
        "print (final_df.info())"
      ]
    },
    {
      "cell_type": "code",
      "execution_count": null,
      "metadata": {
        "colab": {
          "base_uri": "https://localhost:8080/"
        },
        "id": "YLTOwi1ATOhH",
        "outputId": "63e6cd90-2bb4-4c4d-aa3e-33fd2471016f"
      },
      "outputs": [
        {
          "name": "stdout",
          "output_type": "stream",
          "text": [
            "Requirement already satisfied: pandas_datareader in /workspaces/sebasProyecto-Dow-Jones-2025sebas/venv/lib/python3.11/site-packages (0.10.0)\n",
            "Requirement already satisfied: lxml in /workspaces/sebasProyecto-Dow-Jones-2025sebas/venv/lib/python3.11/site-packages (from pandas_datareader) (5.4.0)\n",
            "Requirement already satisfied: pandas>=0.23 in /workspaces/sebasProyecto-Dow-Jones-2025sebas/venv/lib/python3.11/site-packages (from pandas_datareader) (2.3.0)\n",
            "Requirement already satisfied: requests>=2.19.0 in /workspaces/sebasProyecto-Dow-Jones-2025sebas/venv/lib/python3.11/site-packages (from pandas_datareader) (2.32.4)\n",
            "Requirement already satisfied: numpy>=1.23.2 in /workspaces/sebasProyecto-Dow-Jones-2025sebas/venv/lib/python3.11/site-packages (from pandas>=0.23->pandas_datareader) (2.2.0)\n",
            "Requirement already satisfied: python-dateutil>=2.8.2 in /workspaces/sebasProyecto-Dow-Jones-2025sebas/venv/lib/python3.11/site-packages (from pandas>=0.23->pandas_datareader) (2.9.0.post0)\n",
            "Requirement already satisfied: pytz>=2020.1 in /workspaces/sebasProyecto-Dow-Jones-2025sebas/venv/lib/python3.11/site-packages (from pandas>=0.23->pandas_datareader) (2025.2)\n",
            "Requirement already satisfied: tzdata>=2022.7 in /workspaces/sebasProyecto-Dow-Jones-2025sebas/venv/lib/python3.11/site-packages (from pandas>=0.23->pandas_datareader) (2025.2)\n",
            "Requirement already satisfied: six>=1.5 in /workspaces/sebasProyecto-Dow-Jones-2025sebas/venv/lib/python3.11/site-packages (from python-dateutil>=2.8.2->pandas>=0.23->pandas_datareader) (1.17.0)\n",
            "Requirement already satisfied: charset_normalizer<4,>=2 in /workspaces/sebasProyecto-Dow-Jones-2025sebas/venv/lib/python3.11/site-packages (from requests>=2.19.0->pandas_datareader) (3.4.2)\n",
            "Requirement already satisfied: idna<4,>=2.5 in /workspaces/sebasProyecto-Dow-Jones-2025sebas/venv/lib/python3.11/site-packages (from requests>=2.19.0->pandas_datareader) (3.10)\n",
            "Requirement already satisfied: urllib3<3,>=1.21.1 in /workspaces/sebasProyecto-Dow-Jones-2025sebas/venv/lib/python3.11/site-packages (from requests>=2.19.0->pandas_datareader) (2.5.0)\n",
            "Requirement already satisfied: certifi>=2017.4.17 in /workspaces/sebasProyecto-Dow-Jones-2025sebas/venv/lib/python3.11/site-packages (from requests>=2.19.0->pandas_datareader) (2025.6.15)\n"
          ]
        }
      ],
      "source": [
        "!pip install pandas_datareader"
      ]
    },
    {
      "cell_type": "code",
      "execution_count": null,
      "metadata": {
        "colab": {
          "base_uri": "https://localhost:8080/"
        },
        "id": "Xt8t9HnsTR80",
        "outputId": "ded7236c-b2eb-4c6b-b219-7dfbb3392ddf"
      },
      "outputs": [
        {
          "name": "stdout",
          "output_type": "stream",
          "text": [
            "📥 Descargando datos macroeconómicos...\n",
            "✅ Guardado: /workspaces/sebasProyecto-Dow-Jones-2025sebas/cpi.csv\n",
            "✅ Guardado: /workspaces/sebasProyecto-Dow-Jones-2025sebas/nfp.csv\n",
            "✅ Datos macroeconómicos fusionados correctamente.\n",
            "        Date Ticker        Open        High         Low       Close  \\\n",
            "0 2015-01-02   AAPL   24.746230   24.757338   23.848709   24.288584   \n",
            "1 2015-01-02   AMGN  118.417949  120.214619  117.264529  118.218315   \n",
            "2 2015-01-02   AMZN   15.629000   15.737500   15.348000   15.426000   \n",
            "3 2015-01-02    AXP   79.997546   80.658686   79.113169   79.868752   \n",
            "4 2015-01-02     BA  114.636798  115.310248  112.905035  113.657211   \n",
            "\n",
            "        Volume  ADX Trend_Strength  ATR  ATR_Mean30  ATR_Alto      CPI  \\\n",
            "0  212818400.0  0.0       No Trend  0.0         NaN     False  234.747   \n",
            "1    2605400.0  0.0       No Trend  0.0         NaN     False  234.747   \n",
            "2   55664000.0  0.0       No Trend  0.0         NaN     False  234.747   \n",
            "3    2437500.0  0.0       No Trend  0.0         NaN     False  234.747   \n",
            "4    4294200.0  0.0       No Trend  0.0         NaN     False  234.747   \n",
            "\n",
            "        NFP  \n",
            "0  140568.0  \n",
            "1  140568.0  \n",
            "2  140568.0  \n",
            "3  140568.0  \n",
            "4  140568.0  \n"
          ]
        }
      ],
      "source": [
        "import pandas as pd\n",
        "import pandas_datareader.data as web\n",
        "import datetime\n",
        "import os\n",
        "\n",
        "# ✅ Define rutas seguras para guardar archivos\n",
        "base_path = \"/workspaces/sebasProyecto-Dow-Jones-2025sebas\"\n",
        "ruta_cpi = os.path.join(base_path, \"cpi.csv\")\n",
        "ruta_nfp = os.path.join(base_path, \"nfp.csv\")\n",
        "\n",
        "# Rango de fechas\n",
        "start = datetime.datetime(2015, 1, 1)\n",
        "end = datetime.datetime(2025, 5, 25)\n",
        "\n",
        "# Descargar CPI y NFP desde FRED\n",
        "print(\"📥 Descargando datos macroeconómicos...\")\n",
        "cpi = web.DataReader('CPIAUCSL', 'fred', start, end).rename(columns={'CPIAUCSL': 'CPI'})\n",
        "nfp = web.DataReader('PAYEMS', 'fred', start, end).rename(columns={'PAYEMS': 'NFP'})\n",
        "\n",
        "# Resamplear diario con forward fill\n",
        "cpi = cpi.resample('D').ffill().reset_index()\n",
        "nfp = nfp.resample('D').ffill().reset_index()\n",
        "\n",
        "# Guardar a CSV dentro del proyecto\n",
        "cpi.to_csv(ruta_cpi, index=False)\n",
        "nfp.to_csv(ruta_nfp, index=False)\n",
        "print(f\"✅ Guardado: {ruta_cpi}\")\n",
        "print(f\"✅ Guardado: {ruta_nfp}\")\n",
        "\n",
        "# ✅ Cargar archivo principal (asegúrate de tenerlo actualizado)\n",
        "ruta_final_df = os.path.join(base_path, \"DowJones_ConExtras_10y_ATR.csv\")  # o el más reciente que tengas\n",
        "final_df = pd.read_csv(ruta_final_df)\n",
        "\n",
        "# Asegurarse de que las fechas sean tipo datetime\n",
        "final_df['Date'] = pd.to_datetime(final_df['Date'])\n",
        "cpi['DATE'] = pd.to_datetime(cpi['DATE'])\n",
        "nfp['DATE'] = pd.to_datetime(nfp['DATE'])\n",
        "\n",
        "# Renombrar columnas 'DATE' a 'Date' para merge correcto\n",
        "cpi.rename(columns={'DATE': 'Date'}, inplace=True)\n",
        "nfp.rename(columns={'DATE': 'Date'}, inplace=True)\n",
        "\n",
        "# Merge macroeconómico\n",
        "macro_df = pd.merge(cpi, nfp, on='Date', how='inner')\n",
        "final_df = final_df.merge(macro_df, on='Date', how='left')\n",
        "\n",
        "# Mostrar confirmación\n",
        "print(\"✅ Datos macroeconómicos fusionados correctamente.\")\n",
        "print(final_df.head())\n"
      ]
    },
    {
      "cell_type": "code",
      "execution_count": null,
      "metadata": {
        "colab": {
          "base_uri": "https://localhost:8080/"
        },
        "id": "2jFRu6OaV2C2",
        "outputId": "f1628ef1-8bc0-4b82-cb48-9f7517af19d8"
      },
      "outputs": [
        {
          "name": "stdout",
          "output_type": "stream",
          "text": [
            "✅ Columnas limpias. Mostrando columnas relevantes:\n",
            "        Date Ticker      CPI       NFP\n",
            "0 2015-01-02   AAPL  234.747  140568.0\n",
            "1 2015-01-02   AMGN  234.747  140568.0\n",
            "2 2015-01-02   AMZN  234.747  140568.0\n",
            "3 2015-01-02    AXP  234.747  140568.0\n",
            "4 2015-01-02     BA  234.747  140568.0\n"
          ]
        }
      ],
      "source": [
        "# Eliminar columnas duplicadas si existen (fusión previa con otras columnas CPI/NFP)\n",
        "columnas_a_eliminar = []\n",
        "columnas_renombrar = {}\n",
        "\n",
        "if 'CPI_y' in final_df.columns:\n",
        "    columnas_a_eliminar.append('CPI_y')\n",
        "if 'NFP_y' in final_df.columns:\n",
        "    columnas_a_eliminar.append('NFP_y')\n",
        "\n",
        "if 'CPI_x' in final_df.columns:\n",
        "    columnas_renombrar['CPI_x'] = 'CPI'\n",
        "if 'NFP_x' in final_df.columns:\n",
        "    columnas_renombrar['NFP_x'] = 'NFP'\n",
        "\n",
        "# Eliminar y renombrar si corresponde\n",
        "final_df = final_df.drop(columns=columnas_a_eliminar, errors='ignore')\n",
        "final_df = final_df.rename(columns=columnas_renombrar)\n",
        "\n",
        "# Verifica resultado\n",
        "print(\"✅ Columnas limpias. Mostrando columnas relevantes:\")\n",
        "print(final_df[['Date', 'Ticker', 'CPI', 'NFP']].head())\n"
      ]
    },
    {
      "cell_type": "code",
      "execution_count": null,
      "metadata": {
        "colab": {
          "base_uri": "https://localhost:8080/"
        },
        "id": "hgjY4FyeWyAJ",
        "outputId": "2477f382-2a6b-4d37-d05c-9ddb7c55f4c2"
      },
      "outputs": [
        {
          "name": "stdout",
          "output_type": "stream",
          "text": [
            "        Date Ticker        Open        High         Low       Close  \\\n",
            "0 2015-01-02   AAPL   24.746230   24.757338   23.848709   24.288584   \n",
            "1 2015-01-02   AMGN  118.417949  120.214619  117.264529  118.218315   \n",
            "2 2015-01-02   AMZN   15.629000   15.737500   15.348000   15.426000   \n",
            "3 2015-01-02    AXP   79.997546   80.658686   79.113169   79.868752   \n",
            "4 2015-01-02     BA  114.636798  115.310248  112.905035  113.657211   \n",
            "\n",
            "        Volume  ADX Trend_Strength  ATR  ATR_Mean30  ATR_Alto      CPI  \\\n",
            "0  212818400.0  0.0       No Trend  0.0         NaN     False  234.747   \n",
            "1    2605400.0  0.0       No Trend  0.0         NaN     False  234.747   \n",
            "2   55664000.0  0.0       No Trend  0.0         NaN     False  234.747   \n",
            "3    2437500.0  0.0       No Trend  0.0         NaN     False  234.747   \n",
            "4    4294200.0  0.0       No Trend  0.0         NaN     False  234.747   \n",
            "\n",
            "        NFP  \n",
            "0  140568.0  \n",
            "1  140568.0  \n",
            "2  140568.0  \n",
            "3  140568.0  \n",
            "4  140568.0  \n"
          ]
        }
      ],
      "source": [
        "print(final_df.head())"
      ]
    },
    {
      "cell_type": "markdown",
      "metadata": {
        "id": "0KwlNGpDSnWV"
      },
      "source": [
        "# CODIGO PARA AÑADIR VARIABLE CATEGORICA DIA DE LA SEMANA (LUNES - VIERNES) - @GINO"
      ]
    },
    {
      "cell_type": "code",
      "execution_count": null,
      "metadata": {
        "colab": {
          "base_uri": "https://localhost:8080/"
        },
        "id": "0rPvcY5lSNFg",
        "outputId": "f1115a84-149a-45bd-8061-bd4fb1556108"
      },
      "outputs": [
        {
          "name": "stdout",
          "output_type": "stream",
          "text": [
            "43\n",
            "        Date  DayOfWeek\n",
            "0 2015-01-02          4\n",
            "1 2015-01-02          4\n",
            "2 2015-01-02          4\n",
            "3 2015-01-02          4\n",
            "4 2015-01-02          4\n",
            "5 2015-01-02          4\n",
            "6 2015-01-02          4\n",
            "7 2015-01-02          4\n",
            "8 2015-01-02          4\n",
            "9 2015-01-02          4\n"
          ]
        }
      ],
      "source": [
        "# Comprobamos que todos los datos de los tickers estan importados correctamente:\n",
        "print(len(final_df['Ticker'].unique()))\n",
        "\n",
        "# Asegúrate de que la columna \"Date\" está en formato datetime\n",
        "final_df[\"Date\"] = pd.to_datetime(final_df[\"Date\"])\n",
        "\n",
        "# Agregar columna numérica que representa el día de la semana (lunes=0, domingo=6)\n",
        "final_df[\"DayOfWeek\"] = final_df[\"Date\"].dt.weekday\n",
        "\n",
        "# Filtrar solo días de lunes (0) a viernes (4)\n",
        "final_df = final_df[final_df[\"DayOfWeek\"] <= 4].reset_index(drop=True)\n",
        "\n",
        "# Verificamos que se haya agregado correctamente\n",
        "print(final_df[[\"Date\", \"DayOfWeek\"]].head(10))"
      ]
    },
    {
      "cell_type": "code",
      "execution_count": null,
      "metadata": {
        "id": "cJQxFcXAYDfA"
      },
      "outputs": [],
      "source": []
    },
    {
      "cell_type": "markdown",
      "metadata": {
        "id": "o-Ls4R3_hh84"
      },
      "source": []
    },
    {
      "cell_type": "markdown",
      "metadata": {
        "id": "BCwPByL6XQ40"
      },
      "source": [
        "# ANALISIS EXPLORATORIO DE DATOS\n"
      ]
    },
    {
      "cell_type": "markdown",
      "metadata": {
        "id": "dsUyS29sD_il"
      },
      "source": [
        "## Each variable is explained below"
      ]
    },
    {
      "cell_type": "markdown",
      "metadata": {
        "id": "WuKuTzNYhnVW"
      },
      "source": [
        "Hasta aqui hemos recogido todos los datos del data set y vamos a realizar una explicacion de cada Ticker = Empresa y de cada variable:\n",
        "\n",
        "\n",
        "✅ Tickers del Dataset — Explicación Muy Breve\n",
        "AAPL – Apple Inc., tecnología y productos electrónicos.\n",
        "\n",
        "AMGN – Amgen Inc., biotecnología.\n",
        "\n",
        "AMZN – Amazon.com Inc., e-commerce y cloud.\n",
        "\n",
        "AXP – American Express, servicios financieros.\n",
        "\n",
        "BA – Boeing Co., industria aeroespacial.\n",
        "\n",
        "CAT – Caterpillar Inc., maquinaria pesada.\n",
        "\n",
        "CL=F – Futuros de petróleo crudo WTI.\n",
        "\n",
        "CRM – Salesforce Inc., software de gestión de relaciones con clientes.\n",
        "\n",
        "CSCO – Cisco Systems Inc., redes y telecomunicaciones.\n",
        "\n",
        "CVX – Chevron Corp., petróleo y energía.\n",
        "\n",
        "DIS – Walt Disney Co., entretenimiento.\n",
        "\n",
        "DX-Y.NYB – Índice del dólar estadounidense (ICE).\n",
        "\n",
        "EURUSD=X – Tasa de cambio euro/dólar.\n",
        "\n",
        "GBPUSD=X – Tasa de cambio libra esterlina/dólar.\n",
        "\n",
        "GC=F – Futuros del oro.\n",
        "\n",
        "GS – Goldman Sachs Group Inc., banca de inversión.\n",
        "\n",
        "HD – Home Depot Inc., productos para el hogar.\n",
        "\n",
        "HON – Honeywell International, automatización e industria.\n",
        "\n",
        "IBM – International Business Machines, tecnología y servicios.\n",
        "\n",
        "JNJ – Johnson & Johnson, salud y farmacéutica.\n",
        "\n",
        "JPM – JPMorgan Chase & Co., banca global.\n",
        "\n",
        "JPY=X – Tasa de cambio yen japonés/dólar.\n",
        "\n",
        "KO – Coca-Cola Co., bebidas.\n",
        "\n",
        "MCD – McDonald's Corp., comida rápida.\n",
        "\n",
        "MMM – 3M Co., productos industriales y de consumo.\n",
        "\n",
        "MRK – Merck & Co., farmacéutica.\n",
        "\n",
        "MSFT – Microsoft Corp., software y tecnología.\n",
        "\n",
        "NKE – Nike Inc., ropa y calzado deportivo.\n",
        "\n",
        "NVDA – NVIDIA Corp., chips y tecnología gráfica.\n",
        "\n",
        "PG – Procter & Gamble, productos de consumo.\n",
        "\n",
        "SHW – Sherwin-Williams, pinturas y recubrimientos.\n",
        "\n",
        "TRV – Travelers Companies Inc., seguros.\n",
        "\n",
        "UNH – UnitedHealth Group, seguros y servicios médicos.\n",
        "\n",
        "UUP – ETF del índice del dólar estadounidense.\n",
        "\n",
        "V – Visa Inc., pagos electrónicos.\n",
        "\n",
        "VZ – Verizon Communications, telecomunicaciones.\n",
        "\n",
        "WMT – Walmart Inc., retail y supermercados.\n",
        "\n",
        "XLF – ETF del sector financiero (S&P).\n",
        "\n",
        "XLV – ETF del sector salud (S&P).\n",
        "\n",
        "^SPX – Índice S&P 500.\n",
        "\n",
        "^TNX – Rentabilidad del bono del Tesoro a 10 años (EE.UU.).\n",
        "\n",
        "^VIX – Índice de volatilidad del mercado (miedo).\n",
        "\n",
        "^DJI - Indice del Mercado Industrial EEUU (DOW JONES)\n",
        "\n"
      ]
    },
    {
      "cell_type": "markdown",
      "metadata": {
        "id": "Tbq8rVkRip88"
      },
      "source": [
        "**📊 Descripción de las variables**\n",
        "\n",
        "\n",
        "🔹 Datos del mercado\n",
        "Date: Fecha del dato.\n",
        "\n",
        "Ticker: Símbolo bursátil de la empresa.\n",
        "\n",
        "Open: Precio de apertura del activo ese día.\n",
        "\n",
        "High: Precio máximo alcanzado durante la jornada.\n",
        "\n",
        "Low: Precio mínimo registrado durante el día.\n",
        "\n",
        "Close: Precio final de cotización al cierre del mercado.\n",
        "\n",
        "Volume: Volumen de acciones negociadas ese día.\n",
        "\n",
        "\n",
        "\n",
        "📈 Indicadores Técnicos\n",
        "MACD: Diferencia entre dos medias móviles exponenciales (normalmente 12 y 26 días). Indica el impulso de la tendencia.\n",
        "\n",
        "MACD_Signal: Media móvil del MACD (normalmente de 9 días). Sirve como señal de entrada/salida.\n",
        "\n",
        "MACD_Hist: Diferencia entre MACD y su línea de señal. Mide la fuerza de la señal.\n",
        "\n",
        "EMA_50: Media móvil exponencial de 50 días. Indica la tendencia de corto/medio plazo.\n",
        "\n",
        "EMA_150: Media móvil exponencial de 150 días. Indica la tendencia de medio/largo plazo.\n",
        "\n",
        "RSI: Índice de Fuerza Relativa. Oscila entre 0 y 100. Valores >70 indican sobrecompra, <30 indican sobreventa.\n",
        "\n",
        "RSI_Signal: Interpretación categórica del RSI (por ejemplo: \"Sobrecomprado\", \"Neutral\", \"Sobrevendido\").\n",
        "\n",
        "ADX: Índice de Dirección Promedio. Mide la fuerza de la tendencia. >25 indica una tendencia fuerte.\n",
        "\n",
        "Trend_Strength: Clasificación del ADX en categorías como \"Tendencia fuerte\" o \"No trend\".\n",
        "\n",
        "ATR: Rango Verdadero Promedio. Indica la volatilidad promedio de los precios.\n",
        "\n",
        "ATR_Mean30: Media de 30 días del ATR. Sirve como referencia para detectar si la volatilidad actual es alta.\n",
        "\n",
        "ATR_Alto: Variable binaria que indica si el ATR está por encima de su media de 30 días (1 = alta volatilidad).\n",
        "\n",
        "\n",
        "\n",
        "\n",
        "🌍 Datos Macroeconómicos\n",
        "CPI: Índice de Precios al Consumidor. Representa la inflación en EE. UU.\n",
        "\n",
        "NFP: Nóminas no agrícolas. Representa la creación de empleo en sectores no agrícolas, un indicador clave del mercado laboral.\n",
        "\n",
        "\n",
        "🧩 Variables derivadas\n",
        "DayOfWeek: Día de la semana correspondiente a cada fecha (útil para análisis estacional o patrones semanales).\n",
        "\n",
        "\n",
        "EMA_Signal: Señal de tendencia basada en la relación entre EMA_50 y EMA_150 (por ejemplo: \"Alcista\", \"Bajista\", \"Neutral\")."
      ]
    },
    {
      "cell_type": "markdown",
      "metadata": {
        "id": "gkQHgXeTEF3s"
      },
      "source": [
        "# Here we will start the actual EDA"
      ]
    },
    {
      "cell_type": "code",
      "execution_count": null,
      "metadata": {
        "colab": {
          "base_uri": "https://localhost:8080/"
        },
        "id": "JXhXaoY9XW-X",
        "outputId": "6753793e-1744-4656-8a02-95749fe20431"
      },
      "outputs": [
        {
          "name": "stdout",
          "output_type": "stream",
          "text": [
            "(113211, 15)\n",
            "Columnas actualizadas:\n",
            "['Date', 'Ticker', 'Open', 'High', 'Low', 'Close', 'Volume', 'ADX', 'Trend_Strength', 'ATR', 'ATR_Mean30', 'ATR_Alto', 'CPI', 'NFP', 'DayOfWeek']\n",
            "\n",
            "Total de columnas: 15\n"
          ]
        }
      ],
      "source": [
        "print(final_df.shape)\n",
        "\n",
        "\n",
        "# Verificar estructura resultante\n",
        "print(\"Columnas actualizadas:\")\n",
        "print(final_df.columns.tolist())\n",
        "print(\"\\nTotal de columnas:\", len(final_df.columns))"
      ]
    },
    {
      "cell_type": "markdown",
      "metadata": {
        "id": "MB1mEnbHEMF7"
      },
      "source": [
        "We observe a shape of 112k datapoints and 23 variables."
      ]
    },
    {
      "cell_type": "code",
      "execution_count": null,
      "metadata": {
        "colab": {
          "base_uri": "https://localhost:8080/"
        },
        "id": "wFv1oN22ZRnV",
        "outputId": "af1f9879-df89-4d22-e969-e1efbf884410"
      },
      "outputs": [
        {
          "name": "stdout",
          "output_type": "stream",
          "text": [
            "<class 'pandas.core.frame.DataFrame'>\n",
            "RangeIndex: 113211 entries, 0 to 113210\n",
            "Data columns (total 15 columns):\n",
            " #   Column          Non-Null Count   Dtype         \n",
            "---  ------          --------------   -----         \n",
            " 0   Date            113211 non-null  datetime64[ns]\n",
            " 1   Ticker          113211 non-null  object        \n",
            " 2   Open            113211 non-null  float64       \n",
            " 3   High            113211 non-null  float64       \n",
            " 4   Low             113211 non-null  float64       \n",
            " 5   Close           113211 non-null  float64       \n",
            " 6   Volume          113211 non-null  float64       \n",
            " 7   ADX             113211 non-null  float64       \n",
            " 8   Trend_Strength  113211 non-null  object        \n",
            " 9   ATR             113211 non-null  float64       \n",
            " 10  ATR_Mean30      111964 non-null  float64       \n",
            " 11  ATR_Alto        113211 non-null  bool          \n",
            " 12  CPI             111983 non-null  float64       \n",
            " 13  NFP             111983 non-null  float64       \n",
            " 14  DayOfWeek       113211 non-null  int32         \n",
            "dtypes: bool(1), datetime64[ns](1), float64(10), int32(1), object(2)\n",
            "memory usage: 11.8+ MB\n"
          ]
        }
      ],
      "source": [
        "final_df.info()"
      ]
    },
    {
      "cell_type": "markdown",
      "metadata": {
        "id": "FtQV89veETyA"
      },
      "source": [
        "It appears we have detected null values inside a couple variables, such as:\n",
        "\n",
        "> [RSI, ATR_Mean30, CPI and NFP]\n",
        "\n"
      ]
    },
    {
      "cell_type": "code",
      "execution_count": null,
      "metadata": {
        "colab": {
          "base_uri": "https://localhost:8080/"
        },
        "id": "DcxWIwpxY0Bn",
        "outputId": "7bdfdf6c-50ab-4572-a01d-17d693aac113"
      },
      "outputs": [
        {
          "name": "stdout",
          "output_type": "stream",
          "text": [
            "Date                 0\n",
            "Ticker               0\n",
            "Open                 0\n",
            "High                 0\n",
            "Low                  0\n",
            "Close                0\n",
            "Volume               0\n",
            "ADX                  0\n",
            "Trend_Strength       0\n",
            "ATR                  0\n",
            "ATR_Mean30        1247\n",
            "ATR_Alto             0\n",
            "CPI               1228\n",
            "NFP               1228\n",
            "DayOfWeek            0\n",
            "dtype: int64\n"
          ]
        }
      ],
      "source": [
        "# Analyze where are the null values, and how many are there:\n",
        "print(final_df.isnull().sum())"
      ]
    },
    {
      "cell_type": "markdown",
      "metadata": {
        "id": "teWGzwicFJmB"
      },
      "source": [
        "> RSI has half of the null values of the other 3 variables\n",
        "\n",
        "> ATR_Mean30, CPI and NFP have similar null values, we should check them to understand a little bit more."
      ]
    },
    {
      "cell_type": "markdown",
      "metadata": {
        "id": "bvdu3ffWF9Ti"
      },
      "source": [
        "# Analysis of null values"
      ]
    },
    {
      "cell_type": "markdown",
      "metadata": {
        "id": "xWG7h3i-GGCB"
      },
      "source": [
        "## RSI"
      ]
    },
    {
      "cell_type": "code",
      "execution_count": null,
      "metadata": {
        "colab": {
          "base_uri": "https://localhost:8080/"
        },
        "id": "vY0WuaGCY-GA",
        "outputId": "d0802ed2-b8d5-49e4-8a00-b077cfdf2993"
      },
      "outputs": [
        {
          "name": "stdout",
          "output_type": "stream",
          "text": [
            "ℹ️ Columna 'RSI' no encontrada. Calculando RSI...\n"
          ]
        },
        {
          "name": "stdout",
          "output_type": "stream",
          "text": [
            "✅ RSI calculado y añadido.\n",
            "RSI: 0 missing out of 113211 (0.00%)\n",
            "             Date Ticker         Close        RSI\n",
            "113201 2025-06-12    UUP     27.100000  38.204363\n",
            "113202 2025-06-12      V    371.399994  64.053785\n",
            "113203 2025-06-12     VZ     43.160000  46.449392\n",
            "113204 2025-06-12    WMT     94.830002  40.616572\n",
            "113205 2025-06-12    XLF     51.000000  56.595361\n",
            "113206 2025-06-12    XLV    136.809998  58.822445\n",
            "113207 2025-06-12   ^DJI  42967.621094  63.196580\n",
            "113208 2025-06-12   ^SPX   6045.259766  66.942780\n",
            "113209 2025-06-12   ^TNX      4.357000  44.701915\n",
            "113210 2025-06-12   ^VIX     18.020000  43.989906\n"
          ]
        }
      ],
      "source": [
        "import ta\n",
        "\n",
        "# Verificamos si la columna RSI ya existe\n",
        "if 'RSI' not in final_df.columns:\n",
        "    print(\"ℹ️ Columna 'RSI' no encontrada. Calculando RSI...\")\n",
        "\n",
        "    rsi_list = []\n",
        "\n",
        "    for ticker in final_df['Ticker'].unique():\n",
        "        df_ticker = final_df[final_df['Ticker'] == ticker].copy()\n",
        "        df_ticker.sort_values(\"Date\", inplace=True)\n",
        "\n",
        "        # Asegurarse de que Close sea numérico\n",
        "        df_ticker['Close'] = pd.to_numeric(df_ticker['Close'], errors='coerce')\n",
        "        df_ticker.dropna(subset=['Close'], inplace=True)\n",
        "\n",
        "        # Calcular RSI\n",
        "        rsi_indicator = ta.momentum.RSIIndicator(close=df_ticker['Close'], window=14, fillna=True)\n",
        "        df_ticker['RSI'] = rsi_indicator.rsi()\n",
        "\n",
        "        rsi_list.append(df_ticker)\n",
        "\n",
        "    # Reemplazamos final_df con los nuevos datos con RSI\n",
        "    final_df = pd.concat(rsi_list).sort_values(['Date', 'Ticker']).reset_index(drop=True)\n",
        "    print(\"✅ RSI calculado y añadido.\")\n",
        "else:\n",
        "    print(\"✅ Columna 'RSI' ya existe.\")\n",
        "\n",
        "# Ahora sí puedes evaluar valores nulos\n",
        "rsi_missing = final_df['RSI'].isnull().sum()\n",
        "rsi_total = len(final_df)\n",
        "print(f\"RSI: {rsi_missing} missing out of {rsi_total} ({rsi_missing/rsi_total:.2%})\")\n",
        "\n",
        "# Mostrar ejemplo\n",
        "print(final_df[['Date', 'Ticker', 'Close', 'RSI']].tail(10))\n"
      ]
    },
    {
      "cell_type": "markdown",
      "metadata": {
        "id": "WDp_5ep6IcVA"
      },
      "source": [
        "> There is a total of 559 missing values for the RSI, which constitutes a 0.5% of the total data. We will proceed to visualize where the null values are located"
      ]
    },
    {
      "cell_type": "code",
      "execution_count": null,
      "metadata": {
        "colab": {
          "base_uri": "https://localhost:8080/",
          "height": 390
        },
        "id": "zP-q9hZGIo8q",
        "outputId": "2537dbae-9728-4fd9-b883-e8aaf5d17346"
      },
      "outputs": [
        {
          "data": {
            "image/png": "[encoded data removed]",
            "text/plain": [
              "<Figure size 1200x400 with 1 Axes>"
            ]
          },
          "metadata": {},
          "output_type": "display_data"
        }
      ],
      "source": [
        "import matplotlib.pyplot as plt\n",
        "\n",
        "final_df['RSI_missing'] = final_df['RSI'].isnull()\n",
        "final_df.groupby('Date')['RSI_missing'].mean().plot(figsize=(12, 4), title='RSI Missing Ratio Over Time')\n",
        "plt.ylabel('Missing Ratio')\n",
        "plt.show()\n",
        "\n",
        "final_df.drop(columns=['RSI_missing'], inplace=True)"
      ]
    },
    {
      "cell_type": "markdown",
      "metadata": {
        "id": "wIKVDVlBIrRF"
      },
      "source": [
        "> We can make the observation that all the null values are concentrated in the year 2015 onwards. We know the year because that's where our data starts. And the null values end before it reaches 2016.\n",
        "\n",
        "> We can, then, conclude that the null values of the RSI are a product of the RSI itself. Since it takes past price data (specifically 14 days for the default option) it is correct to display NaN values, as it has to wait 14 days to start generating them.\n",
        "\n",
        "> We will now check where are those NaN values located:"
      ]
    },
    {
      "cell_type": "code",
      "execution_count": null,
      "metadata": {
        "colab": {
          "base_uri": "https://localhost:8080/"
        },
        "id": "4ZDm7ZdYKIgK",
        "outputId": "bf352c66-49f8-4bf0-9063-805a61692f00"
      },
      "outputs": [
        {
          "name": "stdout",
          "output_type": "stream",
          "text": [
            "Series([], Name: count, dtype: int64)\n"
          ]
        }
      ],
      "source": [
        "rsi_missing_by_ticker = final_df[final_df['RSI'].isnull()]['Ticker'].value_counts()\n",
        "print(rsi_missing_by_ticker.head(43))"
      ]
    },
    {
      "cell_type": "markdown",
      "metadata": {
        "id": "IHVOatyOT9rk"
      },
      "source": [
        "It appears we were right about the RSI data missing due to its lagging nature. For now, we will focus on studying the rest of the null values."
      ]
    },
    {
      "cell_type": "markdown",
      "metadata": {
        "id": "rU5dpyN-UfS8"
      },
      "source": [
        "## ATR Mean_30"
      ]
    },
    {
      "cell_type": "code",
      "execution_count": null,
      "metadata": {
        "colab": {
          "base_uri": "https://localhost:8080/"
        },
        "id": "L4AUfsALUiil",
        "outputId": "d50992f2-aa87-4bde-e9a5-8aceb65e2d1e"
      },
      "outputs": [
        {
          "name": "stdout",
          "output_type": "stream",
          "text": [
            "ATR Mean_30: 1247 missing out of 113211 (1.10%)\n"
          ]
        }
      ],
      "source": [
        "atrmean30_missing = final_df['ATR_Mean30'].isnull().sum()\n",
        "atrmean30_total = len(final_df)\n",
        "print(f\"ATR Mean_30: {atrmean30_missing} missing out of {atrmean30_total} ({atrmean30_missing/atrmean30_total:.2%})\")"
      ]
    },
    {
      "cell_type": "markdown",
      "metadata": {
        "id": "fl9vhXYVU4xO"
      },
      "source": [
        " There is a total of 1247 missing values for the ATR_Mean30, which constitutes a 1.11% of the total data. We will proceed to visualize where the null values are located:"
      ]
    },
    {
      "cell_type": "code",
      "execution_count": null,
      "metadata": {
        "colab": {
          "base_uri": "https://localhost:8080/",
          "height": 390
        },
        "id": "9ud5idjuVAP9",
        "outputId": "254ad6c8-a5ef-42fb-a2b3-1d5dcc41b778"
      },
      "outputs": [
        {
          "data": {
            "image/png": "[encoded data removed]",
            "text/plain": [
              "<Figure size 1200x400 with 1 Axes>"
            ]
          },
          "metadata": {},
          "output_type": "display_data"
        }
      ],
      "source": [
        "final_df['ATRMean30_missing'] = final_df['ATR_Mean30'].isnull()\n",
        "final_df.groupby('Date')['ATRMean30_missing'].mean().plot(figsize=(12, 4), title='ATR_Mean30 Missing Ratio Over Time')\n",
        "plt.ylabel('Missing Ratio')\n",
        "plt.show()\n",
        "\n",
        "final_df.drop(columns=['ATRMean30_missing'], inplace=True)"
      ]
    },
    {
      "cell_type": "markdown",
      "metadata": {
        "id": "m_l5oDlcVbon"
      },
      "source": [
        "> Same as before, we will check the location of the nan values:"
      ]
    },
    {
      "cell_type": "code",
      "execution_count": null,
      "metadata": {
        "colab": {
          "base_uri": "https://localhost:8080/"
        },
        "id": "2Is4d1VpVmEa",
        "outputId": "9be8f55f-0d29-4199-ffee-642f52f1f9de"
      },
      "outputs": [
        {
          "name": "stdout",
          "output_type": "stream",
          "text": [
            "Ticker\n",
            "AAPL        29\n",
            "AMGN        29\n",
            "AMZN        29\n",
            "AXP         29\n",
            "BA          29\n",
            "CAT         29\n",
            "CL=F        29\n",
            "CRM         29\n",
            "CSCO        29\n",
            "CVX         29\n",
            "DIS         29\n",
            "DX-Y.NYB    29\n",
            "EURUSD=X    29\n",
            "GBPUSD=X    29\n",
            "GC=F        29\n",
            "GS          29\n",
            "HD          29\n",
            "HON         29\n",
            "IBM         29\n",
            "JNJ         29\n",
            "JPM         29\n",
            "JPY=X       29\n",
            "KO          29\n",
            "MCD         29\n",
            "MMM         29\n",
            "MRK         29\n",
            "MSFT        29\n",
            "NKE         29\n",
            "NVDA        29\n",
            "PG          29\n",
            "SHW         29\n",
            "TRV         29\n",
            "UNH         29\n",
            "UUP         29\n",
            "V           29\n",
            "VZ          29\n",
            "WMT         29\n",
            "XLF         29\n",
            "XLV         29\n",
            "^DJI        29\n",
            "^SPX        29\n",
            "^TNX        29\n",
            "^VIX        29\n",
            "Name: count, dtype: int64\n"
          ]
        }
      ],
      "source": [
        "atrmean30_missing_by_ticker = final_df[final_df['ATR_Mean30'].isnull()]['Ticker'].value_counts()\n",
        "print(atrmean30_missing_by_ticker.head(43))"
      ]
    },
    {
      "cell_type": "markdown",
      "metadata": {
        "id": "CNMvAlgiWALB"
      },
      "source": [
        "> Again, we find 29 missing values for the ATR_Mean30, which means there is also, a lagging problem. Since the ATR takes the mean of the last 30 days, while the RSI only does so for the last 14 days, we can check if there is an error with the indicator or it's natural that there are missing values."
      ]
    },
    {
      "cell_type": "code",
      "execution_count": null,
      "metadata": {
        "colab": {
          "base_uri": "https://localhost:8080/"
        },
        "id": "ZxTKAaomWBR8",
        "outputId": "d26d1f56-3818-4e15-c53f-e34f5960f9aa"
      },
      "outputs": [
        {
          "name": "stdout",
          "output_type": "stream",
          "text": [
            "          Date         RSI  ATR_Mean30\n",
            "0   2015-01-02  100.000000         NaN\n",
            "1   2015-01-02  100.000000         NaN\n",
            "2   2015-01-02  100.000000         NaN\n",
            "3   2015-01-02  100.000000         NaN\n",
            "4   2015-01-02  100.000000         NaN\n",
            "..         ...         ...         ...\n",
            "695 2015-01-27   55.553219         NaN\n",
            "696 2015-01-27   24.063435         NaN\n",
            "697 2015-01-27   40.138414         NaN\n",
            "698 2015-01-27   47.486790         NaN\n",
            "699 2015-01-27   38.255485         NaN\n",
            "\n",
            "[700 rows x 3 columns]\n"
          ]
        }
      ],
      "source": [
        "mismatch = final_df[final_df['RSI'].isnull() != final_df['ATR_Mean30'].isnull()]\n",
        "print(mismatch[['Date', 'RSI', 'ATR_Mean30']].head(700))"
      ]
    },
    {
      "cell_type": "markdown",
      "metadata": {
        "id": "h6Y8JgFRXet2"
      },
      "source": [
        "> After running the code above, we can see that the output contains 688 rows, which if you subtract from the total amount of null values (1247), it returns 559, which is the number of null RSI values.\n",
        "\n",
        "> What this means is that, the RSI begins providing data after 14 days, while the ATR_Mean30 takes 30 days (duh) to start providing it.\n",
        "\n",
        "> This is technically correct, so now the next question would be, what do we do with these missing values?:\n",
        "\n",
        "> We can:\n",
        "*   ***Drop the rows*** (not ideal, since it reduces the amount of data gathered, but is technically correct and better for the model)\n",
        "*   Impute them (fill them with generated values based, on past, present and/or future predictions/mean)\n",
        "\n",
        "> We'll continue the analysis to check if the condition applies to more of the remaining variables, and then, we'll proceed with the cleanup.\n",
        "\n"
      ]
    },
    {
      "cell_type": "markdown",
      "metadata": {
        "id": "pQJDo1HnvnYB"
      },
      "source": [
        "## CPI"
      ]
    },
    {
      "cell_type": "code",
      "execution_count": null,
      "metadata": {
        "colab": {
          "base_uri": "https://localhost:8080/"
        },
        "id": "AsMiayvFvuzT",
        "outputId": "65ad1329-7900-4544-e9ef-21f9754470c1"
      },
      "outputs": [
        {
          "name": "stdout",
          "output_type": "stream",
          "text": [
            "CPI: 1228 missing out of 113211 (1.08%)\n"
          ]
        }
      ],
      "source": [
        "cpi_missing = final_df['CPI'].isnull().sum()\n",
        "cpi_total = len(final_df)\n",
        "print(f\"CPI: {cpi_missing} missing out of {cpi_total} ({cpi_missing/cpi_total:.2%})\")"
      ]
    },
    {
      "cell_type": "markdown",
      "metadata": {
        "id": "DFY8HohSwaup"
      },
      "source": [
        "> There is a total of 1502 missing values for the CPI, which constitutes a 1.33% of the total data. We will proceed to visualize where the null values are located:"
      ]
    },
    {
      "cell_type": "code",
      "execution_count": null,
      "metadata": {
        "colab": {
          "base_uri": "https://localhost:8080/",
          "height": 390
        },
        "id": "4F2ymlpRyKbv",
        "outputId": "66d43ed9-325f-4ac1-8618-2c81b1a07a3c"
      },
      "outputs": [
        {
          "data": {
            "image/png": "[encoded data removed]",
            "text/plain": [
              "<Figure size 1200x400 with 1 Axes>"
            ]
          },
          "metadata": {},
          "output_type": "display_data"
        }
      ],
      "source": [
        "final_df['cpi_missing'] = final_df['CPI'].isnull()\n",
        "final_df.groupby('Date')['cpi_missing'].mean().plot(figsize=(12, 4), title='CPI Missing Ratio Over Time')\n",
        "plt.ylabel('Missing Ratio')\n",
        "plt.show()\n",
        "\n",
        "final_df.drop(columns=['cpi_missing'], inplace=True)"
      ]
    },
    {
      "cell_type": "markdown",
      "metadata": {
        "id": "W9RRTbUn0l5M"
      },
      "source": [
        "> In this particular case we have the CPI, which stands for Consumer Price Index. In simple terms, it measures inflation, so the higher it is, more inflation, higher prices.\n",
        "\n",
        "> We can see that the null values are concentrated on the end of the dataset. The reason for this is that the CPI is a ***monthly*** release, which means the values for it stay the same, until the next month arrives.\n",
        "\n",
        "> At the time of this writing (04/06/25), the next release is scheduled for 11/6. The last recorded CPI value dates (01/04/2025), ***as shown on the code below***.\n",
        "\n",
        "> This will, inevitably, generate null values infinitely, since there is a month between each announcement."
      ]
    },
    {
      "cell_type": "code",
      "execution_count": null,
      "metadata": {
        "colab": {
          "base_uri": "https://localhost:8080/",
          "height": 147
        },
        "id": "PPjf0j-d1qrv",
        "outputId": "08b7a1dc-6761-4541-dada-3075c6fd66ef"
      },
      "outputs": [
        {
          "data": {
            "text/plain": [
              "Date    2025-05-01 00:00:00\n",
              "CPI                  320.58\n",
              "Name: 111982, dtype: object"
            ]
          },
          "execution_count": 39,
          "metadata": {},
          "output_type": "execute_result"
        }
      ],
      "source": [
        "last_valid_index = final_df['CPI'].last_valid_index()\n",
        "final_df.loc[last_valid_index, ['Date', 'CPI']]"
      ]
    },
    {
      "cell_type": "markdown",
      "metadata": {
        "id": "Sh8kzK8J7bBV"
      },
      "source": [
        "> We'll proceed to check where the missing values are located:"
      ]
    },
    {
      "cell_type": "code",
      "execution_count": null,
      "metadata": {
        "colab": {
          "base_uri": "https://localhost:8080/"
        },
        "id": "ZENj1AVVwlrw",
        "outputId": "2383ae3a-75f4-4aa9-c3e9-0a703483b7a6"
      },
      "outputs": [
        {
          "name": "stdout",
          "output_type": "stream",
          "text": [
            "Ticker\n",
            "GBPUSD=X    30\n",
            "EURUSD=X    30\n",
            "DX-Y.NYB    30\n",
            "JPY=X       30\n",
            "BA          29\n",
            "CAT         29\n",
            "CL=F        29\n",
            "AXP         29\n",
            "AAPL        29\n",
            "AMGN        29\n",
            "AMZN        29\n",
            "DIS         29\n",
            "CVX         29\n",
            "CSCO        29\n",
            "CRM         29\n",
            "GS          29\n",
            "HD          29\n",
            "HON         29\n",
            "GC=F        29\n",
            "IBM         29\n",
            "JNJ         29\n",
            "JPM         29\n",
            "KO          29\n",
            "MMM         29\n",
            "MRK         29\n",
            "MSFT        29\n",
            "NKE         29\n",
            "VZ          29\n",
            "NVDA        29\n",
            "PG          29\n",
            "SHW         29\n",
            "TRV         29\n",
            "UNH         29\n",
            "UUP         29\n",
            "V           29\n",
            "^DJI        29\n",
            "WMT         29\n",
            "XLF         29\n",
            "XLV         29\n",
            "^TNX        29\n",
            "^SPX        29\n",
            "^VIX        29\n",
            "MCD          6\n",
            "Name: count, dtype: int64\n"
          ]
        }
      ],
      "source": [
        "cpi_missing_by_ticker = final_df[final_df['CPI'].isnull()]['Ticker'].value_counts()\n",
        "print(cpi_missing_by_ticker.head(43))"
      ]
    },
    {
      "cell_type": "markdown",
      "metadata": {
        "id": "jkNWa1ymNibx"
      },
      "source": [
        "> Why are there 35 missing values for the companies but for the currencies its only 34?"
      ]
    },
    {
      "cell_type": "code",
      "execution_count": null,
      "metadata": {
        "colab": {
          "base_uri": "https://localhost:8080/"
        },
        "id": "W1MmtUbn8p4t",
        "outputId": "99c39cbf-f6bc-4e78-c459-b726a9ce8dcd"
      },
      "outputs": [
        {
          "name": "stdout",
          "output_type": "stream",
          "text": [
            "30 <DatetimeArray>\n",
            "['2025-05-02 00:00:00', '2025-05-05 00:00:00', '2025-05-06 00:00:00',\n",
            " '2025-05-07 00:00:00', '2025-05-08 00:00:00', '2025-05-09 00:00:00',\n",
            " '2025-05-12 00:00:00', '2025-05-13 00:00:00', '2025-05-14 00:00:00',\n",
            " '2025-05-15 00:00:00', '2025-05-16 00:00:00', '2025-05-19 00:00:00',\n",
            " '2025-05-20 00:00:00', '2025-05-21 00:00:00', '2025-05-22 00:00:00',\n",
            " '2025-05-23 00:00:00', '2025-05-26 00:00:00', '2025-05-27 00:00:00',\n",
            " '2025-05-28 00:00:00', '2025-05-29 00:00:00', '2025-05-30 00:00:00',\n",
            " '2025-06-02 00:00:00', '2025-06-03 00:00:00', '2025-06-04 00:00:00',\n",
            " '2025-06-05 00:00:00', '2025-06-06 00:00:00', '2025-06-09 00:00:00',\n",
            " '2025-06-10 00:00:00', '2025-06-11 00:00:00', '2025-06-12 00:00:00']\n",
            "Length: 30, dtype: datetime64[ns]\n",
            "2025-05-02 00:00:00: 43 tickers\n",
            "2025-05-05 00:00:00: 43 tickers\n",
            "2025-05-06 00:00:00: 43 tickers\n",
            "2025-05-07 00:00:00: 43 tickers\n",
            "2025-05-08 00:00:00: 43 tickers\n",
            "2025-05-09 00:00:00: 43 tickers\n",
            "2025-05-12 00:00:00: 42 tickers\n",
            "2025-05-13 00:00:00: 42 tickers\n",
            "2025-05-14 00:00:00: 42 tickers\n",
            "2025-05-15 00:00:00: 42 tickers\n",
            "2025-05-16 00:00:00: 42 tickers\n",
            "2025-05-19 00:00:00: 42 tickers\n",
            "2025-05-20 00:00:00: 42 tickers\n",
            "2025-05-21 00:00:00: 42 tickers\n",
            "2025-05-22 00:00:00: 42 tickers\n",
            "2025-05-23 00:00:00: 42 tickers\n",
            "2025-05-26 00:00:00: 4 tickers\n",
            "2025-05-27 00:00:00: 42 tickers\n",
            "2025-05-28 00:00:00: 42 tickers\n",
            "2025-05-29 00:00:00: 42 tickers\n",
            "2025-05-30 00:00:00: 42 tickers\n",
            "2025-06-02 00:00:00: 42 tickers\n",
            "2025-06-03 00:00:00: 42 tickers\n",
            "2025-06-04 00:00:00: 42 tickers\n",
            "2025-06-05 00:00:00: 42 tickers\n",
            "2025-06-06 00:00:00: 42 tickers\n",
            "2025-06-09 00:00:00: 42 tickers\n",
            "2025-06-10 00:00:00: 42 tickers\n",
            "2025-06-11 00:00:00: 42 tickers\n",
            "2025-06-12 00:00:00: 42 tickers\n"
          ]
        }
      ],
      "source": [
        "missing_cpi_dates = final_df[final_df['CPI'].isnull()]['Date'].unique()\n",
        "print(len(missing_cpi_dates), missing_cpi_dates)\n",
        "\n",
        "for date in missing_cpi_dates:\n",
        "    tickers_on_date = final_df[final_df['Date'] == date]['Ticker'].unique()\n",
        "    print(f\"{date}: {len(tickers_on_date)} tickers\")"
      ]
    },
    {
      "cell_type": "markdown",
      "metadata": {
        "id": "cEs04mvILBdI"
      },
      "source": [
        "> We can see that the values for the Currency Pairs is missing for that date, which means there is no information.\n",
        "\n",
        "> We can, then, safely drop these rows to improve the model's accuracy."
      ]
    },
    {
      "cell_type": "markdown",
      "metadata": {
        "id": "3RgEBAfRvpEW"
      },
      "source": [
        "## NFP"
      ]
    },
    {
      "cell_type": "code",
      "execution_count": null,
      "metadata": {
        "colab": {
          "base_uri": "https://localhost:8080/"
        },
        "id": "1axT0XnWLlvn",
        "outputId": "80699a90-49c3-4bbf-efd6-d6a0d5621e84"
      },
      "outputs": [
        {
          "name": "stdout",
          "output_type": "stream",
          "text": [
            "NFP: 1228 missing out of 113211 (1.08%)\n"
          ]
        }
      ],
      "source": [
        "nfp_missing = final_df['NFP'].isnull().sum()\n",
        "nfp_total = len(final_df)\n",
        "print(f\"NFP: {nfp_missing} missing out of {nfp_total} ({nfp_missing/nfp_total:.2%})\")"
      ]
    },
    {
      "cell_type": "markdown",
      "metadata": {
        "id": "-AvpL3guMTu3"
      },
      "source": [
        "There is a total of 602 missing values for the NFP, which constitutes a 0.53% of the total data. We will proceed to visualize where the null values are located:"
      ]
    },
    {
      "cell_type": "code",
      "execution_count": null,
      "metadata": {
        "colab": {
          "base_uri": "https://localhost:8080/",
          "height": 390
        },
        "id": "zsCJR-9TMh1s",
        "outputId": "5c808734-b7f7-4394-9b36-6feff2b07f8d"
      },
      "outputs": [
        {
          "data": {
            "image/png": "[encoded data removed]",
            "text/plain": [
              "<Figure size 1200x400 with 1 Axes>"
            ]
          },
          "metadata": {},
          "output_type": "display_data"
        }
      ],
      "source": [
        "final_df['nfp_missing'] = final_df['NFP'].isnull()\n",
        "final_df.groupby('Date')['nfp_missing'].mean().plot(figsize=(12, 4), title='NFP Missing Ratio Over Time')\n",
        "plt.ylabel('Missing Ratio')\n",
        "plt.show()\n",
        "\n",
        "final_df.drop(columns=['nfp_missing'], inplace=True)"
      ]
    },
    {
      "cell_type": "markdown",
      "metadata": {
        "id": "svv1jwTpMqnp"
      },
      "source": [
        "> In this particular case we have the NFP, which stands for the Non-Farm Payrolls. In simple terms, it measures inflation, so the higher it is, more inflation, higher prices.\n",
        "\n",
        "> We can see that the null values are concentrated on the end of the dataset. The reason for this is that the NFP is a ***monthly*** release, which means the values for it stay the same, until the next month arrives.\n",
        "\n",
        "> At the time of this writing (06/06/25), the next release is scheduled for 01/7. The last recorded CPI value dates (01/05/2025), ***as shown on the code below***.\n",
        "\n",
        "> This will, inevitably, generate null values infinitely, since there is a month between each announcement."
      ]
    },
    {
      "cell_type": "code",
      "execution_count": null,
      "metadata": {
        "colab": {
          "base_uri": "https://localhost:8080/",
          "height": 147
        },
        "id": "-NOpz7TZNJWC",
        "outputId": "fbb17313-a1ce-459d-efbc-c0f54b10c5ca"
      },
      "outputs": [
        {
          "data": {
            "text/plain": [
              "Date    2025-05-01 00:00:00\n",
              "NFP                159561.0\n",
              "Name: 111982, dtype: object"
            ]
          },
          "execution_count": 44,
          "metadata": {},
          "output_type": "execute_result"
        }
      ],
      "source": [
        "last_valid_index = final_df['NFP'].last_valid_index()\n",
        "final_df.loc[last_valid_index, ['Date', 'NFP']]"
      ]
    },
    {
      "cell_type": "markdown",
      "metadata": {
        "id": "V7ZGyI8hNSSs"
      },
      "source": [
        "> We'll proceed to check where the missing values are located:"
      ]
    },
    {
      "cell_type": "code",
      "execution_count": null,
      "metadata": {
        "colab": {
          "base_uri": "https://localhost:8080/"
        },
        "id": "ypr5Z2_8NVSq",
        "outputId": "8e790b12-f3da-437a-f515-be08862cffa0"
      },
      "outputs": [
        {
          "name": "stdout",
          "output_type": "stream",
          "text": [
            "Ticker\n",
            "GBPUSD=X    30\n",
            "EURUSD=X    30\n",
            "DX-Y.NYB    30\n",
            "JPY=X       30\n",
            "BA          29\n",
            "CAT         29\n",
            "CL=F        29\n",
            "AXP         29\n",
            "AAPL        29\n",
            "AMGN        29\n",
            "AMZN        29\n",
            "DIS         29\n",
            "CVX         29\n",
            "CSCO        29\n",
            "CRM         29\n",
            "GS          29\n",
            "HD          29\n",
            "HON         29\n",
            "GC=F        29\n",
            "IBM         29\n",
            "JNJ         29\n",
            "JPM         29\n",
            "KO          29\n",
            "MMM         29\n",
            "MRK         29\n",
            "MSFT        29\n",
            "NKE         29\n",
            "VZ          29\n",
            "NVDA        29\n",
            "PG          29\n",
            "SHW         29\n",
            "TRV         29\n",
            "UNH         29\n",
            "UUP         29\n",
            "V           29\n",
            "^DJI        29\n",
            "WMT         29\n",
            "XLF         29\n",
            "XLV         29\n",
            "^TNX        29\n",
            "^SPX        29\n",
            "^VIX        29\n",
            "MCD          6\n",
            "Name: count, dtype: int64\n"
          ]
        }
      ],
      "source": [
        "nfp_missing_by_ticker = final_df[final_df['NFP'].isnull()]['Ticker'].value_counts()\n",
        "print(nfp_missing_by_ticker.head(43))"
      ]
    },
    {
      "cell_type": "markdown",
      "metadata": {
        "id": "e2BUx18eNu68"
      },
      "source": [
        "> We find there are 14 values missing for all the current tickers involved, nothing out of the ordinary here."
      ]
    },
    {
      "cell_type": "markdown",
      "metadata": {
        "id": "M_MgsKgCONv9"
      },
      "source": [
        "# Null / Duplicate Dropping"
      ]
    },
    {
      "cell_type": "markdown",
      "metadata": {
        "id": "QTJyl9q9OSKh"
      },
      "source": [
        "## Null dropping"
      ]
    },
    {
      "cell_type": "markdown",
      "metadata": {
        "id": "7FqdPTpeOUu7"
      },
      "source": [
        "> We will proceed to analyze the impact of dropping these variables to our model, and see if there is anything worth looking at."
      ]
    },
    {
      "cell_type": "code",
      "execution_count": null,
      "metadata": {
        "colab": {
          "base_uri": "https://localhost:8080/"
        },
        "id": "cMpTrcVUPYgX",
        "outputId": "11c56b17-9a08-4580-a58d-ba07dac3ce1a"
      },
      "outputs": [
        {
          "name": "stdout",
          "output_type": "stream",
          "text": [
            "Ticker\n",
            "GBPUSD=X    59\n",
            "EURUSD=X    59\n",
            "DX-Y.NYB    59\n",
            "JPY=X       59\n",
            "BA          58\n",
            "CAT         58\n",
            "CL=F        58\n",
            "AXP         58\n",
            "AAPL        58\n",
            "AMGN        58\n",
            "AMZN        58\n",
            "DIS         58\n",
            "CVX         58\n",
            "CSCO        58\n",
            "CRM         58\n",
            "GS          58\n",
            "HD          58\n",
            "HON         58\n",
            "GC=F        58\n",
            "IBM         58\n",
            "JNJ         58\n",
            "JPM         58\n",
            "KO          58\n",
            "MMM         58\n",
            "MRK         58\n",
            "MSFT        58\n",
            "NKE         58\n",
            "VZ          58\n",
            "NVDA        58\n",
            "PG          58\n",
            "SHW         58\n",
            "TRV         58\n",
            "UNH         58\n",
            "UUP         58\n",
            "V           58\n",
            "^DJI        58\n",
            "WMT         58\n",
            "XLF         58\n",
            "XLV         58\n",
            "^TNX        58\n",
            "^SPX        58\n",
            "^VIX        58\n",
            "MCD         35\n",
            "Name: count, dtype: int64\n",
            "Ticker\n",
            "JPY=X       2719\n",
            "GBPUSD=X    2719\n",
            "EURUSD=X    2719\n",
            "DX-Y.NYB    2628\n",
            "BA          2627\n",
            "CAT         2627\n",
            "CRM         2627\n",
            "AXP         2627\n",
            "AAPL        2627\n",
            "AMGN        2627\n",
            "AMZN        2627\n",
            "VZ          2627\n",
            "DIS         2627\n",
            "CSCO        2627\n",
            "CVX         2627\n",
            "HON         2627\n",
            "HD          2627\n",
            "IBM         2627\n",
            "GS          2627\n",
            "MMM         2627\n",
            "JNJ         2627\n",
            "JPM         2627\n",
            "KO          2627\n",
            "MSFT        2627\n",
            "MRK         2627\n",
            "NVDA        2627\n",
            "NKE         2627\n",
            "^DJI        2627\n",
            "WMT         2627\n",
            "PG          2627\n",
            "SHW         2627\n",
            "TRV         2627\n",
            "UNH         2627\n",
            "UUP         2627\n",
            "V           2627\n",
            "^VIX        2627\n",
            "^SPX        2627\n",
            "XLF         2627\n",
            "XLV         2627\n",
            "CL=F        2626\n",
            "^TNX        2626\n",
            "GC=F        2625\n",
            "MCD         2604\n",
            "Name: count, dtype: int64\n",
            "Ticker\n",
            "DX-Y.NYB    0.022451\n",
            "GC=F        0.022095\n",
            "CL=F        0.022087\n",
            "^TNX        0.022087\n",
            "AMZN        0.022078\n",
            "BA          0.022078\n",
            "CAT         0.022078\n",
            "CRM         0.022078\n",
            "AXP         0.022078\n",
            "AMGN        0.022078\n",
            "AAPL        0.022078\n",
            "DIS         0.022078\n",
            "CVX         0.022078\n",
            "CSCO        0.022078\n",
            "HD          0.022078\n",
            "HON         0.022078\n",
            "IBM         0.022078\n",
            "JPM         0.022078\n",
            "GS          0.022078\n",
            "MSFT        0.022078\n",
            "MRK         0.022078\n",
            "KO          0.022078\n",
            "MMM         0.022078\n",
            "NVDA        0.022078\n",
            "PG          0.022078\n",
            "NKE         0.022078\n",
            "JNJ         0.022078\n",
            "V           0.022078\n",
            "VZ          0.022078\n",
            "XLF         0.022078\n",
            "WMT         0.022078\n",
            "TRV         0.022078\n",
            "UNH         0.022078\n",
            "UUP         0.022078\n",
            "SHW         0.022078\n",
            "XLV         0.022078\n",
            "^DJI        0.022078\n",
            "^SPX        0.022078\n",
            "^VIX        0.022078\n",
            "GBPUSD=X    0.021699\n",
            "JPY=X       0.021699\n",
            "EURUSD=X    0.021699\n",
            "MCD         0.013441\n",
            "Name: count, dtype: float64\n"
          ]
        }
      ],
      "source": [
        "affected_tickers = final_df[final_df[['RSI', 'ATR_Mean30', 'CPI', 'NFP']].isnull().any(axis=1)]['Ticker'].value_counts()\n",
        "print(affected_tickers)\n",
        "\n",
        "all_tickers = final_df['Ticker'].value_counts()\n",
        "print(all_tickers)\n",
        "\n",
        "null_impact_ratio = (affected_tickers / all_tickers).sort_values(ascending=False)\n",
        "print(null_impact_ratio)"
      ]
    },
    {
      "cell_type": "markdown",
      "metadata": {
        "id": "dveiZGfyQETk"
      },
      "source": [
        "> Everything looks about right, dropping these rows will represent a 2% of total rows dropped for each ticker, which is completely fine since we are trading of performance with accuracy, integrity and proper funcionality.\n",
        "\n",
        "> Would be nice to check the opposite course of action just for experimentation, but we won't do it here.\n",
        "\n",
        "> We will proceed to drop all these NaN values."
      ]
    },
    {
      "cell_type": "code",
      "execution_count": null,
      "metadata": {
        "id": "hgYQzjxQQPg7"
      },
      "outputs": [],
      "source": [
        "cols_to_check = ['RSI', 'ATR_Mean30', 'CPI', 'NFP']\n",
        "final_df_clean = final_df.dropna(subset=cols_to_check).copy()"
      ]
    },
    {
      "cell_type": "code",
      "execution_count": null,
      "metadata": {
        "colab": {
          "base_uri": "https://localhost:8080/"
        },
        "id": "MpRdeEjqQjY9",
        "outputId": "a6a18f00-91bc-4d4b-a837-94e885dce305"
      },
      "outputs": [
        {
          "name": "stdout",
          "output_type": "stream",
          "text": [
            "Original shape: (113211, 16)\n",
            "After dropna: (110736, 16)\n",
            "Dropped rows: 2475\n",
            "\n",
            "Remaining nulls:\n",
            " RSI           0\n",
            "ATR_Mean30    0\n",
            "CPI           0\n",
            "NFP           0\n",
            "dtype: int64\n"
          ]
        }
      ],
      "source": [
        "# Check for my personal sanity\n",
        "print(f\"Original shape: {final_df.shape}\")\n",
        "print(f\"After dropna: {final_df_clean.shape}\")\n",
        "print(f\"Dropped rows: {final_df.shape[0] - final_df_clean.shape[0]}\")\n",
        "print(\"\\nRemaining nulls:\\n\", final_df_clean[cols_to_check].isnull().sum())"
      ]
    },
    {
      "cell_type": "markdown",
      "metadata": {
        "id": "oHgeHgBWQv8_"
      },
      "source": [
        "> We can see that we have dropped a total of 2749 rows, having cleaned the dataset and allowing us to proceed with the rest of the analysis."
      ]
    },
    {
      "cell_type": "markdown",
      "metadata": {
        "id": "cYlA0GTkb5qs"
      },
      "source": [
        "## Numerical Univariate Analysis"
      ]
    },
    {
      "cell_type": "code",
      "execution_count": null,
      "metadata": {
        "colab": {
          "base_uri": "https://localhost:8080/",
          "height": 1000
        },
        "id": "W1KDPylATI50",
        "outputId": "f7dc8725-cbc5-4311-ebbf-b1999f9a9ab8"
      },
      "outputs": [
        {
          "data": {
            "image/png": "[encoded data removed]",
            "text/plain": [
              "<Figure size 1500x1400 with 24 Axes>"
            ]
          },
          "metadata": {},
          "output_type": "display_data"
        }
      ],
      "source": [
        "import matplotlib.pyplot as plt\n",
        "import seaborn as sns\n",
        "import numpy as np\n",
        "import math\n",
        "\n",
        "# Variables with long tails to clip\n",
        "long_tail_vars = ['High', 'Low', 'Volume', 'Close', 'MACD', 'MACD_Signal', 'MACD_Hist',\n",
        "                  'EMA_50', 'EMA_150', 'ATR', 'ATR_Mean30']\n",
        "\n",
        "# Select all numeric columns\n",
        "numeric_cols = final_df_clean.select_dtypes(include=np.number).columns\n",
        "n_vars = len(numeric_cols)\n",
        "\n",
        "# Layout: 3 variables per row (each variable uses 1 column with 2 rows of plots)\n",
        "cols = 3\n",
        "rows = math.ceil(n_vars / cols)\n",
        "\n",
        "# Create figure\n",
        "fig, axes = plt.subplots(rows * 2, cols, figsize=(cols * 5, rows * 3.5),\n",
        "                         gridspec_kw={'height_ratios': [6, 1] * rows})\n",
        "\n",
        "# Flatten axes to easily index\n",
        "axes = np.array(axes).reshape(rows * 2, cols)\n",
        "\n",
        "for i, col in enumerate(numeric_cols):\n",
        "    row_idx = (i // cols) * 2  # double row index (for histogram and boxplot)\n",
        "    col_idx = i % cols\n",
        "\n",
        "    # Drop NaNs\n",
        "    data = final_df_clean[col].dropna()\n",
        "\n",
        "    # Clip if long-tailed\n",
        "    if col in long_tail_vars:\n",
        "        q_low, q_high = data.quantile([0.01, 0.99])\n",
        "        data = data[(data >= q_low) & (data <= q_high)]\n",
        "\n",
        "    # Plot histogram\n",
        "    sns.histplot(ax=axes[row_idx, col_idx], x=data, bins=30, kde=False, color='skyblue')\n",
        "    axes[row_idx, col_idx].set_title(f\"{col} Histogram\")\n",
        "    axes[row_idx, col_idx].set(xlabel=None)\n",
        "\n",
        "    # Plot boxplot\n",
        "    sns.boxplot(ax=axes[row_idx + 1, col_idx], x=data, orient='h', color='lightcoral')\n",
        "    axes[row_idx + 1, col_idx].set(xlabel=col)\n",
        "\n",
        "# Remove any empty subplots\n",
        "for j in range(i + 1, rows * cols):\n",
        "    axes[(j // cols) * 2, j % cols].set_visible(False)\n",
        "    axes[(j // cols) * 2 + 1, j % cols].set_visible(False)\n",
        "\n",
        "plt.tight_layout()\n",
        "plt.show()"
      ]
    },
    {
      "cell_type": "markdown",
      "metadata": {
        "id": "zgS_U1LpaTXo"
      },
      "source": [
        "### Explanation of numeric variables."
      ]
    },
    {
      "cell_type": "markdown",
      "metadata": {
        "id": "sNjjGf36b_Ra"
      },
      "source": [
        "## Categorical Univariate Analysis"
      ]
    },
    {
      "cell_type": "code",
      "execution_count": null,
      "metadata": {
        "colab": {
          "base_uri": "https://localhost:8080/",
          "height": 807
        },
        "id": "u1PbWlHTcDyB",
        "outputId": "2f44c6d7-61b6-4064-87ab-9eaca8bb604e"
      },
      "outputs": [
        {
          "data": {
            "image/png": "[encoded data removed]",
            "text/plain": [
              "<Figure size 1200x800 with 4 Axes>"
            ]
          },
          "metadata": {},
          "output_type": "display_data"
        }
      ],
      "source": [
        "import matplotlib.pyplot as plt\n",
        "import seaborn as sns\n",
        "\n",
        "# Columnas que quieres graficar\n",
        "categorical_vars = [\"EMA_Signal\", \"RSI_Signal\", \"Trend_Strength\", \"ATR_Alto\"]\n",
        "\n",
        "# Crear una figura 2x2\n",
        "fig, axis = plt.subplots(2, 2, figsize=(12, 8))\n",
        "axis = axis.flatten()  # Convertir a lista para iterar fácilmente\n",
        "\n",
        "# Títulos amigables\n",
        "titles = {\n",
        "    \"EMA_Signal\": \"EMA Signal\",\n",
        "    \"RSI_Signal\": \"RSI Signal\",\n",
        "    \"Trend_Strength\": \"Trend Strength (ADX)\",\n",
        "    \"ATR_Alto\": \"ATR Alto (Booleano)\"\n",
        "}\n",
        "\n",
        "for i, var in enumerate(categorical_vars):\n",
        "    if var in final_df_clean.columns:\n",
        "        sns.histplot(ax=axis[i], data=final_df_clean, x=var)\n",
        "        axis[i].set_title(titles.get(var, var))\n",
        "    else:\n",
        "        axis[i].text(0.5, 0.5, f\"'{var}' no encontrado\", ha='center', va='center')\n",
        "        axis[i].set_axis_off()\n",
        "\n",
        "plt.tight_layout()\n",
        "plt.show()\n"
      ]
    },
    {
      "cell_type": "markdown",
      "metadata": {
        "id": "I2Tzuh_kcMJp"
      },
      "source": [
        "### Explanation of categorical variables"
      ]
    },
    {
      "cell_type": "markdown",
      "metadata": {
        "id": "wPgzJpwvfjYS"
      },
      "source": [
        "# Analysis of multivariate variables"
      ]
    },
    {
      "cell_type": "code",
      "execution_count": null,
      "metadata": {
        "colab": {
          "base_uri": "https://localhost:8080/",
          "height": 598
        },
        "id": "7TCcbOzPc0M9",
        "outputId": "5b6e7ac5-8a16-4dfe-f073-7fc08720879f"
      },
      "outputs": [
        {
          "name": "stderr",
          "output_type": "stream",
          "text": [
            "/tmp/ipykernel_2228/780725769.py:65: FutureWarning: \n",
            "\n",
            "Passing `palette` without assigning `hue` is deprecated and will be removed in v0.14.0. Assign the `y` variable to `hue` and set `legend=False` for the same effect.\n",
            "\n",
            "  sns.barplot(x=sorted_corrs.values, y=sorted_corrs.index, palette=\"coolwarm\")\n"
          ]
        },
        {
          "data": {
            "image/png": "[encoded data removed]",
            "text/plain": [
              "<Figure size 1000x500 with 1 Axes>"
            ]
          },
          "metadata": {},
          "output_type": "display_data"
        }
      ],
      "source": [
        "import pandas as pd\n",
        "import matplotlib.pyplot as plt\n",
        "import seaborn as sns\n",
        "import ta  # pip install ta\n",
        "\n",
        "# Asegúrate de que 'Close' es numérico\n",
        "final_df_clean['Close'] = pd.to_numeric(final_df_clean['Close'], errors='coerce')\n",
        "\n",
        "# Calcular MACD si no existe\n",
        "if 'MACD' not in final_df_clean.columns:\n",
        "    macd = ta.trend.MACD(close=final_df_clean['Close'], fillna=True)\n",
        "    final_df_clean['MACD'] = macd.macd()\n",
        "    final_df_clean['MACD_Signal'] = macd.macd_signal()\n",
        "    final_df_clean['MACD_Hist'] = macd.macd_diff()\n",
        "\n",
        "# Calcular EMAs si no existen\n",
        "if 'EMA_50' not in final_df_clean.columns:\n",
        "    final_df_clean['EMA_50'] = ta.trend.ema_indicator(final_df_clean['Close'], window=50, fillna=True)\n",
        "\n",
        "if 'EMA_150' not in final_df_clean.columns:\n",
        "    final_df_clean['EMA_150'] = ta.trend.ema_indicator(final_df_clean['Close'], window=150, fillna=True)\n",
        "\n",
        "# Calcular ATR si no existe\n",
        "if 'ATR' not in final_df_clean.columns:\n",
        "    atr = ta.volatility.AverageTrueRange(\n",
        "        high=final_df_clean['High'],\n",
        "        low=final_df_clean['Low'],\n",
        "        close=final_df_clean['Close'],\n",
        "        window=14,\n",
        "        fillna=True\n",
        "    )\n",
        "    final_df_clean['ATR'] = atr.average_true_range()\n",
        "\n",
        "# Calcular media móvil de ATR si no existe\n",
        "if 'ATR_Mean30' not in final_df_clean.columns:\n",
        "    final_df_clean['ATR_Mean30'] = final_df_clean.groupby('Ticker')['ATR'].transform(lambda x: x.rolling(30).mean())\n",
        "\n",
        "# 🔎 Análisis de correlación\n",
        "\n",
        "# Variable objetivo\n",
        "target = 'Close'\n",
        "\n",
        "# Variables numéricas\n",
        "numerical_features = [\n",
        "    'Open', 'High', 'Low', 'Volume',\n",
        "    'MACD', 'MACD_Signal', 'MACD_Hist',\n",
        "    'EMA_50', 'EMA_150', 'ATR', 'ATR_Mean30'\n",
        "]\n",
        "\n",
        "# Asegurar que todas sean numéricas\n",
        "for col in numerical_features:\n",
        "    final_df_clean[col] = pd.to_numeric(final_df_clean[col], errors='coerce')\n",
        "\n",
        "# Eliminar filas con NaNs en las columnas seleccionadas\n",
        "final_df_clean.dropna(subset=numerical_features + [target], inplace=True)\n",
        "\n",
        "# Calcular correlación\n",
        "corr_matrix = final_df_clean[numerical_features + [target]].corr()\n",
        "corrs = corr_matrix[target].drop(target)\n",
        "\n",
        "# Ordenar y graficar\n",
        "sorted_corrs = corrs.sort_values(ascending=False)\n",
        "\n",
        "plt.figure(figsize=(10, 5))\n",
        "sns.barplot(x=sorted_corrs.values, y=sorted_corrs.index, palette=\"coolwarm\")\n",
        "plt.title(f'Correlación de variables numéricas con {target}', fontsize=14)\n",
        "plt.xlabel('Coeficiente de correlación')\n",
        "plt.ylabel('Feature')\n",
        "plt.tight_layout()\n",
        "plt.show()\n"
      ]
    },
    {
      "cell_type": "markdown",
      "metadata": {
        "id": "lPUHIW950cXl"
      },
      "source": [
        "# XGBoost\n"
      ]
    },
    {
      "cell_type": "code",
      "execution_count": null,
      "metadata": {
        "id": "g4axLr8C4nDD"
      },
      "outputs": [],
      "source": [
        "final_df_clean = final_df_clean.copy()\n",
        "final_df_clean['target'] = (final_df_clean['Close'].shift(-1) > final_df_clean['Close']).astype(int)\n",
        "final_df_clean = final_df_clean[:-1]"
      ]
    },
    {
      "cell_type": "code",
      "execution_count": null,
      "metadata": {
        "colab": {
          "base_uri": "https://localhost:8080/",
          "height": 648
        },
        "id": "d8Rofbhr5ieF",
        "outputId": "e5f6598b-3bae-4cd2-ecac-756625f54e01"
      },
      "outputs": [
        {
          "data": {
            "text/html": [
              "<div>\n",
              "<style scoped>\n",
              "    .dataframe tbody tr th:only-of-type {\n",
              "        vertical-align: middle;\n",
              "    }\n",
              "\n",
              "    .dataframe tbody tr th {\n",
              "        vertical-align: top;\n",
              "    }\n",
              "\n",
              "    .dataframe thead th {\n",
              "        text-align: right;\n",
              "    }\n",
              "</style>\n",
              "<table border=\"1\" class=\"dataframe\">\n",
              "  <thead>\n",
              "    <tr style=\"text-align: right;\">\n",
              "      <th></th>\n",
              "      <th>Ticker</th>\n",
              "      <th>Open</th>\n",
              "      <th>High</th>\n",
              "      <th>Low</th>\n",
              "      <th>Close</th>\n",
              "      <th>Volume</th>\n",
              "      <th>ADX</th>\n",
              "      <th>Trend_Strength</th>\n",
              "      <th>ATR</th>\n",
              "      <th>ATR_Mean30</th>\n",
              "      <th>...</th>\n",
              "      <th>CPI</th>\n",
              "      <th>NFP</th>\n",
              "      <th>DayOfWeek</th>\n",
              "      <th>RSI</th>\n",
              "      <th>MACD</th>\n",
              "      <th>MACD_Signal</th>\n",
              "      <th>MACD_Hist</th>\n",
              "      <th>EMA_50</th>\n",
              "      <th>EMA_150</th>\n",
              "      <th>target</th>\n",
              "    </tr>\n",
              "    <tr>\n",
              "      <th>Date</th>\n",
              "      <th></th>\n",
              "      <th></th>\n",
              "      <th></th>\n",
              "      <th></th>\n",
              "      <th></th>\n",
              "      <th></th>\n",
              "      <th></th>\n",
              "      <th></th>\n",
              "      <th></th>\n",
              "      <th></th>\n",
              "      <th></th>\n",
              "      <th></th>\n",
              "      <th></th>\n",
              "      <th></th>\n",
              "      <th></th>\n",
              "      <th></th>\n",
              "      <th></th>\n",
              "      <th></th>\n",
              "      <th></th>\n",
              "      <th></th>\n",
              "      <th></th>\n",
              "    </tr>\n",
              "  </thead>\n",
              "  <tbody>\n",
              "    <tr>\n",
              "      <th>2015-02-12</th>\n",
              "      <td>EURUSD=X</td>\n",
              "      <td>1.130825</td>\n",
              "      <td>1.139819</td>\n",
              "      <td>1.130621</td>\n",
              "      <td>1.131196</td>\n",
              "      <td>0.000000e+00</td>\n",
              "      <td>55.790886</td>\n",
              "      <td>Strong Trend</td>\n",
              "      <td>0.013763</td>\n",
              "      <td>0.008619</td>\n",
              "      <td>...</td>\n",
              "      <td>235.342</td>\n",
              "      <td>140827.0</td>\n",
              "      <td>3</td>\n",
              "      <td>39.671091</td>\n",
              "      <td>0.000000</td>\n",
              "      <td>0.000000</td>\n",
              "      <td>0.000000</td>\n",
              "      <td>1.131196</td>\n",
              "      <td>1.131196</td>\n",
              "      <td>1</td>\n",
              "    </tr>\n",
              "    <tr>\n",
              "      <th>2015-02-12</th>\n",
              "      <td>GBPUSD=X</td>\n",
              "      <td>1.523972</td>\n",
              "      <td>1.538793</td>\n",
              "      <td>1.521838</td>\n",
              "      <td>1.524274</td>\n",
              "      <td>0.000000e+00</td>\n",
              "      <td>22.119449</td>\n",
              "      <td>Weak Trend</td>\n",
              "      <td>0.013638</td>\n",
              "      <td>0.007949</td>\n",
              "      <td>...</td>\n",
              "      <td>235.342</td>\n",
              "      <td>140827.0</td>\n",
              "      <td>3</td>\n",
              "      <td>51.833413</td>\n",
              "      <td>0.031357</td>\n",
              "      <td>0.006271</td>\n",
              "      <td>0.025085</td>\n",
              "      <td>1.146611</td>\n",
              "      <td>1.136402</td>\n",
              "      <td>1</td>\n",
              "    </tr>\n",
              "    <tr>\n",
              "      <th>2015-02-12</th>\n",
              "      <td>JPY=X</td>\n",
              "      <td>120.193001</td>\n",
              "      <td>120.369003</td>\n",
              "      <td>118.894997</td>\n",
              "      <td>120.169998</td>\n",
              "      <td>0.000000e+00</td>\n",
              "      <td>33.680226</td>\n",
              "      <td>Strong Trend</td>\n",
              "      <td>1.285520</td>\n",
              "      <td>0.734875</td>\n",
              "      <td>...</td>\n",
              "      <td>235.342</td>\n",
              "      <td>140827.0</td>\n",
              "      <td>3</td>\n",
              "      <td>60.515991</td>\n",
              "      <td>9.520183</td>\n",
              "      <td>1.909054</td>\n",
              "      <td>7.611129</td>\n",
              "      <td>5.814195</td>\n",
              "      <td>2.713006</td>\n",
              "      <td>0</td>\n",
              "    </tr>\n",
              "    <tr>\n",
              "      <th>2015-02-13</th>\n",
              "      <td>AAPL</td>\n",
              "      <td>28.387920</td>\n",
              "      <td>28.387920</td>\n",
              "      <td>28.024373</td>\n",
              "      <td>28.343313</td>\n",
              "      <td>2.170888e+08</td>\n",
              "      <td>29.631276</td>\n",
              "      <td>Weak Trend</td>\n",
              "      <td>0.612083</td>\n",
              "      <td>0.393575</td>\n",
              "      <td>...</td>\n",
              "      <td>235.342</td>\n",
              "      <td>140827.0</td>\n",
              "      <td>4</td>\n",
              "      <td>76.702795</td>\n",
              "      <td>9.520750</td>\n",
              "      <td>3.431393</td>\n",
              "      <td>6.089357</td>\n",
              "      <td>6.697690</td>\n",
              "      <td>3.052481</td>\n",
              "      <td>1</td>\n",
              "    </tr>\n",
              "    <tr>\n",
              "      <th>2015-02-13</th>\n",
              "      <td>AMGN</td>\n",
              "      <td>114.183764</td>\n",
              "      <td>114.324990</td>\n",
              "      <td>111.649164</td>\n",
              "      <td>114.079704</td>\n",
              "      <td>3.591400e+06</td>\n",
              "      <td>14.682343</td>\n",
              "      <td>No Trend</td>\n",
              "      <td>3.144212</td>\n",
              "      <td>1.967972</td>\n",
              "      <td>...</td>\n",
              "      <td>235.342</td>\n",
              "      <td>140827.0</td>\n",
              "      <td>4</td>\n",
              "      <td>47.915400</td>\n",
              "      <td>16.252067</td>\n",
              "      <td>5.995528</td>\n",
              "      <td>10.256539</td>\n",
              "      <td>10.908749</td>\n",
              "      <td>4.523040</td>\n",
              "      <td>0</td>\n",
              "    </tr>\n",
              "    <tr>\n",
              "      <th>...</th>\n",
              "      <td>...</td>\n",
              "      <td>...</td>\n",
              "      <td>...</td>\n",
              "      <td>...</td>\n",
              "      <td>...</td>\n",
              "      <td>...</td>\n",
              "      <td>...</td>\n",
              "      <td>...</td>\n",
              "      <td>...</td>\n",
              "      <td>...</td>\n",
              "      <td>...</td>\n",
              "      <td>...</td>\n",
              "      <td>...</td>\n",
              "      <td>...</td>\n",
              "      <td>...</td>\n",
              "      <td>...</td>\n",
              "      <td>...</td>\n",
              "      <td>...</td>\n",
              "      <td>...</td>\n",
              "      <td>...</td>\n",
              "      <td>...</td>\n",
              "    </tr>\n",
              "    <tr>\n",
              "      <th>2025-05-01</th>\n",
              "      <td>XLF</td>\n",
              "      <td>48.580002</td>\n",
              "      <td>49.070000</td>\n",
              "      <td>48.439999</td>\n",
              "      <td>48.750000</td>\n",
              "      <td>3.442020e+07</td>\n",
              "      <td>18.110680</td>\n",
              "      <td>No Trend</td>\n",
              "      <td>1.303287</td>\n",
              "      <td>1.290298</td>\n",
              "      <td>...</td>\n",
              "      <td>320.580</td>\n",
              "      <td>159561.0</td>\n",
              "      <td>3</td>\n",
              "      <td>55.286009</td>\n",
              "      <td>-189.753219</td>\n",
              "      <td>-224.517487</td>\n",
              "      <td>34.764268</td>\n",
              "      <td>665.841375</td>\n",
              "      <td>1051.522449</td>\n",
              "      <td>1</td>\n",
              "    </tr>\n",
              "    <tr>\n",
              "      <th>2025-05-01</th>\n",
              "      <td>XLV</td>\n",
              "      <td>138.809998</td>\n",
              "      <td>139.110001</td>\n",
              "      <td>136.470001</td>\n",
              "      <td>136.639999</td>\n",
              "      <td>1.036320e+07</td>\n",
              "      <td>29.618022</td>\n",
              "      <td>Weak Trend</td>\n",
              "      <td>3.078909</td>\n",
              "      <td>2.744770</td>\n",
              "      <td>...</td>\n",
              "      <td>320.580</td>\n",
              "      <td>159561.0</td>\n",
              "      <td>3</td>\n",
              "      <td>44.502661</td>\n",
              "      <td>-179.199624</td>\n",
              "      <td>-215.453914</td>\n",
              "      <td>36.254290</td>\n",
              "      <td>645.088380</td>\n",
              "      <td>1039.404801</td>\n",
              "      <td>1</td>\n",
              "    </tr>\n",
              "    <tr>\n",
              "      <th>2025-05-01</th>\n",
              "      <td>^DJI</td>\n",
              "      <td>40918.039062</td>\n",
              "      <td>41099.519531</td>\n",
              "      <td>40705.628906</td>\n",
              "      <td>40752.960938</td>\n",
              "      <td>5.972700e+08</td>\n",
              "      <td>27.597243</td>\n",
              "      <td>Weak Trend</td>\n",
              "      <td>953.536512</td>\n",
              "      <td>924.258067</td>\n",
              "      <td>...</td>\n",
              "      <td>320.580</td>\n",
              "      <td>159561.0</td>\n",
              "      <td>3</td>\n",
              "      <td>52.319296</td>\n",
              "      <td>3071.159417</td>\n",
              "      <td>441.868752</td>\n",
              "      <td>2629.290665</td>\n",
              "      <td>2217.946128</td>\n",
              "      <td>1565.412167</td>\n",
              "      <td>0</td>\n",
              "    </tr>\n",
              "    <tr>\n",
              "      <th>2025-05-01</th>\n",
              "      <td>^SPX</td>\n",
              "      <td>5625.140137</td>\n",
              "      <td>5658.910156</td>\n",
              "      <td>5597.350098</td>\n",
              "      <td>5604.140137</td>\n",
              "      <td>4.935270e+09</td>\n",
              "      <td>25.923298</td>\n",
              "      <td>Weak Trend</td>\n",
              "      <td>145.004085</td>\n",
              "      <td>140.597754</td>\n",
              "      <td>...</td>\n",
              "      <td>320.580</td>\n",
              "      <td>159561.0</td>\n",
              "      <td>3</td>\n",
              "      <td>56.259972</td>\n",
              "      <td>2778.843508</td>\n",
              "      <td>909.263703</td>\n",
              "      <td>1869.579805</td>\n",
              "      <td>2350.738050</td>\n",
              "      <td>1618.905253</td>\n",
              "      <td>0</td>\n",
              "    </tr>\n",
              "    <tr>\n",
              "      <th>2025-05-01</th>\n",
              "      <td>^TNX</td>\n",
              "      <td>4.150000</td>\n",
              "      <td>4.241000</td>\n",
              "      <td>4.124000</td>\n",
              "      <td>4.231000</td>\n",
              "      <td>0.000000e+00</td>\n",
              "      <td>14.110068</td>\n",
              "      <td>No Trend</td>\n",
              "      <td>0.099867</td>\n",
              "      <td>0.098234</td>\n",
              "      <td>...</td>\n",
              "      <td>320.580</td>\n",
              "      <td>159561.0</td>\n",
              "      <td>3</td>\n",
              "      <td>46.233073</td>\n",
              "      <td>2071.436942</td>\n",
              "      <td>1141.698351</td>\n",
              "      <td>929.738591</td>\n",
              "      <td>2258.718165</td>\n",
              "      <td>1597.518839</td>\n",
              "      <td>1</td>\n",
              "    </tr>\n",
              "  </tbody>\n",
              "</table>\n",
              "<p>110735 rows × 21 columns</p>\n",
              "</div>"
            ],
            "text/plain": [
              "              Ticker          Open          High           Low         Close  \\\n",
              "Date                                                                           \n",
              "2015-02-12  EURUSD=X      1.130825      1.139819      1.130621      1.131196   \n",
              "2015-02-12  GBPUSD=X      1.523972      1.538793      1.521838      1.524274   \n",
              "2015-02-12     JPY=X    120.193001    120.369003    118.894997    120.169998   \n",
              "2015-02-13      AAPL     28.387920     28.387920     28.024373     28.343313   \n",
              "2015-02-13      AMGN    114.183764    114.324990    111.649164    114.079704   \n",
              "...              ...           ...           ...           ...           ...   \n",
              "2025-05-01       XLF     48.580002     49.070000     48.439999     48.750000   \n",
              "2025-05-01       XLV    138.809998    139.110001    136.470001    136.639999   \n",
              "2025-05-01      ^DJI  40918.039062  41099.519531  40705.628906  40752.960938   \n",
              "2025-05-01      ^SPX   5625.140137   5658.910156   5597.350098   5604.140137   \n",
              "2025-05-01      ^TNX      4.150000      4.241000      4.124000      4.231000   \n",
              "\n",
              "                  Volume        ADX Trend_Strength         ATR  ATR_Mean30  \\\n",
              "Date                                                                         \n",
              "2015-02-12  0.000000e+00  55.790886   Strong Trend    0.013763    0.008619   \n",
              "2015-02-12  0.000000e+00  22.119449     Weak Trend    0.013638    0.007949   \n",
              "2015-02-12  0.000000e+00  33.680226   Strong Trend    1.285520    0.734875   \n",
              "2015-02-13  2.170888e+08  29.631276     Weak Trend    0.612083    0.393575   \n",
              "2015-02-13  3.591400e+06  14.682343       No Trend    3.144212    1.967972   \n",
              "...                  ...        ...            ...         ...         ...   \n",
              "2025-05-01  3.442020e+07  18.110680       No Trend    1.303287    1.290298   \n",
              "2025-05-01  1.036320e+07  29.618022     Weak Trend    3.078909    2.744770   \n",
              "2025-05-01  5.972700e+08  27.597243     Weak Trend  953.536512  924.258067   \n",
              "2025-05-01  4.935270e+09  25.923298     Weak Trend  145.004085  140.597754   \n",
              "2025-05-01  0.000000e+00  14.110068       No Trend    0.099867    0.098234   \n",
              "\n",
              "            ...      CPI       NFP  DayOfWeek        RSI         MACD  \\\n",
              "Date        ...                                                         \n",
              "2015-02-12  ...  235.342  140827.0          3  39.671091     0.000000   \n",
              "2015-02-12  ...  235.342  140827.0          3  51.833413     0.031357   \n",
              "2015-02-12  ...  235.342  140827.0          3  60.515991     9.520183   \n",
              "2015-02-13  ...  235.342  140827.0          4  76.702795     9.520750   \n",
              "2015-02-13  ...  235.342  140827.0          4  47.915400    16.252067   \n",
              "...         ...      ...       ...        ...        ...          ...   \n",
              "2025-05-01  ...  320.580  159561.0          3  55.286009  -189.753219   \n",
              "2025-05-01  ...  320.580  159561.0          3  44.502661  -179.199624   \n",
              "2025-05-01  ...  320.580  159561.0          3  52.319296  3071.159417   \n",
              "2025-05-01  ...  320.580  159561.0          3  56.259972  2778.843508   \n",
              "2025-05-01  ...  320.580  159561.0          3  46.233073  2071.436942   \n",
              "\n",
              "            MACD_Signal    MACD_Hist       EMA_50      EMA_150  target  \n",
              "Date                                                                    \n",
              "2015-02-12     0.000000     0.000000     1.131196     1.131196       1  \n",
              "2015-02-12     0.006271     0.025085     1.146611     1.136402       1  \n",
              "2015-02-12     1.909054     7.611129     5.814195     2.713006       0  \n",
              "2015-02-13     3.431393     6.089357     6.697690     3.052481       1  \n",
              "2015-02-13     5.995528    10.256539    10.908749     4.523040       0  \n",
              "...                 ...          ...          ...          ...     ...  \n",
              "2025-05-01  -224.517487    34.764268   665.841375  1051.522449       1  \n",
              "2025-05-01  -215.453914    36.254290   645.088380  1039.404801       1  \n",
              "2025-05-01   441.868752  2629.290665  2217.946128  1565.412167       0  \n",
              "2025-05-01   909.263703  1869.579805  2350.738050  1618.905253       0  \n",
              "2025-05-01  1141.698351   929.738591  2258.718165  1597.518839       1  \n",
              "\n",
              "[110735 rows x 21 columns]"
            ]
          },
          "metadata": {},
          "output_type": "display_data"
        }
      ],
      "source": [
        "final_df_clean = final_df_clean.set_index('Date')\n",
        "\n",
        "display(final_df_clean)"
      ]
    },
    {
      "cell_type": "code",
      "execution_count": null,
      "metadata": {
        "colab": {
          "base_uri": "https://localhost:8080/"
        },
        "id": "BJ74FMDvgPOx",
        "outputId": "d855bd4c-8184-44b9-a215-e7c2fde0d4af"
      },
      "outputs": [
        {
          "name": "stdout",
          "output_type": "stream",
          "text": [
            "✅ Archivos guardados en carpeta temporal:\n",
            "- Mapping CSV: /tmp/ticker_mapping.csv\n",
            "- Encoder PKL: /tmp/ticker_encoder.pkl\n"
          ]
        }
      ],
      "source": [
        "import tempfile\n",
        "import os\n",
        "from sklearn.preprocessing import LabelEncoder\n",
        "import joblib\n",
        "import pandas as pd\n",
        "\n",
        "# Codificar tickers\n",
        "le = LabelEncoder()\n",
        "final_df_clean['ticker_encoded'] = le.fit_transform(final_df_clean['Ticker'])\n",
        "\n",
        "# Crear mapeo\n",
        "ticker_mapping = pd.DataFrame({\n",
        "    'ticker': le.classes_,\n",
        "    'ticker_encoded': range(len(le.classes_))\n",
        "})\n",
        "\n",
        "# Usar carpeta temporal\n",
        "temp_dir = tempfile.gettempdir()\n",
        "\n",
        "# Guardar archivos\n",
        "ticker_csv_path = os.path.join(temp_dir, 'ticker_mapping.csv')\n",
        "encoder_pkl_path = os.path.join(temp_dir, 'ticker_encoder.pkl')\n",
        "\n",
        "ticker_mapping.to_csv(ticker_csv_path, index=False)\n",
        "joblib.dump(le, encoder_pkl_path)\n",
        "\n",
        "# Confirmar rutas\n",
        "print(\"✅ Archivos guardados en carpeta temporal:\")\n",
        "print(f\"- Mapping CSV: {ticker_csv_path}\")\n",
        "print(f\"- Encoder PKL: {encoder_pkl_path}\")\n"
      ]
    },
    {
      "cell_type": "code",
      "execution_count": null,
      "metadata": {
        "colab": {
          "base_uri": "https://localhost:8080/"
        },
        "id": "QPuZxSyo6MhB",
        "outputId": "d95054dd-1b6f-466e-a9eb-8c7054b1fd71"
      },
      "outputs": [
        {
          "name": "stderr",
          "output_type": "stream",
          "text": [
            "/workspaces/sebasProyecto-Dow-Jones-2025sebas/venv/lib/python3.11/site-packages/xgboost/training.py:183: UserWarning: [21:48:53] WARNING: /workspace/src/learner.cc:738: \n",
            "Parameters: { \"use_label_encoder\" } are not used.\n",
            "\n",
            "  bst.update(dtrain, iteration=i, fobj=obj)\n"
          ]
        },
        {
          "name": "stdout",
          "output_type": "stream",
          "text": [
            "Test Accuracy: 0.9460\n"
          ]
        }
      ],
      "source": [
        "from sklearn.preprocessing import LabelEncoder\n",
        "import xgboost as xgb\n",
        "from sklearn.metrics import accuracy_score\n",
        "\n",
        "# Drop 'Ticker' if present\n",
        "if 'Ticker' in final_df_clean.columns:\n",
        "       final_df_clean = final_df_clean.drop(columns=['Ticker'])\n",
        "\n",
        "# Encode categorical columns to numeric\n",
        "categorical_cols = ['EMA_Signal', 'RSI_Signal', 'Trend_Strength']\n",
        "for col in categorical_cols:\n",
        "    if col in final_df_clean.columns:\n",
        "        le = LabelEncoder()\n",
        "        final_df_clean[col] = le.fit_transform(final_df_clean[col])\n",
        "\n",
        "# Define features and target\n",
        "X = final_df_clean.drop(columns=['target'])\n",
        "y = final_df_clean['target']\n",
        "\n",
        "# Time-based train/test split\n",
        "split_index = int(len(final_df_clean) * 0.9)\n",
        "X_train, X_test = X.iloc[:split_index], X.iloc[split_index:]\n",
        "y_train, y_test = y.iloc[:split_index], y.iloc[split_index:]\n",
        "\n",
        "# Train XGBoost\n",
        "model = xgb.XGBClassifier(use_label_encoder=False, eval_metric='logloss', random_state=42)\n",
        "model.fit(X_train, y_train)\n",
        "\n",
        "# Predict and evaluate\n",
        "y_pred = model.predict(X_test)\n",
        "accuracy = accuracy_score(y_test, y_pred)\n",
        "print(f\"Test Accuracy: {accuracy:.4f}\")\n"
      ]
    },
    {
      "cell_type": "code",
      "execution_count": null,
      "metadata": {
        "colab": {
          "base_uri": "https://localhost:8080/"
        },
        "id": "TyfSefmd6rbl",
        "outputId": "33a8fda9-67b0-4ec3-de98-aaaa6a82deac"
      },
      "outputs": [
        {
          "name": "stderr",
          "output_type": "stream",
          "text": [
            "/workspaces/sebasProyecto-Dow-Jones-2025sebas/venv/lib/python3.11/site-packages/xgboost/training.py:183: UserWarning: [21:48:54] WARNING: /workspace/src/learner.cc:738: \n",
            "Parameters: { \"use_label_encoder\" } are not used.\n",
            "\n",
            "  bst.update(dtrain, iteration=i, fobj=obj)\n"
          ]
        },
        {
          "name": "stdout",
          "output_type": "stream",
          "text": [
            "✅ Test Accuracy: 0.9460\n"
          ]
        }
      ],
      "source": [
        "from sklearn.preprocessing import LabelEncoder\n",
        "import xgboost as xgb\n",
        "from sklearn.metrics import accuracy_score\n",
        "\n",
        "# Asegurarte de no tener la columna 'Ticker'\n",
        "if 'Ticker' in final_df_clean.columns:\n",
        "    final_df_clean = final_df_clean.drop(columns=['Ticker'])\n",
        "\n",
        "# Encode categorical columns\n",
        "categorical_cols = ['EMA_Signal', 'RSI_Signal', 'Trend_Strength']\n",
        "for col in categorical_cols:\n",
        "    if col in final_df_clean.columns:\n",
        "        le = LabelEncoder()\n",
        "        final_df_clean[col] = le.fit_transform(final_df_clean[col])\n",
        "\n",
        "# Asegúrate de que 'target' exista\n",
        "if 'target' not in final_df_clean.columns:\n",
        "    raise ValueError(\"❌ No se encuentra la columna 'target' en el dataframe.\")\n",
        "\n",
        "# Separar variables\n",
        "X = final_df_clean.drop(columns=['target'])\n",
        "y = final_df_clean['target']\n",
        "\n",
        "# Dividir por tiempo (ej. 90% train, 10% test)\n",
        "split_index = int(len(final_df_clean) * 0.9)\n",
        "X_train, X_test = X.iloc[:split_index], X.iloc[split_index:]\n",
        "y_train, y_test = y.iloc[:split_index], y.iloc[split_index:]\n",
        "\n",
        "# Entrenar modelo\n",
        "model = xgb.XGBClassifier(\n",
        "    use_label_encoder=False,\n",
        "    eval_metric='logloss',\n",
        "    random_state=42\n",
        ")\n",
        "model.fit(X_train, y_train)\n",
        "\n",
        "# Evaluar\n",
        "y_pred = model.predict(X_test)\n",
        "accuracy = accuracy_score(y_test, y_pred)\n",
        "print(f\"✅ Test Accuracy: {accuracy:.4f}\")\n"
      ]
    },
    {
      "cell_type": "code",
      "execution_count": null,
      "metadata": {
        "colab": {
          "base_uri": "https://localhost:8080/",
          "height": 220
        },
        "id": "wDvYFQpGRa-f",
        "outputId": "30d21c25-c130-4b30-c5da-fbdde8cdb74c"
      },
      "outputs": [
        {
          "name": "stdout",
          "output_type": "stream",
          "text": [
            "📊 Ticker codificado: 3\n",
            "              precision    recall  f1-score   support\n",
            "\n",
            "           0      1.000     1.000     1.000       257\n",
            "\n",
            "    accuracy                          1.000       257\n",
            "   macro avg      1.000     1.000     1.000       257\n",
            "weighted avg      1.000     1.000     1.000       257\n",
            "\n",
            "⚠️ No se puede calcular ROC AUC (una sola clase presente en test)\n",
            "----------------------------------------\n",
            "📊 Ticker codificado: 4\n",
            "              precision    recall  f1-score   support\n",
            "\n",
            "           1      1.000     1.000     1.000       257\n",
            "\n",
            "    accuracy                          1.000       257\n",
            "   macro avg      1.000     1.000     1.000       257\n",
            "weighted avg      1.000     1.000     1.000       257\n",
            "\n",
            "⚠️ No se puede calcular ROC AUC (una sola clase presente en test)\n",
            "----------------------------------------\n",
            "📊 Ticker codificado: 5\n",
            "              precision    recall  f1-score   support\n",
            "\n",
            "           0      1.000     1.000     1.000       257\n",
            "\n",
            "    accuracy                          1.000       257\n",
            "   macro avg      1.000     1.000     1.000       257\n",
            "weighted avg      1.000     1.000     1.000       257\n",
            "\n",
            "⚠️ No se puede calcular ROC AUC (una sola clase presente en test)\n",
            "----------------------------------------\n",
            "📊 Ticker codificado: 6\n",
            "              precision    recall  f1-score   support\n",
            "\n",
            "           1      1.000     1.000     1.000       258\n",
            "\n",
            "    accuracy                          1.000       258\n",
            "   macro avg      1.000     1.000     1.000       258\n",
            "weighted avg      1.000     1.000     1.000       258\n",
            "\n",
            "⚠️ No se puede calcular ROC AUC (una sola clase presente en test)\n",
            "----------------------------------------\n",
            "📊 Ticker codificado: 7\n",
            "              precision    recall  f1-score   support\n",
            "\n",
            "           0      1.000     1.000     1.000       257\n",
            "\n",
            "    accuracy                          1.000       257\n",
            "   macro avg      1.000     1.000     1.000       257\n",
            "weighted avg      1.000     1.000     1.000       257\n",
            "\n",
            "⚠️ No se puede calcular ROC AUC (una sola clase presente en test)\n",
            "----------------------------------------\n",
            "📊 Ticker codificado: 8\n",
            "              precision    recall  f1-score   support\n",
            "\n",
            "           1      1.000     1.000     1.000       257\n",
            "\n",
            "    accuracy                          1.000       257\n",
            "   macro avg      1.000     1.000     1.000       257\n",
            "weighted avg      1.000     1.000     1.000       257\n",
            "\n",
            "⚠️ No se puede calcular ROC AUC (una sola clase presente en test)\n",
            "----------------------------------------\n",
            "📊 Ticker codificado: 9\n",
            "              precision    recall  f1-score   support\n",
            "\n",
            "           0      1.000     1.000     1.000       257\n",
            "\n",
            "    accuracy                          1.000       257\n",
            "   macro avg      1.000     1.000     1.000       257\n",
            "weighted avg      1.000     1.000     1.000       257\n",
            "\n",
            "⚠️ No se puede calcular ROC AUC (una sola clase presente en test)\n",
            "----------------------------------------\n",
            "📊 Ticker codificado: 10\n",
            "              precision    recall  f1-score   support\n",
            "\n",
            "           0      0.792     1.000     0.884        80\n",
            "           1      1.000     0.881     0.937       177\n",
            "\n",
            "    accuracy                          0.918       257\n",
            "   macro avg      0.896     0.941     0.910       257\n",
            "weighted avg      0.935     0.918     0.920       257\n",
            "\n",
            "ROC AUC: 0.9703\n",
            "----------------------------------------\n",
            "📊 Ticker codificado: 11\n",
            "              precision    recall  f1-score   support\n",
            "\n",
            "           0      0.996     0.996     0.996       257\n",
            "           1      0.000     0.000     0.000         1\n",
            "\n",
            "    accuracy                          0.992       258\n",
            "   macro avg      0.498     0.498     0.498       258\n",
            "weighted avg      0.992     0.992     0.992       258\n",
            "\n",
            "ROC AUC: 0.9416\n",
            "----------------------------------------\n",
            "📊 Ticker codificado: 12\n",
            "              precision    recall  f1-score   support\n",
            "\n",
            "           1      1.000     1.000     1.000       265\n",
            "\n",
            "    accuracy                          1.000       265\n",
            "   macro avg      1.000     1.000     1.000       265\n",
            "weighted avg      1.000     1.000     1.000       265\n",
            "\n",
            "⚠️ No se puede calcular ROC AUC (una sola clase presente en test)\n",
            "----------------------------------------\n",
            "📊 Ticker codificado: 13\n",
            "              precision    recall  f1-score   support\n",
            "\n",
            "           1      1.000     1.000     1.000       265\n",
            "\n",
            "    accuracy                          1.000       265\n",
            "   macro avg      1.000     1.000     1.000       265\n",
            "weighted avg      1.000     1.000     1.000       265\n",
            "\n",
            "⚠️ No se puede calcular ROC AUC (una sola clase presente en test)\n",
            "----------------------------------------\n",
            "📊 Ticker codificado: 14\n",
            "              precision    recall  f1-score   support\n",
            "\n",
            "           0      1.000     1.000     1.000       258\n",
            "\n",
            "    accuracy                          1.000       258\n",
            "   macro avg      1.000     1.000     1.000       258\n",
            "weighted avg      1.000     1.000     1.000       258\n",
            "\n",
            "⚠️ No se puede calcular ROC AUC (una sola clase presente en test)\n",
            "----------------------------------------\n",
            "📊 Ticker codificado: 15\n",
            "              precision    recall  f1-score   support\n",
            "\n",
            "           0      1.000     1.000     1.000       257\n",
            "\n",
            "    accuracy                          1.000       257\n",
            "   macro avg      1.000     1.000     1.000       257\n",
            "weighted avg      1.000     1.000     1.000       257\n",
            "\n",
            "⚠️ No se puede calcular ROC AUC (una sola clase presente en test)\n",
            "----------------------------------------\n",
            "📊 Ticker codificado: 16\n",
            "              precision    recall  f1-score   support\n",
            "\n",
            "           0      1.000     1.000     1.000       257\n",
            "\n",
            "    accuracy                          1.000       257\n",
            "   macro avg      1.000     1.000     1.000       257\n",
            "weighted avg      1.000     1.000     1.000       257\n",
            "\n",
            "⚠️ No se puede calcular ROC AUC (una sola clase presente en test)\n",
            "----------------------------------------\n",
            "📊 Ticker codificado: 17\n",
            "              precision    recall  f1-score   support\n",
            "\n",
            "           0      0.537     1.000     0.699       138\n",
            "           1      0.000     0.000     0.000       119\n",
            "\n",
            "    accuracy                          0.537       257\n",
            "   macro avg      0.268     0.500     0.349       257\n",
            "weighted avg      0.288     0.537     0.375       257\n",
            "\n",
            "ROC AUC: 0.5734\n",
            "----------------------------------------\n",
            "📊 Ticker codificado: 18\n",
            "              precision    recall  f1-score   support\n",
            "\n",
            "           0      1.000     1.000     1.000       257\n",
            "\n",
            "    accuracy                          1.000       257\n",
            "   macro avg      1.000     1.000     1.000       257\n",
            "weighted avg      1.000     1.000     1.000       257\n",
            "\n",
            "⚠️ No se puede calcular ROC AUC (una sola clase presente en test)\n",
            "----------------------------------------\n",
            "📊 Ticker codificado: 19\n",
            "              precision    recall  f1-score   support\n",
            "\n",
            "           0      0.000     0.000     0.000         0\n",
            "           1      1.000     0.455     0.626       257\n",
            "\n",
            "    accuracy                          0.455       257\n",
            "   macro avg      0.500     0.228     0.313       257\n",
            "weighted avg      1.000     0.455     0.626       257\n",
            "\n",
            "⚠️ No se puede calcular ROC AUC (una sola clase presente en test)\n",
            "----------------------------------------\n",
            "📊 Ticker codificado: 20\n",
            "              precision    recall  f1-score   support\n",
            "\n",
            "           0      1.000     1.000     1.000       257\n",
            "\n",
            "    accuracy                          1.000       257\n",
            "   macro avg      1.000     1.000     1.000       257\n",
            "weighted avg      1.000     1.000     1.000       257\n",
            "\n",
            "⚠️ No se puede calcular ROC AUC (una sola clase presente en test)\n",
            "----------------------------------------\n",
            "📊 Ticker codificado: 21\n",
            "              precision    recall  f1-score   support\n",
            "\n",
            "           0      1.000     1.000     1.000       256\n",
            "           1      1.000     1.000     1.000         9\n",
            "\n",
            "    accuracy                          1.000       265\n",
            "   macro avg      1.000     1.000     1.000       265\n",
            "weighted avg      1.000     1.000     1.000       265\n",
            "\n",
            "ROC AUC: 1.0000\n",
            "----------------------------------------\n",
            "📊 Ticker codificado: 22\n",
            "              precision    recall  f1-score   support\n",
            "\n",
            "           1      1.000     1.000     1.000       257\n",
            "\n",
            "    accuracy                          1.000       257\n",
            "   macro avg      1.000     1.000     1.000       257\n",
            "weighted avg      1.000     1.000     1.000       257\n",
            "\n",
            "⚠️ No se puede calcular ROC AUC (una sola clase presente en test)\n",
            "----------------------------------------\n",
            "📊 Ticker codificado: 23\n",
            "              precision    recall  f1-score   support\n",
            "\n",
            "           0      1.000     1.000     1.000       257\n",
            "\n",
            "    accuracy                          1.000       257\n",
            "   macro avg      1.000     1.000     1.000       257\n",
            "weighted avg      1.000     1.000     1.000       257\n",
            "\n",
            "⚠️ No se puede calcular ROC AUC (una sola clase presente en test)\n",
            "----------------------------------------\n",
            "📊 Ticker codificado: 24\n",
            "              precision    recall  f1-score   support\n",
            "\n",
            "           0      0.995     0.979     0.987       191\n",
            "           1      0.942     0.985     0.963        66\n",
            "\n",
            "    accuracy                          0.981       257\n",
            "   macro avg      0.968     0.982     0.975       257\n",
            "weighted avg      0.981     0.981     0.981       257\n",
            "\n",
            "ROC AUC: 0.9943\n",
            "----------------------------------------\n",
            "📊 Ticker codificado: 25\n",
            "              precision    recall  f1-score   support\n",
            "\n",
            "           1      1.000     1.000     1.000       257\n",
            "\n",
            "    accuracy                          1.000       257\n",
            "   macro avg      1.000     1.000     1.000       257\n",
            "weighted avg      1.000     1.000     1.000       257\n",
            "\n",
            "⚠️ No se puede calcular ROC AUC (una sola clase presente en test)\n",
            "----------------------------------------\n",
            "📊 Ticker codificado: 26\n",
            "              precision    recall  f1-score   support\n",
            "\n",
            "           0      1.000     1.000     1.000       257\n",
            "\n",
            "    accuracy                          1.000       257\n",
            "   macro avg      1.000     1.000     1.000       257\n",
            "weighted avg      1.000     1.000     1.000       257\n",
            "\n",
            "⚠️ No se puede calcular ROC AUC (una sola clase presente en test)\n",
            "----------------------------------------\n",
            "📊 Ticker codificado: 27\n",
            "              precision    recall  f1-score   support\n",
            "\n",
            "           0      0.066     1.000     0.124        13\n",
            "           1      1.000     0.250     0.400       244\n",
            "\n",
            "    accuracy                          0.288       257\n",
            "   macro avg      0.533     0.625     0.262       257\n",
            "weighted avg      0.953     0.288     0.386       257\n",
            "\n",
            "ROC AUC: 0.8373\n",
            "----------------------------------------\n",
            "📊 Ticker codificado: 28\n",
            "              precision    recall  f1-score   support\n",
            "\n",
            "           1      1.000     1.000     1.000       257\n",
            "\n",
            "    accuracy                          1.000       257\n",
            "   macro avg      1.000     1.000     1.000       257\n",
            "weighted avg      1.000     1.000     1.000       257\n",
            "\n",
            "⚠️ No se puede calcular ROC AUC (una sola clase presente en test)\n",
            "----------------------------------------\n",
            "📊 Ticker codificado: 29\n",
            "              precision    recall  f1-score   support\n",
            "\n",
            "           1      1.000     1.000     1.000       257\n",
            "\n",
            "    accuracy                          1.000       257\n",
            "   macro avg      1.000     1.000     1.000       257\n",
            "weighted avg      1.000     1.000     1.000       257\n",
            "\n",
            "⚠️ No se puede calcular ROC AUC (una sola clase presente en test)\n",
            "----------------------------------------\n",
            "📊 Ticker codificado: 30\n",
            "              precision    recall  f1-score   support\n",
            "\n",
            "           0      1.000     1.000     1.000       257\n",
            "\n",
            "    accuracy                          1.000       257\n",
            "   macro avg      1.000     1.000     1.000       257\n",
            "weighted avg      1.000     1.000     1.000       257\n",
            "\n",
            "⚠️ No se puede calcular ROC AUC (una sola clase presente en test)\n",
            "----------------------------------------\n",
            "📊 Ticker codificado: 31\n",
            "              precision    recall  f1-score   support\n",
            "\n",
            "           0      0.000     0.000     0.000         0\n",
            "           1      1.000     0.817     0.899       257\n",
            "\n",
            "    accuracy                          0.817       257\n",
            "   macro avg      0.500     0.409     0.450       257\n",
            "weighted avg      1.000     0.817     0.899       257\n",
            "\n",
            "⚠️ No se puede calcular ROC AUC (una sola clase presente en test)\n",
            "----------------------------------------\n",
            "📊 Ticker codificado: 32\n",
            "              precision    recall  f1-score   support\n",
            "\n",
            "           0      1.000     1.000     1.000       257\n",
            "\n",
            "    accuracy                          1.000       257\n",
            "   macro avg      1.000     1.000     1.000       257\n",
            "weighted avg      1.000     1.000     1.000       257\n",
            "\n",
            "⚠️ No se puede calcular ROC AUC (una sola clase presente en test)\n",
            "----------------------------------------\n",
            "📊 Ticker codificado: 33\n",
            "              precision    recall  f1-score   support\n",
            "\n",
            "           1      1.000     1.000     1.000       257\n",
            "\n",
            "    accuracy                          1.000       257\n",
            "   macro avg      1.000     1.000     1.000       257\n",
            "weighted avg      1.000     1.000     1.000       257\n",
            "\n",
            "⚠️ No se puede calcular ROC AUC (una sola clase presente en test)\n",
            "----------------------------------------\n",
            "📊 Ticker codificado: 34\n",
            "              precision    recall  f1-score   support\n",
            "\n",
            "           0      1.000     1.000     1.000       257\n",
            "\n",
            "    accuracy                          1.000       257\n",
            "   macro avg      1.000     1.000     1.000       257\n",
            "weighted avg      1.000     1.000     1.000       257\n",
            "\n",
            "⚠️ No se puede calcular ROC AUC (una sola clase presente en test)\n",
            "----------------------------------------\n",
            "📊 Ticker codificado: 35\n",
            "              precision    recall  f1-score   support\n",
            "\n",
            "           1      1.000     1.000     1.000       257\n",
            "\n",
            "    accuracy                          1.000       257\n",
            "   macro avg      1.000     1.000     1.000       257\n",
            "weighted avg      1.000     1.000     1.000       257\n",
            "\n",
            "⚠️ No se puede calcular ROC AUC (una sola clase presente en test)\n",
            "----------------------------------------\n",
            "📊 Ticker codificado: 36\n",
            "              precision    recall  f1-score   support\n",
            "\n",
            "           0      1.000     0.957     0.978       257\n",
            "           1      0.000     0.000     0.000         0\n",
            "\n",
            "    accuracy                          0.957       257\n",
            "   macro avg      0.500     0.479     0.489       257\n",
            "weighted avg      1.000     0.957     0.978       257\n",
            "\n",
            "⚠️ No se puede calcular ROC AUC (una sola clase presente en test)\n",
            "----------------------------------------\n",
            "📊 Ticker codificado: 37\n",
            "              precision    recall  f1-score   support\n",
            "\n",
            "           1      1.000     1.000     1.000       257\n",
            "\n",
            "    accuracy                          1.000       257\n",
            "   macro avg      1.000     1.000     1.000       257\n",
            "weighted avg      1.000     1.000     1.000       257\n",
            "\n",
            "⚠️ No se puede calcular ROC AUC (una sola clase presente en test)\n",
            "----------------------------------------\n",
            "📊 Ticker codificado: 38\n",
            "              precision    recall  f1-score   support\n",
            "\n",
            "           1      1.000     1.000     1.000       257\n",
            "\n",
            "    accuracy                          1.000       257\n",
            "   macro avg      1.000     1.000     1.000       257\n",
            "weighted avg      1.000     1.000     1.000       257\n",
            "\n",
            "⚠️ No se puede calcular ROC AUC (una sola clase presente en test)\n",
            "----------------------------------------\n",
            "📊 Ticker codificado: 39\n",
            "              precision    recall  f1-score   support\n",
            "\n",
            "           0      1.000     1.000     1.000       257\n",
            "\n",
            "    accuracy                          1.000       257\n",
            "   macro avg      1.000     1.000     1.000       257\n",
            "weighted avg      1.000     1.000     1.000       257\n",
            "\n",
            "⚠️ No se puede calcular ROC AUC (una sola clase presente en test)\n",
            "----------------------------------------\n",
            "📊 Ticker codificado: 40\n",
            "              precision    recall  f1-score   support\n",
            "\n",
            "           0      1.000     1.000     1.000       257\n",
            "\n",
            "    accuracy                          1.000       257\n",
            "   macro avg      1.000     1.000     1.000       257\n",
            "weighted avg      1.000     1.000     1.000       257\n",
            "\n",
            "⚠️ No se puede calcular ROC AUC (una sola clase presente en test)\n",
            "----------------------------------------\n",
            "📊 Ticker codificado: 41\n",
            "              precision    recall  f1-score   support\n",
            "\n",
            "           1      1.000     1.000     1.000       257\n",
            "\n",
            "    accuracy                          1.000       257\n",
            "   macro avg      1.000     1.000     1.000       257\n",
            "weighted avg      1.000     1.000     1.000       257\n",
            "\n",
            "⚠️ No se puede calcular ROC AUC (una sola clase presente en test)\n",
            "----------------------------------------\n",
            "📊 Ticker codificado: 42\n",
            "              precision    recall  f1-score   support\n",
            "\n",
            "           0      0.000     0.000     0.000         8\n",
            "           1      0.969     1.000     0.984       248\n",
            "\n",
            "    accuracy                          0.969       256\n",
            "   macro avg      0.484     0.500     0.492       256\n",
            "weighted avg      0.938     0.969     0.953       256\n",
            "\n",
            "ROC AUC: 0.5751\n",
            "----------------------------------------\n",
            "📊 Ticker codificado: 0\n",
            "              precision    recall  f1-score   support\n",
            "\n",
            "           1      1.000     1.000     1.000       256\n",
            "\n",
            "    accuracy                          1.000       256\n",
            "   macro avg      1.000     1.000     1.000       256\n",
            "weighted avg      1.000     1.000     1.000       256\n",
            "\n",
            "⚠️ No se puede calcular ROC AUC (una sola clase presente en test)\n",
            "----------------------------------------\n",
            "📊 Ticker codificado: 1\n",
            "              precision    recall  f1-score   support\n",
            "\n",
            "           0      1.000     1.000     1.000       256\n",
            "\n",
            "    accuracy                          1.000       256\n",
            "   macro avg      1.000     1.000     1.000       256\n",
            "weighted avg      1.000     1.000     1.000       256\n",
            "\n",
            "⚠️ No se puede calcular ROC AUC (una sola clase presente en test)\n",
            "----------------------------------------\n",
            "📊 Ticker codificado: 2\n",
            "              precision    recall  f1-score   support\n",
            "\n",
            "           0      0.000     0.000     0.000         0\n",
            "           1      1.000     0.758     0.862       256\n",
            "\n",
            "    accuracy                          0.758       256\n",
            "   macro avg      0.500     0.379     0.431       256\n",
            "weighted avg      1.000     0.758     0.862       256\n",
            "\n",
            "⚠️ No se puede calcular ROC AUC (una sola clase presente en test)\n",
            "----------------------------------------\n"
          ]
        },
        {
          "name": "stderr",
          "output_type": "stream",
          "text": [
            "/workspaces/sebasProyecto-Dow-Jones-2025sebas/venv/lib/python3.11/site-packages/sklearn/metrics/_classification.py:1706: UndefinedMetricWarning: Precision is ill-defined and being set to 0.0 in labels with no predicted samples. Use `zero_division` parameter to control this behavior.\n",
            "  _warn_prf(average, modifier, f\"{metric.capitalize()} is\", result.shape[0])\n",
            "/workspaces/sebasProyecto-Dow-Jones-2025sebas/venv/lib/python3.11/site-packages/sklearn/metrics/_classification.py:1706: UndefinedMetricWarning: Precision is ill-defined and being set to 0.0 in labels with no predicted samples. Use `zero_division` parameter to control this behavior.\n",
            "  _warn_prf(average, modifier, f\"{metric.capitalize()} is\", result.shape[0])\n",
            "/workspaces/sebasProyecto-Dow-Jones-2025sebas/venv/lib/python3.11/site-packages/sklearn/metrics/_classification.py:1706: UndefinedMetricWarning: Precision is ill-defined and being set to 0.0 in labels with no predicted samples. Use `zero_division` parameter to control this behavior.\n",
            "  _warn_prf(average, modifier, f\"{metric.capitalize()} is\", result.shape[0])\n",
            "/workspaces/sebasProyecto-Dow-Jones-2025sebas/venv/lib/python3.11/site-packages/sklearn/metrics/_classification.py:1706: UndefinedMetricWarning: Recall is ill-defined and being set to 0.0 in labels with no true samples. Use `zero_division` parameter to control this behavior.\n",
            "  _warn_prf(average, modifier, f\"{metric.capitalize()} is\", result.shape[0])\n",
            "/workspaces/sebasProyecto-Dow-Jones-2025sebas/venv/lib/python3.11/site-packages/sklearn/metrics/_classification.py:1706: UndefinedMetricWarning: Recall is ill-defined and being set to 0.0 in labels with no true samples. Use `zero_division` parameter to control this behavior.\n",
            "  _warn_prf(average, modifier, f\"{metric.capitalize()} is\", result.shape[0])\n",
            "/workspaces/sebasProyecto-Dow-Jones-2025sebas/venv/lib/python3.11/site-packages/sklearn/metrics/_classification.py:1706: UndefinedMetricWarning: Recall is ill-defined and being set to 0.0 in labels with no true samples. Use `zero_division` parameter to control this behavior.\n",
            "  _warn_prf(average, modifier, f\"{metric.capitalize()} is\", result.shape[0])\n",
            "/workspaces/sebasProyecto-Dow-Jones-2025sebas/venv/lib/python3.11/site-packages/sklearn/metrics/_classification.py:1706: UndefinedMetricWarning: Recall is ill-defined and being set to 0.0 in labels with no true samples. Use `zero_division` parameter to control this behavior.\n",
            "  _warn_prf(average, modifier, f\"{metric.capitalize()} is\", result.shape[0])\n",
            "/workspaces/sebasProyecto-Dow-Jones-2025sebas/venv/lib/python3.11/site-packages/sklearn/metrics/_classification.py:1706: UndefinedMetricWarning: Recall is ill-defined and being set to 0.0 in labels with no true samples. Use `zero_division` parameter to control this behavior.\n",
            "  _warn_prf(average, modifier, f\"{metric.capitalize()} is\", result.shape[0])\n",
            "/workspaces/sebasProyecto-Dow-Jones-2025sebas/venv/lib/python3.11/site-packages/sklearn/metrics/_classification.py:1706: UndefinedMetricWarning: Recall is ill-defined and being set to 0.0 in labels with no true samples. Use `zero_division` parameter to control this behavior.\n",
            "  _warn_prf(average, modifier, f\"{metric.capitalize()} is\", result.shape[0])\n",
            "/workspaces/sebasProyecto-Dow-Jones-2025sebas/venv/lib/python3.11/site-packages/sklearn/metrics/_classification.py:1706: UndefinedMetricWarning: Recall is ill-defined and being set to 0.0 in labels with no true samples. Use `zero_division` parameter to control this behavior.\n",
            "  _warn_prf(average, modifier, f\"{metric.capitalize()} is\", result.shape[0])\n",
            "/workspaces/sebasProyecto-Dow-Jones-2025sebas/venv/lib/python3.11/site-packages/sklearn/metrics/_classification.py:1706: UndefinedMetricWarning: Recall is ill-defined and being set to 0.0 in labels with no true samples. Use `zero_division` parameter to control this behavior.\n",
            "  _warn_prf(average, modifier, f\"{metric.capitalize()} is\", result.shape[0])\n",
            "/workspaces/sebasProyecto-Dow-Jones-2025sebas/venv/lib/python3.11/site-packages/sklearn/metrics/_classification.py:1706: UndefinedMetricWarning: Recall is ill-defined and being set to 0.0 in labels with no true samples. Use `zero_division` parameter to control this behavior.\n",
            "  _warn_prf(average, modifier, f\"{metric.capitalize()} is\", result.shape[0])\n",
            "/workspaces/sebasProyecto-Dow-Jones-2025sebas/venv/lib/python3.11/site-packages/sklearn/metrics/_classification.py:1706: UndefinedMetricWarning: Precision is ill-defined and being set to 0.0 in labels with no predicted samples. Use `zero_division` parameter to control this behavior.\n",
            "  _warn_prf(average, modifier, f\"{metric.capitalize()} is\", result.shape[0])\n",
            "/workspaces/sebasProyecto-Dow-Jones-2025sebas/venv/lib/python3.11/site-packages/sklearn/metrics/_classification.py:1706: UndefinedMetricWarning: Precision is ill-defined and being set to 0.0 in labels with no predicted samples. Use `zero_division` parameter to control this behavior.\n",
            "  _warn_prf(average, modifier, f\"{metric.capitalize()} is\", result.shape[0])\n",
            "/workspaces/sebasProyecto-Dow-Jones-2025sebas/venv/lib/python3.11/site-packages/sklearn/metrics/_classification.py:1706: UndefinedMetricWarning: Precision is ill-defined and being set to 0.0 in labels with no predicted samples. Use `zero_division` parameter to control this behavior.\n",
            "  _warn_prf(average, modifier, f\"{metric.capitalize()} is\", result.shape[0])\n",
            "/workspaces/sebasProyecto-Dow-Jones-2025sebas/venv/lib/python3.11/site-packages/sklearn/metrics/_classification.py:1706: UndefinedMetricWarning: Recall is ill-defined and being set to 0.0 in labels with no true samples. Use `zero_division` parameter to control this behavior.\n",
            "  _warn_prf(average, modifier, f\"{metric.capitalize()} is\", result.shape[0])\n",
            "/workspaces/sebasProyecto-Dow-Jones-2025sebas/venv/lib/python3.11/site-packages/sklearn/metrics/_classification.py:1706: UndefinedMetricWarning: Recall is ill-defined and being set to 0.0 in labels with no true samples. Use `zero_division` parameter to control this behavior.\n",
            "  _warn_prf(average, modifier, f\"{metric.capitalize()} is\", result.shape[0])\n",
            "/workspaces/sebasProyecto-Dow-Jones-2025sebas/venv/lib/python3.11/site-packages/sklearn/metrics/_classification.py:1706: UndefinedMetricWarning: Recall is ill-defined and being set to 0.0 in labels with no true samples. Use `zero_division` parameter to control this behavior.\n",
            "  _warn_prf(average, modifier, f\"{metric.capitalize()} is\", result.shape[0])\n"
          ]
        }
      ],
      "source": [
        "from sklearn.metrics import classification_report, roc_auc_score\n",
        "import numpy as np\n",
        "\n",
        "# Obtener las probabilidades predichas (solo de la clase positiva)\n",
        "y_proba = model.predict_proba(X_test)[:, 1]\n",
        "\n",
        "# Iterar por cada ticker codificado\n",
        "tickers = X_test['ticker_encoded'].unique()\n",
        "\n",
        "for ticker in tickers:\n",
        "    mask = X_test['ticker_encoded'] == ticker\n",
        "    y_true = y_test[mask]\n",
        "    y_pred_ticker = y_pred[mask]\n",
        "    y_proba_ticker = y_proba[mask]\n",
        "\n",
        "    print(f\"📊 Ticker codificado: {ticker}\")\n",
        "    print(classification_report(y_true, y_pred_ticker, digits=3))\n",
        "\n",
        "    # AUC solo si hay más de una clase presente\n",
        "    if len(np.unique(y_true)) == 2:\n",
        "        auc = roc_auc_score(y_true, y_proba_ticker)\n",
        "        print(f\"ROC AUC: {auc:.4f}\")\n",
        "    else:\n",
        "        print(\"⚠️ No se puede calcular ROC AUC (una sola clase presente en test)\")\n",
        "\n",
        "    print(\"-\" * 40)\n"
      ]
    },
    {
      "cell_type": "code",
      "execution_count": null,
      "metadata": {
        "id": "z7eO8DKj2gzU",
        "outputId": "3d844edd-e269-4671-d6f6-f14cb3ef893c"
      },
      "outputs": [
        {
          "name": "stdout",
          "output_type": "stream",
          "text": [
            "✅ Todo cargó bien\n",
            "NumPy: 2.2.0\n",
            "Numba: 0.61.2\n",
            "SHAP: 0.48.0\n"
          ]
        },
        {
          "name": "stderr",
          "output_type": "stream",
          "text": [
            "/workspaces/sebasProyecto-Dow-Jones-2025sebas/venv/lib/python3.11/site-packages/tqdm/auto.py:21: TqdmWarning: IProgress not found. Please update jupyter and ipywidgets. See https://ipywidgets.readthedocs.io/en/stable/user_install.html\n",
            "  from .autonotebook import tqdm as notebook_tqdm\n"
          ]
        }
      ],
      "source": [
        "import numpy\n",
        "import numba\n",
        "import shap\n",
        "\n",
        "print(\"✅ Todo cargó bien\")\n",
        "print(\"NumPy:\", numpy.__version__)\n",
        "print(\"Numba:\", numba.__version__)\n",
        "print(\"SHAP:\", shap.__version__)\n"
      ]
    },
    {
      "cell_type": "code",
      "execution_count": null,
      "metadata": {
        "id": "jqwdG_HZ2gzV",
        "outputId": "5a47aa6d-33fa-4412-d6e4-084c60b30a94"
      },
      "outputs": [
        {
          "name": "stdout",
          "output_type": "stream",
          "text": [
            "['Open', 'High', 'Low', 'Close', 'Adj Close', 'Volume', 'Ticker', 'Date']\n"
          ]
        }
      ],
      "source": [
        "print(df.columns.tolist())\n"
      ]
    },
    {
      "cell_type": "code",
      "execution_count": null,
      "metadata": {
        "id": "w3Ne6tQ62gzV",
        "outputId": "a88be3a2-6ca1-4205-b5d1-dac397088ce6"
      },
      "outputs": [
        {
          "name": "stdout",
          "output_type": "stream",
          "text": [
            "Manteniendo activo el entorno\n"
          ]
        }
      ],
      "source": [
        "print(\"Manteniendo activo el entorno\")\n"
      ]
    },
    {
      "cell_type": "code",
      "execution_count": null,
      "metadata": {
        "id": "1BhovT0-2gzV",
        "outputId": "58d0957a-5fea-440f-febf-f3e5e0d216a2"
      },
      "outputs": [
        {
          "name": "stdout",
          "output_type": "stream",
          "text": [
            "Mean CV Accuracy: 0.7523\n"
          ]
        },
        {
          "data": {
            "text/html": [
              "<style>#sk-container-id-1 {\n",
              "  /* Definition of color scheme common for light and dark mode */\n",
              "  --sklearn-color-text: #000;\n",
              "  --sklearn-color-text-muted: #666;\n",
              "  --sklearn-color-line: gray;\n",
              "  /* Definition of color scheme for unfitted estimators */\n",
              "  --sklearn-color-unfitted-level-0: #fff5e6;\n",
              "  --sklearn-color-unfitted-level-1: #f6e4d2;\n",
              "  --sklearn-color-unfitted-level-2: #ffe0b3;\n",
              "  --sklearn-color-unfitted-level-3: chocolate;\n",
              "  /* Definition of color scheme for fitted estimators */\n",
              "  --sklearn-color-fitted-level-0: #f0f8ff;\n",
              "  --sklearn-color-fitted-level-1: #d4ebff;\n",
              "  --sklearn-color-fitted-level-2: #b3dbfd;\n",
              "  --sklearn-color-fitted-level-3: cornflowerblue;\n",
              "\n",
              "  /* Specific color for light theme */\n",
              "  --sklearn-color-text-on-default-background: var(--sg-text-color, var(--theme-code-foreground, var(--jp-content-font-color1, black)));\n",
              "  --sklearn-color-background: var(--sg-background-color, var(--theme-background, var(--jp-layout-color0, white)));\n",
              "  --sklearn-color-border-box: var(--sg-text-color, var(--theme-code-foreground, var(--jp-content-font-color1, black)));\n",
              "  --sklearn-color-icon: #696969;\n",
              "\n",
              "  @media (prefers-color-scheme: dark) {\n",
              "    /* Redefinition of color scheme for dark theme */\n",
              "    --sklearn-color-text-on-default-background: var(--sg-text-color, var(--theme-code-foreground, var(--jp-content-font-color1, white)));\n",
              "    --sklearn-color-background: var(--sg-background-color, var(--theme-background, var(--jp-layout-color0, #111)));\n",
              "    --sklearn-color-border-box: var(--sg-text-color, var(--theme-code-foreground, var(--jp-content-font-color1, white)));\n",
              "    --sklearn-color-icon: #878787;\n",
              "  }\n",
              "}\n",
              "\n",
              "#sk-container-id-1 {\n",
              "  color: var(--sklearn-color-text);\n",
              "}\n",
              "\n",
              "#sk-container-id-1 pre {\n",
              "  padding: 0;\n",
              "}\n",
              "\n",
              "#sk-container-id-1 input.sk-hidden--visually {\n",
              "  border: 0;\n",
              "  clip: rect(1px 1px 1px 1px);\n",
              "  clip: rect(1px, 1px, 1px, 1px);\n",
              "  height: 1px;\n",
              "  margin: -1px;\n",
              "  overflow: hidden;\n",
              "  padding: 0;\n",
              "  position: absolute;\n",
              "  width: 1px;\n",
              "}\n",
              "\n",
              "#sk-container-id-1 div.sk-dashed-wrapped {\n",
              "  border: 1px dashed var(--sklearn-color-line);\n",
              "  margin: 0 0.4em 0.5em 0.4em;\n",
              "  box-sizing: border-box;\n",
              "  padding-bottom: 0.4em;\n",
              "  background-color: var(--sklearn-color-background);\n",
              "}\n",
              "\n",
              "#sk-container-id-1 div.sk-container {\n",
              "  /* jupyter's `normalize.less` sets `[hidden] { display: none; }`\n",
              "     but bootstrap.min.css set `[hidden] { display: none !important; }`\n",
              "     so we also need the `!important` here to be able to override the\n",
              "     default hidden behavior on the sphinx rendered scikit-learn.org.\n",
              "     See: https://github.com/scikit-learn/scikit-learn/issues/21755 */\n",
              "  display: inline-block !important;\n",
              "  position: relative;\n",
              "}\n",
              "\n",
              "#sk-container-id-1 div.sk-text-repr-fallback {\n",
              "  display: none;\n",
              "}\n",
              "\n",
              "div.sk-parallel-item,\n",
              "div.sk-serial,\n",
              "div.sk-item {\n",
              "  /* draw centered vertical line to link estimators */\n",
              "  background-image: linear-gradient(var(--sklearn-color-text-on-default-background), var(--sklearn-color-text-on-default-background));\n",
              "  background-size: 2px 100%;\n",
              "  background-repeat: no-repeat;\n",
              "  background-position: center center;\n",
              "}\n",
              "\n",
              "/* Parallel-specific style estimator block */\n",
              "\n",
              "#sk-container-id-1 div.sk-parallel-item::after {\n",
              "  content: \"\";\n",
              "  width: 100%;\n",
              "  border-bottom: 2px solid var(--sklearn-color-text-on-default-background);\n",
              "  flex-grow: 1;\n",
              "}\n",
              "\n",
              "#sk-container-id-1 div.sk-parallel {\n",
              "  display: flex;\n",
              "  align-items: stretch;\n",
              "  justify-content: center;\n",
              "  background-color: var(--sklearn-color-background);\n",
              "  position: relative;\n",
              "}\n",
              "\n",
              "#sk-container-id-1 div.sk-parallel-item {\n",
              "  display: flex;\n",
              "  flex-direction: column;\n",
              "}\n",
              "\n",
              "#sk-container-id-1 div.sk-parallel-item:first-child::after {\n",
              "  align-self: flex-end;\n",
              "  width: 50%;\n",
              "}\n",
              "\n",
              "#sk-container-id-1 div.sk-parallel-item:last-child::after {\n",
              "  align-self: flex-start;\n",
              "  width: 50%;\n",
              "}\n",
              "\n",
              "#sk-container-id-1 div.sk-parallel-item:only-child::after {\n",
              "  width: 0;\n",
              "}\n",
              "\n",
              "/* Serial-specific style estimator block */\n",
              "\n",
              "#sk-container-id-1 div.sk-serial {\n",
              "  display: flex;\n",
              "  flex-direction: column;\n",
              "  align-items: center;\n",
              "  background-color: var(--sklearn-color-background);\n",
              "  padding-right: 1em;\n",
              "  padding-left: 1em;\n",
              "}\n",
              "\n",
              "\n",
              "/* Toggleable style: style used for estimator/Pipeline/ColumnTransformer box that is\n",
              "clickable and can be expanded/collapsed.\n",
              "- Pipeline and ColumnTransformer use this feature and define the default style\n",
              "- Estimators will overwrite some part of the style using the `sk-estimator` class\n",
              "*/\n",
              "\n",
              "/* Pipeline and ColumnTransformer style (default) */\n",
              "\n",
              "#sk-container-id-1 div.sk-toggleable {\n",
              "  /* Default theme specific background. It is overwritten whether we have a\n",
              "  specific estimator or a Pipeline/ColumnTransformer */\n",
              "  background-color: var(--sklearn-color-background);\n",
              "}\n",
              "\n",
              "/* Toggleable label */\n",
              "#sk-container-id-1 label.sk-toggleable__label {\n",
              "  cursor: pointer;\n",
              "  display: flex;\n",
              "  width: 100%;\n",
              "  margin-bottom: 0;\n",
              "  padding: 0.5em;\n",
              "  box-sizing: border-box;\n",
              "  text-align: center;\n",
              "  align-items: start;\n",
              "  justify-content: space-between;\n",
              "  gap: 0.5em;\n",
              "}\n",
              "\n",
              "#sk-container-id-1 label.sk-toggleable__label .caption {\n",
              "  font-size: 0.6rem;\n",
              "  font-weight: lighter;\n",
              "  color: var(--sklearn-color-text-muted);\n",
              "}\n",
              "\n",
              "#sk-container-id-1 label.sk-toggleable__label-arrow:before {\n",
              "  /* Arrow on the left of the label */\n",
              "  content: \"▸\";\n",
              "  float: left;\n",
              "  margin-right: 0.25em;\n",
              "  color: var(--sklearn-color-icon);\n",
              "}\n",
              "\n",
              "#sk-container-id-1 label.sk-toggleable__label-arrow:hover:before {\n",
              "  color: var(--sklearn-color-text);\n",
              "}\n",
              "\n",
              "/* Toggleable content - dropdown */\n",
              "\n",
              "#sk-container-id-1 div.sk-toggleable__content {\n",
              "  display: none;\n",
              "  text-align: left;\n",
              "  /* unfitted */\n",
              "  background-color: var(--sklearn-color-unfitted-level-0);\n",
              "}\n",
              "\n",
              "#sk-container-id-1 div.sk-toggleable__content.fitted {\n",
              "  /* fitted */\n",
              "  background-color: var(--sklearn-color-fitted-level-0);\n",
              "}\n",
              "\n",
              "#sk-container-id-1 div.sk-toggleable__content pre {\n",
              "  margin: 0.2em;\n",
              "  border-radius: 0.25em;\n",
              "  color: var(--sklearn-color-text);\n",
              "  /* unfitted */\n",
              "  background-color: var(--sklearn-color-unfitted-level-0);\n",
              "}\n",
              "\n",
              "#sk-container-id-1 div.sk-toggleable__content.fitted pre {\n",
              "  /* unfitted */\n",
              "  background-color: var(--sklearn-color-fitted-level-0);\n",
              "}\n",
              "\n",
              "#sk-container-id-1 input.sk-toggleable__control:checked~div.sk-toggleable__content {\n",
              "  /* Expand drop-down */\n",
              "  display: block;\n",
              "  width: 100%;\n",
              "  overflow: visible;\n",
              "}\n",
              "\n",
              "#sk-container-id-1 input.sk-toggleable__control:checked~label.sk-toggleable__label-arrow:before {\n",
              "  content: \"▾\";\n",
              "}\n",
              "\n",
              "/* Pipeline/ColumnTransformer-specific style */\n",
              "\n",
              "#sk-container-id-1 div.sk-label input.sk-toggleable__control:checked~label.sk-toggleable__label {\n",
              "  color: var(--sklearn-color-text);\n",
              "  background-color: var(--sklearn-color-unfitted-level-2);\n",
              "}\n",
              "\n",
              "#sk-container-id-1 div.sk-label.fitted input.sk-toggleable__control:checked~label.sk-toggleable__label {\n",
              "  background-color: var(--sklearn-color-fitted-level-2);\n",
              "}\n",
              "\n",
              "/* Estimator-specific style */\n",
              "\n",
              "/* Colorize estimator box */\n",
              "#sk-container-id-1 div.sk-estimator input.sk-toggleable__control:checked~label.sk-toggleable__label {\n",
              "  /* unfitted */\n",
              "  background-color: var(--sklearn-color-unfitted-level-2);\n",
              "}\n",
              "\n",
              "#sk-container-id-1 div.sk-estimator.fitted input.sk-toggleable__control:checked~label.sk-toggleable__label {\n",
              "  /* fitted */\n",
              "  background-color: var(--sklearn-color-fitted-level-2);\n",
              "}\n",
              "\n",
              "#sk-container-id-1 div.sk-label label.sk-toggleable__label,\n",
              "#sk-container-id-1 div.sk-label label {\n",
              "  /* The background is the default theme color */\n",
              "  color: var(--sklearn-color-text-on-default-background);\n",
              "}\n",
              "\n",
              "/* On hover, darken the color of the background */\n",
              "#sk-container-id-1 div.sk-label:hover label.sk-toggleable__label {\n",
              "  color: var(--sklearn-color-text);\n",
              "  background-color: var(--sklearn-color-unfitted-level-2);\n",
              "}\n",
              "\n",
              "/* Label box, darken color on hover, fitted */\n",
              "#sk-container-id-1 div.sk-label.fitted:hover label.sk-toggleable__label.fitted {\n",
              "  color: var(--sklearn-color-text);\n",
              "  background-color: var(--sklearn-color-fitted-level-2);\n",
              "}\n",
              "\n",
              "/* Estimator label */\n",
              "\n",
              "#sk-container-id-1 div.sk-label label {\n",
              "  font-family: monospace;\n",
              "  font-weight: bold;\n",
              "  display: inline-block;\n",
              "  line-height: 1.2em;\n",
              "}\n",
              "\n",
              "#sk-container-id-1 div.sk-label-container {\n",
              "  text-align: center;\n",
              "}\n",
              "\n",
              "/* Estimator-specific */\n",
              "#sk-container-id-1 div.sk-estimator {\n",
              "  font-family: monospace;\n",
              "  border: 1px dotted var(--sklearn-color-border-box);\n",
              "  border-radius: 0.25em;\n",
              "  box-sizing: border-box;\n",
              "  margin-bottom: 0.5em;\n",
              "  /* unfitted */\n",
              "  background-color: var(--sklearn-color-unfitted-level-0);\n",
              "}\n",
              "\n",
              "#sk-container-id-1 div.sk-estimator.fitted {\n",
              "  /* fitted */\n",
              "  background-color: var(--sklearn-color-fitted-level-0);\n",
              "}\n",
              "\n",
              "/* on hover */\n",
              "#sk-container-id-1 div.sk-estimator:hover {\n",
              "  /* unfitted */\n",
              "  background-color: var(--sklearn-color-unfitted-level-2);\n",
              "}\n",
              "\n",
              "#sk-container-id-1 div.sk-estimator.fitted:hover {\n",
              "  /* fitted */\n",
              "  background-color: var(--sklearn-color-fitted-level-2);\n",
              "}\n",
              "\n",
              "/* Specification for estimator info (e.g. \"i\" and \"?\") */\n",
              "\n",
              "/* Common style for \"i\" and \"?\" */\n",
              "\n",
              ".sk-estimator-doc-link,\n",
              "a:link.sk-estimator-doc-link,\n",
              "a:visited.sk-estimator-doc-link {\n",
              "  float: right;\n",
              "  font-size: smaller;\n",
              "  line-height: 1em;\n",
              "  font-family: monospace;\n",
              "  background-color: var(--sklearn-color-background);\n",
              "  border-radius: 1em;\n",
              "  height: 1em;\n",
              "  width: 1em;\n",
              "  text-decoration: none !important;\n",
              "  margin-left: 0.5em;\n",
              "  text-align: center;\n",
              "  /* unfitted */\n",
              "  border: var(--sklearn-color-unfitted-level-1) 1pt solid;\n",
              "  color: var(--sklearn-color-unfitted-level-1);\n",
              "}\n",
              "\n",
              ".sk-estimator-doc-link.fitted,\n",
              "a:link.sk-estimator-doc-link.fitted,\n",
              "a:visited.sk-estimator-doc-link.fitted {\n",
              "  /* fitted */\n",
              "  border: var(--sklearn-color-fitted-level-1) 1pt solid;\n",
              "  color: var(--sklearn-color-fitted-level-1);\n",
              "}\n",
              "\n",
              "/* On hover */\n",
              "div.sk-estimator:hover .sk-estimator-doc-link:hover,\n",
              ".sk-estimator-doc-link:hover,\n",
              "div.sk-label-container:hover .sk-estimator-doc-link:hover,\n",
              ".sk-estimator-doc-link:hover {\n",
              "  /* unfitted */\n",
              "  background-color: var(--sklearn-color-unfitted-level-3);\n",
              "  color: var(--sklearn-color-background);\n",
              "  text-decoration: none;\n",
              "}\n",
              "\n",
              "div.sk-estimator.fitted:hover .sk-estimator-doc-link.fitted:hover,\n",
              ".sk-estimator-doc-link.fitted:hover,\n",
              "div.sk-label-container:hover .sk-estimator-doc-link.fitted:hover,\n",
              ".sk-estimator-doc-link.fitted:hover {\n",
              "  /* fitted */\n",
              "  background-color: var(--sklearn-color-fitted-level-3);\n",
              "  color: var(--sklearn-color-background);\n",
              "  text-decoration: none;\n",
              "}\n",
              "\n",
              "/* Span, style for the box shown on hovering the info icon */\n",
              ".sk-estimator-doc-link span {\n",
              "  display: none;\n",
              "  z-index: 9999;\n",
              "  position: relative;\n",
              "  font-weight: normal;\n",
              "  right: .2ex;\n",
              "  padding: .5ex;\n",
              "  margin: .5ex;\n",
              "  width: min-content;\n",
              "  min-width: 20ex;\n",
              "  max-width: 50ex;\n",
              "  color: var(--sklearn-color-text);\n",
              "  box-shadow: 2pt 2pt 4pt #999;\n",
              "  /* unfitted */\n",
              "  background: var(--sklearn-color-unfitted-level-0);\n",
              "  border: .5pt solid var(--sklearn-color-unfitted-level-3);\n",
              "}\n",
              "\n",
              ".sk-estimator-doc-link.fitted span {\n",
              "  /* fitted */\n",
              "  background: var(--sklearn-color-fitted-level-0);\n",
              "  border: var(--sklearn-color-fitted-level-3);\n",
              "}\n",
              "\n",
              ".sk-estimator-doc-link:hover span {\n",
              "  display: block;\n",
              "}\n",
              "\n",
              "/* \"?\"-specific style due to the `<a>` HTML tag */\n",
              "\n",
              "#sk-container-id-1 a.estimator_doc_link {\n",
              "  float: right;\n",
              "  font-size: 1rem;\n",
              "  line-height: 1em;\n",
              "  font-family: monospace;\n",
              "  background-color: var(--sklearn-color-background);\n",
              "  border-radius: 1rem;\n",
              "  height: 1rem;\n",
              "  width: 1rem;\n",
              "  text-decoration: none;\n",
              "  /* unfitted */\n",
              "  color: var(--sklearn-color-unfitted-level-1);\n",
              "  border: var(--sklearn-color-unfitted-level-1) 1pt solid;\n",
              "}\n",
              "\n",
              "#sk-container-id-1 a.estimator_doc_link.fitted {\n",
              "  /* fitted */\n",
              "  border: var(--sklearn-color-fitted-level-1) 1pt solid;\n",
              "  color: var(--sklearn-color-fitted-level-1);\n",
              "}\n",
              "\n",
              "/* On hover */\n",
              "#sk-container-id-1 a.estimator_doc_link:hover {\n",
              "  /* unfitted */\n",
              "  background-color: var(--sklearn-color-unfitted-level-3);\n",
              "  color: var(--sklearn-color-background);\n",
              "  text-decoration: none;\n",
              "}\n",
              "\n",
              "#sk-container-id-1 a.estimator_doc_link.fitted:hover {\n",
              "  /* fitted */\n",
              "  background-color: var(--sklearn-color-fitted-level-3);\n",
              "}\n",
              "\n",
              ".estimator-table summary {\n",
              "    padding: .5rem;\n",
              "    font-family: monospace;\n",
              "    cursor: pointer;\n",
              "}\n",
              "\n",
              ".estimator-table details[open] {\n",
              "    padding-left: 0.1rem;\n",
              "    padding-right: 0.1rem;\n",
              "    padding-bottom: 0.3rem;\n",
              "}\n",
              "\n",
              ".estimator-table .parameters-table {\n",
              "    margin-left: auto !important;\n",
              "    margin-right: auto !important;\n",
              "}\n",
              "\n",
              ".estimator-table .parameters-table tr:nth-child(odd) {\n",
              "    background-color: #fff;\n",
              "}\n",
              "\n",
              ".estimator-table .parameters-table tr:nth-child(even) {\n",
              "    background-color: #f6f6f6;\n",
              "}\n",
              "\n",
              ".estimator-table .parameters-table tr:hover {\n",
              "    background-color: #e0e0e0;\n",
              "}\n",
              "\n",
              ".estimator-table table td {\n",
              "    border: 1px solid rgba(106, 105, 104, 0.232);\n",
              "}\n",
              "\n",
              ".user-set td {\n",
              "    color:rgb(255, 94, 0);\n",
              "    text-align: left;\n",
              "}\n",
              "\n",
              ".user-set td.value pre {\n",
              "    color:rgb(255, 94, 0) !important;\n",
              "    background-color: transparent !important;\n",
              "}\n",
              "\n",
              ".default td {\n",
              "    color: black;\n",
              "    text-align: left;\n",
              "}\n",
              "\n",
              ".user-set td i,\n",
              ".default td i {\n",
              "    color: black;\n",
              "}\n",
              "\n",
              ".copy-paste-icon {\n",
              "    background-image: url(data:image/svg+xml;base64,PHN2ZyB4bWxucz0iaHR0cDovL3d3dy53My5vcmcvMjAwMC9zdmciIHZpZXdCb3g9IjAgMCA0NDggNTEyIj48IS0tIUZvbnQgQXdlc29tZSBGcmVlIDYuNy4yIGJ5IEBmb250YXdlc29tZSAtIGh0dHBzOi8vZm9udGF3ZXNvbWUuY29tIExpY2Vuc2UgLSBodHRwczovL2ZvbnRhd2Vzb21lLmNvbS9saWNlbnNlL2ZyZWUgQ29weXJpZ2h0IDIwMjUgRm9udGljb25zLCBJbmMuLS0+PHBhdGggZD0iTTIwOCAwTDMzMi4xIDBjMTIuNyAwIDI0LjkgNS4xIDMzLjkgMTQuMWw2Ny45IDY3LjljOSA5IDE0LjEgMjEuMiAxNC4xIDMzLjlMNDQ4IDMzNmMwIDI2LjUtMjEuNSA0OC00OCA0OGwtMTkyIDBjLTI2LjUgMC00OC0yMS41LTQ4LTQ4bDAtMjg4YzAtMjYuNSAyMS41LTQ4IDQ4LTQ4ek00OCAxMjhsODAgMCAwIDY0LTY0IDAgMCAyNTYgMTkyIDAgMC0zMiA2NCAwIDAgNDhjMCAyNi41LTIxLjUgNDgtNDggNDhMNDggNTEyYy0yNi41IDAtNDgtMjEuNS00OC00OEwwIDE3NmMwLTI2LjUgMjEuNS00OCA0OC00OHoiLz48L3N2Zz4=);\n",
              "    background-repeat: no-repeat;\n",
              "    background-size: 14px 14px;\n",
              "    background-position: 0;\n",
              "    display: inline-block;\n",
              "    width: 14px;\n",
              "    height: 14px;\n",
              "    cursor: pointer;\n",
              "}\n",
              "</style><body><div id=\"sk-container-id-1\" class=\"sk-top-container\"><div class=\"sk-text-repr-fallback\"><pre>RandomForestClassifier(random_state=42)</pre><b>In a Jupyter environment, please rerun this cell to show the HTML representation or trust the notebook. <br />On GitHub, the HTML representation is unable to render, please try loading this page with nbviewer.org.</b></div><div class=\"sk-container\" hidden><div class=\"sk-item\"><div class=\"sk-estimator fitted sk-toggleable\"><input class=\"sk-toggleable__control sk-hidden--visually\" id=\"sk-estimator-id-1\" type=\"checkbox\" checked><label for=\"sk-estimator-id-1\" class=\"sk-toggleable__label fitted sk-toggleable__label-arrow\"><div><div>RandomForestClassifier</div></div><div><a class=\"sk-estimator-doc-link fitted\" rel=\"noreferrer\" target=\"_blank\" href=\"https://scikit-learn.org/1.7/modules/generated/sklearn.ensemble.RandomForestClassifier.html\">?<span>Documentation for RandomForestClassifier</span></a><span class=\"sk-estimator-doc-link fitted\">i<span>Fitted</span></span></div></label><div class=\"sk-toggleable__content fitted\" data-param-prefix=\"\">\n",
              "        <div class=\"estimator-table\">\n",
              "            <details>\n",
              "                <summary>Parameters</summary>\n",
              "                <table class=\"parameters-table\">\n",
              "                  <tbody>\n",
              "                    \n",
              "        <tr class=\"default\">\n",
              "            <td><i class=\"copy-paste-icon\"\n",
              "                 onclick=\"copyToClipboard('n_estimators',\n",
              "                          this.parentElement.nextElementSibling)\"\n",
              "            ></i></td>\n",
              "            <td class=\"param\">n_estimators&nbsp;</td>\n",
              "            <td class=\"value\">100</td>\n",
              "        </tr>\n",
              "    \n",
              "\n",
              "        <tr class=\"default\">\n",
              "            <td><i class=\"copy-paste-icon\"\n",
              "                 onclick=\"copyToClipboard('criterion',\n",
              "                          this.parentElement.nextElementSibling)\"\n",
              "            ></i></td>\n",
              "            <td class=\"param\">criterion&nbsp;</td>\n",
              "            <td class=\"value\">&#x27;gini&#x27;</td>\n",
              "        </tr>\n",
              "    \n",
              "\n",
              "        <tr class=\"default\">\n",
              "            <td><i class=\"copy-paste-icon\"\n",
              "                 onclick=\"copyToClipboard('max_depth',\n",
              "                          this.parentElement.nextElementSibling)\"\n",
              "            ></i></td>\n",
              "            <td class=\"param\">max_depth&nbsp;</td>\n",
              "            <td class=\"value\">None</td>\n",
              "        </tr>\n",
              "    \n",
              "\n",
              "        <tr class=\"default\">\n",
              "            <td><i class=\"copy-paste-icon\"\n",
              "                 onclick=\"copyToClipboard('min_samples_split',\n",
              "                          this.parentElement.nextElementSibling)\"\n",
              "            ></i></td>\n",
              "            <td class=\"param\">min_samples_split&nbsp;</td>\n",
              "            <td class=\"value\">2</td>\n",
              "        </tr>\n",
              "    \n",
              "\n",
              "        <tr class=\"default\">\n",
              "            <td><i class=\"copy-paste-icon\"\n",
              "                 onclick=\"copyToClipboard('min_samples_leaf',\n",
              "                          this.parentElement.nextElementSibling)\"\n",
              "            ></i></td>\n",
              "            <td class=\"param\">min_samples_leaf&nbsp;</td>\n",
              "            <td class=\"value\">1</td>\n",
              "        </tr>\n",
              "    \n",
              "\n",
              "        <tr class=\"default\">\n",
              "            <td><i class=\"copy-paste-icon\"\n",
              "                 onclick=\"copyToClipboard('min_weight_fraction_leaf',\n",
              "                          this.parentElement.nextElementSibling)\"\n",
              "            ></i></td>\n",
              "            <td class=\"param\">min_weight_fraction_leaf&nbsp;</td>\n",
              "            <td class=\"value\">0.0</td>\n",
              "        </tr>\n",
              "    \n",
              "\n",
              "        <tr class=\"default\">\n",
              "            <td><i class=\"copy-paste-icon\"\n",
              "                 onclick=\"copyToClipboard('max_features',\n",
              "                          this.parentElement.nextElementSibling)\"\n",
              "            ></i></td>\n",
              "            <td class=\"param\">max_features&nbsp;</td>\n",
              "            <td class=\"value\">&#x27;sqrt&#x27;</td>\n",
              "        </tr>\n",
              "    \n",
              "\n",
              "        <tr class=\"default\">\n",
              "            <td><i class=\"copy-paste-icon\"\n",
              "                 onclick=\"copyToClipboard('max_leaf_nodes',\n",
              "                          this.parentElement.nextElementSibling)\"\n",
              "            ></i></td>\n",
              "            <td class=\"param\">max_leaf_nodes&nbsp;</td>\n",
              "            <td class=\"value\">None</td>\n",
              "        </tr>\n",
              "    \n",
              "\n",
              "        <tr class=\"default\">\n",
              "            <td><i class=\"copy-paste-icon\"\n",
              "                 onclick=\"copyToClipboard('min_impurity_decrease',\n",
              "                          this.parentElement.nextElementSibling)\"\n",
              "            ></i></td>\n",
              "            <td class=\"param\">min_impurity_decrease&nbsp;</td>\n",
              "            <td class=\"value\">0.0</td>\n",
              "        </tr>\n",
              "    \n",
              "\n",
              "        <tr class=\"default\">\n",
              "            <td><i class=\"copy-paste-icon\"\n",
              "                 onclick=\"copyToClipboard('bootstrap',\n",
              "                          this.parentElement.nextElementSibling)\"\n",
              "            ></i></td>\n",
              "            <td class=\"param\">bootstrap&nbsp;</td>\n",
              "            <td class=\"value\">True</td>\n",
              "        </tr>\n",
              "    \n",
              "\n",
              "        <tr class=\"default\">\n",
              "            <td><i class=\"copy-paste-icon\"\n",
              "                 onclick=\"copyToClipboard('oob_score',\n",
              "                          this.parentElement.nextElementSibling)\"\n",
              "            ></i></td>\n",
              "            <td class=\"param\">oob_score&nbsp;</td>\n",
              "            <td class=\"value\">False</td>\n",
              "        </tr>\n",
              "    \n",
              "\n",
              "        <tr class=\"default\">\n",
              "            <td><i class=\"copy-paste-icon\"\n",
              "                 onclick=\"copyToClipboard('n_jobs',\n",
              "                          this.parentElement.nextElementSibling)\"\n",
              "            ></i></td>\n",
              "            <td class=\"param\">n_jobs&nbsp;</td>\n",
              "            <td class=\"value\">None</td>\n",
              "        </tr>\n",
              "    \n",
              "\n",
              "        <tr class=\"user-set\">\n",
              "            <td><i class=\"copy-paste-icon\"\n",
              "                 onclick=\"copyToClipboard('random_state',\n",
              "                          this.parentElement.nextElementSibling)\"\n",
              "            ></i></td>\n",
              "            <td class=\"param\">random_state&nbsp;</td>\n",
              "            <td class=\"value\">42</td>\n",
              "        </tr>\n",
              "    \n",
              "\n",
              "        <tr class=\"default\">\n",
              "            <td><i class=\"copy-paste-icon\"\n",
              "                 onclick=\"copyToClipboard('verbose',\n",
              "                          this.parentElement.nextElementSibling)\"\n",
              "            ></i></td>\n",
              "            <td class=\"param\">verbose&nbsp;</td>\n",
              "            <td class=\"value\">0</td>\n",
              "        </tr>\n",
              "    \n",
              "\n",
              "        <tr class=\"default\">\n",
              "            <td><i class=\"copy-paste-icon\"\n",
              "                 onclick=\"copyToClipboard('warm_start',\n",
              "                          this.parentElement.nextElementSibling)\"\n",
              "            ></i></td>\n",
              "            <td class=\"param\">warm_start&nbsp;</td>\n",
              "            <td class=\"value\">False</td>\n",
              "        </tr>\n",
              "    \n",
              "\n",
              "        <tr class=\"default\">\n",
              "            <td><i class=\"copy-paste-icon\"\n",
              "                 onclick=\"copyToClipboard('class_weight',\n",
              "                          this.parentElement.nextElementSibling)\"\n",
              "            ></i></td>\n",
              "            <td class=\"param\">class_weight&nbsp;</td>\n",
              "            <td class=\"value\">None</td>\n",
              "        </tr>\n",
              "    \n",
              "\n",
              "        <tr class=\"default\">\n",
              "            <td><i class=\"copy-paste-icon\"\n",
              "                 onclick=\"copyToClipboard('ccp_alpha',\n",
              "                          this.parentElement.nextElementSibling)\"\n",
              "            ></i></td>\n",
              "            <td class=\"param\">ccp_alpha&nbsp;</td>\n",
              "            <td class=\"value\">0.0</td>\n",
              "        </tr>\n",
              "    \n",
              "\n",
              "        <tr class=\"default\">\n",
              "            <td><i class=\"copy-paste-icon\"\n",
              "                 onclick=\"copyToClipboard('max_samples',\n",
              "                          this.parentElement.nextElementSibling)\"\n",
              "            ></i></td>\n",
              "            <td class=\"param\">max_samples&nbsp;</td>\n",
              "            <td class=\"value\">None</td>\n",
              "        </tr>\n",
              "    \n",
              "\n",
              "        <tr class=\"default\">\n",
              "            <td><i class=\"copy-paste-icon\"\n",
              "                 onclick=\"copyToClipboard('monotonic_cst',\n",
              "                          this.parentElement.nextElementSibling)\"\n",
              "            ></i></td>\n",
              "            <td class=\"param\">monotonic_cst&nbsp;</td>\n",
              "            <td class=\"value\">None</td>\n",
              "        </tr>\n",
              "    \n",
              "                  </tbody>\n",
              "                </table>\n",
              "            </details>\n",
              "        </div>\n",
              "    </div></div></div></div></div><script>function copyToClipboard(text, element) {\n",
              "    // Get the parameter prefix from the closest toggleable content\n",
              "    const toggleableContent = element.closest('.sk-toggleable__content');\n",
              "    const paramPrefix = toggleableContent ? toggleableContent.dataset.paramPrefix : '';\n",
              "    const fullParamName = paramPrefix ? `${paramPrefix}${text}` : text;\n",
              "\n",
              "    const originalStyle = element.style;\n",
              "    const computedStyle = window.getComputedStyle(element);\n",
              "    const originalWidth = computedStyle.width;\n",
              "    const originalHTML = element.innerHTML.replace('Copied!', '');\n",
              "\n",
              "    navigator.clipboard.writeText(fullParamName)\n",
              "        .then(() => {\n",
              "            element.style.width = originalWidth;\n",
              "            element.style.color = 'green';\n",
              "            element.innerHTML = \"Copied!\";\n",
              "\n",
              "            setTimeout(() => {\n",
              "                element.innerHTML = originalHTML;\n",
              "                element.style = originalStyle;\n",
              "            }, 2000);\n",
              "        })\n",
              "        .catch(err => {\n",
              "            console.error('Failed to copy:', err);\n",
              "            element.style.color = 'red';\n",
              "            element.innerHTML = \"Failed!\";\n",
              "            setTimeout(() => {\n",
              "                element.innerHTML = originalHTML;\n",
              "                element.style = originalStyle;\n",
              "            }, 2000);\n",
              "        });\n",
              "    return false;\n",
              "}\n",
              "\n",
              "document.querySelectorAll('.fa-regular.fa-copy').forEach(function(element) {\n",
              "    const toggleableContent = element.closest('.sk-toggleable__content');\n",
              "    const paramPrefix = toggleableContent ? toggleableContent.dataset.paramPrefix : '';\n",
              "    const paramName = element.parentElement.nextElementSibling.textContent.trim();\n",
              "    const fullParamName = paramPrefix ? `${paramPrefix}${paramName}` : paramName;\n",
              "\n",
              "    element.setAttribute('title', fullParamName);\n",
              "});\n",
              "</script></body>"
            ],
            "text/plain": [
              "RandomForestClassifier(random_state=42)"
            ]
          },
          "execution_count": 3,
          "metadata": {},
          "output_type": "execute_result"
        }
      ],
      "source": [
        "import numpy as np\n",
        "import pandas as pd\n",
        "from sklearn.model_selection import TimeSeriesSplit, train_test_split, cross_val_score\n",
        "from sklearn.ensemble import RandomForestClassifier\n",
        "import os\n",
        "\n",
        "# Carga y preparación\n",
        "os.chdir(\"/workspaces/sebasProyecto-Dow-Jones-2025sebas\")\n",
        "df = pd.read_csv(\"datos_limpios_hasta_2025-05-09.csv\")\n",
        "df['target'] = (df['Close'].shift(-1) > df['Close']).astype(int)\n",
        "df.dropna(inplace=True)\n",
        "X = df.drop(['Date', 'Ticker', 'target'], axis=1)\n",
        "y = df['target']\n",
        "X_train, X_test, y_train, y_test = train_test_split(X, y, shuffle=False, test_size=0.2)\n",
        "\n",
        "# Validación\n",
        "tscv = TimeSeriesSplit(n_splits=5)\n",
        "model = RandomForestClassifier(random_state=42)\n",
        "cv_scores = cross_val_score(model, X_train, y_train, cv=tscv, scoring='accuracy')\n",
        "print(f\"Mean CV Accuracy: {np.mean(cv_scores):.4f}\")\n",
        "\n",
        "# Entrenamiento final\n",
        "model.fit(X_train, y_train)\n"
      ]
    },
    {
      "cell_type": "code",
      "execution_count": null,
      "metadata": {
        "id": "ve_FMZ9W2gzV",
        "outputId": "464865b8-359c-49e9-88b0-7def85b32006"
      },
      "outputs": [
        {
          "name": "stdout",
          "output_type": "stream",
          "text": [
            "              precision    recall  f1-score   support\n",
            "\n",
            "           0       0.65      0.91      0.76     10838\n",
            "           1       0.86      0.54      0.66     11611\n",
            "\n",
            "    accuracy                           0.72     22449\n",
            "   macro avg       0.76      0.72      0.71     22449\n",
            "weighted avg       0.76      0.72      0.71     22449\n",
            "\n",
            "ROC AUC: 0.8395\n"
          ]
        }
      ],
      "source": [
        "from sklearn.metrics import classification_report, roc_auc_score\n",
        "\n",
        "y_pred = model.predict(X_test)\n",
        "y_proba = model.predict_proba(X_test)[:, 1]\n",
        "\n",
        "print(classification_report(y_test, y_pred))\n",
        "print(f\"ROC AUC: {roc_auc_score(y_test, y_proba):.4f}\")\n"
      ]
    },
    {
      "cell_type": "code",
      "execution_count": null,
      "metadata": {
        "id": "zIxZAVJ92gzW",
        "outputId": "57de04bf-32b5-411c-8f06-c1cfcf10435c"
      },
      "outputs": [
        {
          "name": "stdout",
          "output_type": "stream",
          "text": [
            "Random Forest Accuracy: 0.7178\n",
            "Logistic Regression Accuracy: 0.4940\n"
          ]
        },
        {
          "name": "stderr",
          "output_type": "stream",
          "text": [
            "/workspaces/sebasProyecto-Dow-Jones-2025sebas/venv/lib/python3.11/site-packages/xgboost/training.py:183: UserWarning: [07:45:02] WARNING: /workspace/src/learner.cc:738: \n",
            "Parameters: { \"use_label_encoder\" } are not used.\n",
            "\n",
            "  bst.update(dtrain, iteration=i, fobj=obj)\n"
          ]
        },
        {
          "name": "stdout",
          "output_type": "stream",
          "text": [
            "XGBoost Accuracy: 0.7208\n"
          ]
        },
        {
          "data": {
            "text/plain": [
              "['final_time_series_model.pkl']"
            ]
          },
          "execution_count": 5,
          "metadata": {},
          "output_type": "execute_result"
        }
      ],
      "source": [
        "import joblib\n",
        "from sklearn.linear_model import LogisticRegression\n",
        "from xgboost import XGBClassifier\n",
        "\n",
        "# Comparación simple\n",
        "models = {\n",
        "    'Random Forest': model,\n",
        "    'Logistic Regression': LogisticRegression(max_iter=1000),\n",
        "    'XGBoost': XGBClassifier(use_label_encoder=False, eval_metric='logloss')\n",
        "}\n",
        "for name, clf in models.items():\n",
        "    clf.fit(X_train, y_train)\n",
        "    score = clf.score(X_test, y_test)\n",
        "    print(f\"{name} Accuracy: {score:.4f}\")\n",
        "\n",
        "# Guardar\n",
        "joblib.dump(model, \"final_time_series_model.pkl\")\n"
      ]
    },
    {
      "cell_type": "code",
      "execution_count": null,
      "metadata": {
        "colab": {
          "base_uri": "https://localhost:8080/",
          "height": 1000
        },
        "id": "uPONT7rGIQY0",
        "outputId": "7e2a6684-a67d-4c93-e78a-e5ee69c6de03"
      },
      "outputs": [
        {
          "name": "stdout",
          "output_type": "stream",
          "text": [
            "Time Series Cross-Validation Accuracy: [0.78569997 0.76906114 0.75128633 0.74186435 0.71353157]\n",
            "Mean CV Accuracy: 0.7523\n"
          ]
        },
        {
          "data": {
            "image/png": "[encoded data removed]",
            "text/plain": [
              "<Figure size 600x400 with 2 Axes>"
            ]
          },
          "metadata": {},
          "output_type": "display_data"
        },
        {
          "name": "stdout",
          "output_type": "stream",
          "text": [
            "              precision    recall  f1-score   support\n",
            "\n",
            "           0       0.65      0.91      0.76     10838\n",
            "           1       0.86      0.54      0.66     11611\n",
            "\n",
            "    accuracy                           0.72     22449\n",
            "   macro avg       0.76      0.72      0.71     22449\n",
            "weighted avg       0.76      0.72      0.71     22449\n",
            "\n",
            "ROC AUC: 0.8395\n"
          ]
        },
        {
          "data": {
            "image/png": "[encoded data removed]",
            "text/plain": [
              "<Figure size 800x600 with 1 Axes>"
            ]
          },
          "metadata": {},
          "output_type": "display_data"
        },
        {
          "name": "stdout",
          "output_type": "stream",
          "text": [
            "Classification Report (Custom Threshold):\n",
            "              precision    recall  f1-score   support\n",
            "\n",
            "           0       0.68      0.87      0.76     10838\n",
            "           1       0.83      0.62      0.71     11611\n",
            "\n",
            "    accuracy                           0.74     22449\n",
            "   macro avg       0.76      0.74      0.74     22449\n",
            "weighted avg       0.76      0.74      0.73     22449\n",
            "\n"
          ]
        },
        {
          "data": {
            "image/png": "[encoded data removed]",
            "text/plain": [
              "<Figure size 640x480 with 1 Axes>"
            ]
          },
          "metadata": {},
          "output_type": "display_data"
        }
      ],
      "source": [
        "# Required Libraries\n",
        "import numpy as np\n",
        "import pandas as pd\n",
        "import matplotlib.pyplot as plt\n",
        "import seaborn as sns\n",
        "from sklearn.model_selection import TimeSeriesSplit, GridSearchCV, cross_val_score, train_test_split\n",
        "from sklearn.metrics import (\n",
        "    confusion_matrix, classification_report, roc_auc_score,\n",
        "    roc_curve, precision_recall_curve, accuracy_score\n",
        ")\n",
        "from sklearn.ensemble import RandomForestClassifier\n",
        "from sklearn.linear_model import LogisticRegression\n",
        "from xgboost import XGBClassifier\n",
        "import shap\n",
        "import joblib\n",
        "import os\n",
        "\n",
        "# -------------------------------\n",
        "# 0. Carga de datos y preparación\n",
        "# -------------------------------\n",
        "os.chdir(\"/workspaces/sebasProyecto-Dow-Jones-2025sebas\")\n",
        "\n",
        "df = pd.read_csv(\"datos_limpios_hasta_2025-05-09.csv\")\n",
        "\n",
        "# Crear target: 1 si el Close sube respecto al día siguiente, 0 si no\n",
        "df['target'] = (df['Close'].shift(-1) > df['Close']).astype(int)\n",
        "df.dropna(inplace=True)\n",
        "\n",
        "X = df.drop(['Date', 'Ticker', 'target'], axis=1)\n",
        "y = df['target']\n",
        "\n",
        "X_train, X_test, y_train, y_test = train_test_split(X, y, shuffle=False, test_size=0.2)\n",
        "\n",
        "# -------------------------------\n",
        "# 1. Cross-Validation with TimeSeriesSplit\n",
        "# -------------------------------\n",
        "tscv = TimeSeriesSplit(n_splits=5)\n",
        "model = RandomForestClassifier(random_state=42)\n",
        "cv_scores = cross_val_score(model, X_train, y_train, cv=tscv, scoring='accuracy')\n",
        "\n",
        "print(f\"Time Series Cross-Validation Accuracy: {cv_scores}\")\n",
        "print(f\"Mean CV Accuracy: {np.mean(cv_scores):.4f}\")\n",
        "\n",
        "model.fit(X_train, y_train)\n",
        "\n",
        "# -------------------------------\n",
        "# 2. Error Analysis\n",
        "# -------------------------------\n",
        "y_pred = model.predict(X_test)\n",
        "y_proba = model.predict_proba(X_test)[:, 1]\n",
        "\n",
        "cm = confusion_matrix(y_test, y_pred)\n",
        "plt.figure(figsize=(6, 4))\n",
        "sns.heatmap(cm, annot=True, fmt='d', cmap='Blues')\n",
        "plt.xlabel('Predicted')\n",
        "plt.ylabel('Actual')\n",
        "plt.title('Confusion Matrix')\n",
        "plt.show()\n",
        "\n",
        "print(classification_report(y_test, y_pred))\n",
        "print(f\"ROC AUC: {roc_auc_score(y_test, y_proba):.4f}\")\n",
        "\n",
        "# -------------------------------\n",
        "# 3. Threshold Tuning\n",
        "# -------------------------------\n",
        "precision, recall, thresholds = precision_recall_curve(y_test, y_proba)\n",
        "plt.figure(figsize=(8, 6))\n",
        "plt.plot(thresholds, precision[:-1], label='Precision')\n",
        "plt.plot(thresholds, recall[:-1], label='Recall')\n",
        "plt.xlabel('Threshold')\n",
        "plt.ylabel('Score')\n",
        "plt.title('Precision-Recall vs. Threshold')\n",
        "plt.legend()\n",
        "plt.grid()\n",
        "plt.show()\n",
        "\n",
        "custom_threshold = 0.4\n",
        "y_pred_custom = (y_proba >= custom_threshold).astype(int)\n",
        "\n",
        "print(\"Classification Report (Custom Threshold):\")\n",
        "print(classification_report(y_test, y_pred_custom))\n",
        "\n",
        "# -------------------------------\n",
        "# 4. Feature Importance y SHAP\n",
        "# -------------------------------\n",
        "if hasattr(model, 'feature_importances_'):\n",
        "    feature_importances = pd.Series(model.feature_importances_, index=X.columns)\n",
        "    feature_importances.sort_values(ascending=False).head(10).plot(kind='barh')\n",
        "    plt.title('Top 10 Feature Importances')\n",
        "    plt.gca().invert_yaxis()\n",
        "    plt.show()\n",
        "\n",
        "explainer = shap.TreeExplainer(model)\n",
        "shap_values = explainer.shap_values(X_test)\n",
        "shap.summary_plot(shap_values, X_test)\n",
        "\n",
        "# -------------------------------\n",
        "# 5. Hyperparameter Tuning\n",
        "# -------------------------------\n",
        "param_grid = {\n",
        "    'n_estimators': [100, 200],\n",
        "    'max_depth': [5, 10, 20],\n",
        "    'min_samples_split': [2, 5],\n",
        "}\n",
        "grid_search = GridSearchCV(RandomForestClassifier(), param_grid, cv=tscv, scoring='accuracy', n_jobs=-1)\n",
        "grid_search.fit(X_train, y_train)\n",
        "\n",
        "print(f\"Best Parameters: {grid_search.best_params_}\")\n",
        "print(f\"Best CV Accuracy: {grid_search.best_score_:.4f}\")\n",
        "\n",
        "# -------------------------------\n",
        "# 6. Model Comparison\n",
        "# -------------------------------\n",
        "models = {\n",
        "    'Random Forest': RandomForestClassifier(**grid_search.best_params_),\n",
        "    'Logistic Regression': LogisticRegression(max_iter=1000),\n",
        "    'XGBoost': XGBClassifier(use_label_encoder=False, eval_metric='logloss')\n",
        "}\n",
        "for name, clf in models.items():\n",
        "    scores = cross_val_score(clf, X_train, y_train, cv=tscv, scoring='accuracy')\n",
        "    print(f'{name} Time Series CV Accuracy: {np.mean(scores):.4f}')\n",
        "\n",
        "# -------------------------------\n",
        "# 7. Guardar modelo final\n",
        "# -------------------------------\n",
        "joblib.dump(model, 'final_time_series_model.pkl')\n"
      ]
    },
    {
      "cell_type": "code",
      "execution_count": null,
      "metadata": {
        "colab": {
          "base_uri": "https://localhost:8080/"
        },
        "id": "2tsmjhHuab0c",
        "outputId": "c7999a75-6ceb-469c-9fdb-b164057ae1d6"
      },
      "outputs": [
        {
          "ename": "NameError",
          "evalue": "name 'X_test' is not defined",
          "output_type": "error",
          "traceback": [
            "\u001b[31m---------------------------------------------------------------------------\u001b[39m",
            "\u001b[31mNameError\u001b[39m                                 Traceback (most recent call last)",
            "\u001b[36mCell\u001b[39m\u001b[36m \u001b[39m\u001b[32mIn[1]\u001b[39m\u001b[32m, line 1\u001b[39m\n\u001b[32m----> \u001b[39m\u001b[32m1\u001b[39m \u001b[38;5;28mprint\u001b[39m(\u001b[43mX_test\u001b[49m.columns.tolist())\n",
            "\u001b[31mNameError\u001b[39m: name 'X_test' is not defined"
          ]
        }
      ],
      "source": [
        "print(X_test.columns.tolist())\n"
      ]
    },
    {
      "cell_type": "code",
      "execution_count": null,
      "metadata": {
        "colab": {
          "base_uri": "https://localhost:8080/"
        },
        "id": "oXbwZhGYVXea",
        "outputId": "56d89937-f0a5-45e4-9c5c-a6e3a2e80aa7"
      },
      "outputs": [
        {
          "name": "stdout",
          "output_type": "stream",
          "text": [
            "\n",
            "📊 Ticker codificado: 34\n",
            "              precision    recall  f1-score   support\n",
            "\n",
            "           0       1.00      1.00      1.00       521\n",
            "\n",
            "    accuracy                           1.00       521\n",
            "   macro avg       1.00      1.00      1.00       521\n",
            "weighted avg       1.00      1.00      1.00       521\n",
            "\n",
            "ROC AUC: nan\n",
            "\n",
            "📊 Ticker codificado: 35\n",
            "              precision    recall  f1-score   support\n",
            "\n",
            "           0       0.05      0.93      0.10        29\n",
            "           1       0.91      0.04      0.08       492\n",
            "\n",
            "    accuracy                           0.09       521\n",
            "   macro avg       0.48      0.49      0.09       521\n",
            "weighted avg       0.87      0.09      0.08       521\n",
            "\n",
            "ROC AUC: 0.4025\n",
            "\n",
            "📊 Ticker codificado: 37\n",
            "              precision    recall  f1-score   support\n",
            "\n",
            "           0       0.00      0.00      0.00         1\n",
            "           1       1.00      1.00      1.00       520\n",
            "\n",
            "    accuracy                           1.00       521\n",
            "   macro avg       0.50      0.50      0.50       521\n",
            "weighted avg       1.00      1.00      1.00       521\n",
            "\n",
            "ROC AUC: 0.4000\n",
            "\n",
            "📊 Ticker codificado: 38\n",
            "              precision    recall  f1-score   support\n",
            "\n",
            "           0       0.00      0.00      0.00         2\n",
            "           1       1.00      1.00      1.00       519\n",
            "\n",
            "    accuracy                           1.00       521\n",
            "   macro avg       0.50      0.50      0.50       521\n",
            "weighted avg       0.99      1.00      0.99       521\n",
            "\n",
            "ROC AUC: 0.5631\n",
            "\n",
            "📊 Ticker codificado: 39\n",
            "              precision    recall  f1-score   support\n",
            "\n",
            "           0       1.00      1.00      1.00       521\n",
            "\n",
            "    accuracy                           1.00       521\n",
            "   macro avg       1.00      1.00      1.00       521\n",
            "weighted avg       1.00      1.00      1.00       521\n",
            "\n",
            "ROC AUC: nan\n",
            "\n",
            "📊 Ticker codificado: 40\n",
            "              precision    recall  f1-score   support\n",
            "\n",
            "           0       1.00      1.00      1.00       521\n",
            "\n",
            "    accuracy                           1.00       521\n",
            "   macro avg       1.00      1.00      1.00       521\n",
            "weighted avg       1.00      1.00      1.00       521\n",
            "\n",
            "ROC AUC: nan\n",
            "\n",
            "📊 Ticker codificado: 41\n",
            "              precision    recall  f1-score   support\n",
            "\n",
            "           1       1.00      1.00      1.00       521\n",
            "\n",
            "    accuracy                           1.00       521\n",
            "   macro avg       1.00      1.00      1.00       521\n",
            "weighted avg       1.00      1.00      1.00       521\n",
            "\n",
            "ROC AUC: nan\n",
            "\n",
            "📊 Ticker codificado: 22\n",
            "              precision    recall  f1-score   support\n",
            "\n",
            "           0       0.19      0.10      0.13        60\n",
            "           1       0.89      0.94      0.92       461\n",
            "\n",
            "    accuracy                           0.85       521\n",
            "   macro avg       0.54      0.52      0.52       521\n",
            "weighted avg       0.81      0.85      0.83       521\n",
            "\n",
            "ROC AUC: 0.5048\n",
            "\n",
            "📊 Ticker codificado: 32\n",
            "              precision    recall  f1-score   support\n",
            "\n",
            "           0       1.00      1.00      1.00       521\n",
            "\n",
            "    accuracy                           1.00       521\n",
            "   macro avg       1.00      1.00      1.00       521\n",
            "weighted avg       1.00      1.00      1.00       521\n",
            "\n",
            "ROC AUC: nan\n",
            "\n",
            "📊 Ticker codificado: 21\n",
            "              precision    recall  f1-score   support\n",
            "\n",
            "           0       0.68      0.95      0.79       365\n",
            "           1       0.37      0.06      0.11       174\n",
            "\n",
            "    accuracy                           0.66       539\n",
            "   macro avg       0.52      0.51      0.45       539\n",
            "weighted avg       0.58      0.66      0.57       539\n",
            "\n",
            "ROC AUC: 0.5354\n",
            "\n",
            "📊 Ticker codificado: 42\n",
            "              precision    recall  f1-score   support\n",
            "\n",
            "           0       0.00      0.00      0.00        11\n",
            "           1       0.98      1.00      0.99       510\n",
            "\n",
            "    accuracy                           0.98       521\n",
            "   macro avg       0.49      0.50      0.49       521\n",
            "weighted avg       0.96      0.98      0.97       521\n",
            "\n",
            "ROC AUC: 0.6456\n",
            "\n",
            "📊 Ticker codificado: 19\n",
            "              precision    recall  f1-score   support\n",
            "\n",
            "           0       0.29      0.91      0.44       148\n",
            "           1       0.77      0.13      0.22       373\n",
            "\n",
            "    accuracy                           0.35       521\n",
            "   macro avg       0.53      0.52      0.33       521\n",
            "weighted avg       0.63      0.35      0.28       521\n",
            "\n",
            "ROC AUC: 0.5389\n",
            "\n",
            "📊 Ticker codificado: 0\n",
            "              precision    recall  f1-score   support\n",
            "\n",
            "           0       0.27      0.82      0.41       142\n",
            "           1       0.73      0.19      0.30       379\n",
            "\n",
            "    accuracy                           0.36       521\n",
            "   macro avg       0.50      0.50      0.36       521\n",
            "weighted avg       0.61      0.36      0.33       521\n",
            "\n",
            "ROC AUC: 0.5103\n",
            "\n",
            "📊 Ticker codificado: 1\n",
            "              precision    recall  f1-score   support\n",
            "\n",
            "           0       1.00      1.00      1.00       520\n",
            "           1       0.00      0.00      0.00         1\n",
            "\n",
            "    accuracy                           1.00       521\n",
            "   macro avg       0.50      0.50      0.50       521\n",
            "weighted avg       1.00      1.00      1.00       521\n",
            "\n",
            "ROC AUC: 0.5115\n",
            "\n",
            "📊 Ticker codificado: 2\n",
            "              precision    recall  f1-score   support\n",
            "\n",
            "           0       0.00      0.00      0.00         0\n",
            "           1       1.00      0.30      0.46       521\n",
            "\n",
            "    accuracy                           0.30       521\n",
            "   macro avg       0.50      0.15      0.23       521\n",
            "weighted avg       1.00      0.30      0.46       521\n",
            "\n",
            "ROC AUC: nan\n",
            "\n",
            "📊 Ticker codificado: 3\n",
            "              precision    recall  f1-score   support\n",
            "\n",
            "           0       0.95      0.99      0.97       314\n",
            "           1       0.98      0.92      0.95       207\n",
            "\n",
            "    accuracy                           0.96       521\n",
            "   macro avg       0.97      0.95      0.96       521\n",
            "weighted avg       0.96      0.96      0.96       521\n",
            "\n",
            "ROC AUC: 0.9972\n",
            "\n",
            "📊 Ticker codificado: 4\n",
            "              precision    recall  f1-score   support\n",
            "\n",
            "           0       0.24      0.68      0.35       133\n",
            "           1       0.69      0.25      0.37       388\n",
            "\n",
            "    accuracy                           0.36       521\n",
            "   macro avg       0.46      0.46      0.36       521\n",
            "weighted avg       0.58      0.36      0.36       521\n",
            "\n",
            "ROC AUC: 0.4562\n",
            "\n",
            "📊 Ticker codificado: 5\n",
            "              precision    recall  f1-score   support\n",
            "\n",
            "           0       1.00      1.00      1.00       520\n",
            "           1       0.00      0.00      0.00         1\n",
            "\n",
            "    accuracy                           1.00       521\n",
            "   macro avg       0.50      0.50      0.50       521\n",
            "weighted avg       1.00      1.00      1.00       521\n",
            "\n",
            "ROC AUC: 0.5856\n",
            "\n",
            "📊 Ticker codificado: 6\n",
            "              precision    recall  f1-score   support\n",
            "\n",
            "           0       0.00      0.00      0.00         1\n",
            "           1       1.00      1.00      1.00       521\n",
            "\n",
            "    accuracy                           1.00       522\n",
            "   macro avg       0.50      0.50      0.50       522\n",
            "weighted avg       1.00      1.00      1.00       522\n",
            "\n",
            "ROC AUC: 0.2975\n",
            "\n",
            "📊 Ticker codificado: 7\n",
            "              precision    recall  f1-score   support\n",
            "\n",
            "           0       1.00      1.00      1.00       521\n",
            "\n",
            "    accuracy                           1.00       521\n",
            "   macro avg       1.00      1.00      1.00       521\n",
            "weighted avg       1.00      1.00      1.00       521\n",
            "\n",
            "ROC AUC: nan\n",
            "\n",
            "📊 Ticker codificado: 8\n",
            "              precision    recall  f1-score   support\n",
            "\n",
            "           0       0.00      0.00      0.00         1\n",
            "           1       1.00      0.97      0.98       520\n",
            "\n",
            "    accuracy                           0.97       521\n",
            "   macro avg       0.50      0.49      0.49       521\n",
            "weighted avg       1.00      0.97      0.98       521\n",
            "\n",
            "ROC AUC: 0.8673\n",
            "\n",
            "📊 Ticker codificado: 20\n",
            "              precision    recall  f1-score   support\n",
            "\n",
            "           0       0.60      0.83      0.70       293\n",
            "           1       0.57      0.29      0.38       228\n",
            "\n",
            "    accuracy                           0.59       521\n",
            "   macro avg       0.58      0.56      0.54       521\n",
            "weighted avg       0.59      0.59      0.56       521\n",
            "\n",
            "ROC AUC: 0.5870\n",
            "\n",
            "📊 Ticker codificado: 10\n",
            "              precision    recall  f1-score   support\n",
            "\n",
            "           0       0.26      0.96      0.40        69\n",
            "           1       0.99      0.58      0.73       452\n",
            "\n",
            "    accuracy                           0.63       521\n",
            "   macro avg       0.62      0.77      0.57       521\n",
            "weighted avg       0.89      0.63      0.69       521\n",
            "\n",
            "ROC AUC: 0.8184\n",
            "\n",
            "📊 Ticker codificado: 11\n",
            "              precision    recall  f1-score   support\n",
            "\n",
            "           0       0.71      0.92      0.80       377\n",
            "           1       0.18      0.05      0.08       145\n",
            "\n",
            "    accuracy                           0.67       522\n",
            "   macro avg       0.45      0.48      0.44       522\n",
            "weighted avg       0.57      0.67      0.60       522\n",
            "\n",
            "ROC AUC: 0.4696\n",
            "\n",
            "📊 Ticker codificado: 12\n",
            "              precision    recall  f1-score   support\n",
            "\n",
            "           1       1.00      1.00      1.00       539\n",
            "\n",
            "    accuracy                           1.00       539\n",
            "   macro avg       1.00      1.00      1.00       539\n",
            "weighted avg       1.00      1.00      1.00       539\n",
            "\n",
            "ROC AUC: nan\n",
            "\n",
            "📊 Ticker codificado: 13\n",
            "              precision    recall  f1-score   support\n",
            "\n",
            "           0       0.35      0.25      0.29       171\n",
            "           1       0.69      0.79      0.74       368\n",
            "\n",
            "    accuracy                           0.62       539\n",
            "   macro avg       0.52      0.52      0.51       539\n",
            "weighted avg       0.59      0.62      0.60       539\n",
            "\n",
            "ROC AUC: 0.4963\n",
            "\n",
            "📊 Ticker codificado: 14\n",
            "              precision    recall  f1-score   support\n",
            "\n",
            "           0       1.00      1.00      1.00       522\n",
            "\n",
            "    accuracy                           1.00       522\n",
            "   macro avg       1.00      1.00      1.00       522\n",
            "weighted avg       1.00      1.00      1.00       522\n",
            "\n",
            "ROC AUC: nan\n",
            "\n",
            "📊 Ticker codificado: 15\n",
            "              precision    recall  f1-score   support\n",
            "\n",
            "           0       0.98      1.00      0.99       509\n",
            "           1       0.00      0.00      0.00        12\n",
            "\n",
            "    accuracy                           0.98       521\n",
            "   macro avg       0.49      0.50      0.49       521\n",
            "weighted avg       0.95      0.98      0.97       521\n",
            "\n",
            "ROC AUC: 0.6460\n",
            "\n",
            "📊 Ticker codificado: 16\n",
            "              precision    recall  f1-score   support\n",
            "\n",
            "           0       0.74      0.99      0.85       388\n",
            "           1       0.25      0.01      0.01       133\n",
            "\n",
            "    accuracy                           0.74       521\n",
            "   macro avg       0.50      0.50      0.43       521\n",
            "weighted avg       0.62      0.74      0.64       521\n",
            "\n",
            "ROC AUC: 0.4893\n",
            "\n",
            "📊 Ticker codificado: 17\n",
            "              precision    recall  f1-score   support\n",
            "\n",
            "           0       0.53      0.95      0.68       277\n",
            "           1       0.46      0.05      0.09       244\n",
            "\n",
            "    accuracy                           0.53       521\n",
            "   macro avg       0.50      0.50      0.39       521\n",
            "weighted avg       0.50      0.53      0.40       521\n",
            "\n",
            "ROC AUC: 0.4429\n",
            "\n",
            "📊 Ticker codificado: 18\n",
            "              precision    recall  f1-score   support\n",
            "\n",
            "           0       0.76      0.97      0.85       379\n",
            "           1       0.68      0.19      0.30       142\n",
            "\n",
            "    accuracy                           0.75       521\n",
            "   macro avg       0.72      0.58      0.57       521\n",
            "weighted avg       0.74      0.75      0.70       521\n",
            "\n",
            "ROC AUC: 0.7520\n",
            "\n",
            "📊 Ticker codificado: 9\n",
            "              precision    recall  f1-score   support\n",
            "\n",
            "           0       0.16      0.86      0.27        81\n",
            "           1       0.86      0.15      0.25       440\n",
            "\n",
            "    accuracy                           0.26       521\n",
            "   macro avg       0.51      0.51      0.26       521\n",
            "weighted avg       0.75      0.26      0.25       521\n",
            "\n"
          ]
        },
        {
          "name": "stderr",
          "output_type": "stream",
          "text": [
            "/workspaces/sebasProyecto-Dow-Jones-2025sebas/venv/lib/python3.11/site-packages/sklearn/metrics/_ranking.py:424: UndefinedMetricWarning: Only one class is present in y_true. ROC AUC score is not defined in that case.\n",
            "  warnings.warn(\n",
            "/workspaces/sebasProyecto-Dow-Jones-2025sebas/venv/lib/python3.11/site-packages/sklearn/metrics/_classification.py:1706: UndefinedMetricWarning: Precision is ill-defined and being set to 0.0 in labels with no predicted samples. Use `zero_division` parameter to control this behavior.\n",
            "  _warn_prf(average, modifier, f\"{metric.capitalize()} is\", result.shape[0])\n",
            "/workspaces/sebasProyecto-Dow-Jones-2025sebas/venv/lib/python3.11/site-packages/sklearn/metrics/_classification.py:1706: UndefinedMetricWarning: Precision is ill-defined and being set to 0.0 in labels with no predicted samples. Use `zero_division` parameter to control this behavior.\n",
            "  _warn_prf(average, modifier, f\"{metric.capitalize()} is\", result.shape[0])\n",
            "/workspaces/sebasProyecto-Dow-Jones-2025sebas/venv/lib/python3.11/site-packages/sklearn/metrics/_classification.py:1706: UndefinedMetricWarning: Precision is ill-defined and being set to 0.0 in labels with no predicted samples. Use `zero_division` parameter to control this behavior.\n",
            "  _warn_prf(average, modifier, f\"{metric.capitalize()} is\", result.shape[0])\n",
            "/workspaces/sebasProyecto-Dow-Jones-2025sebas/venv/lib/python3.11/site-packages/sklearn/metrics/_classification.py:1706: UndefinedMetricWarning: Precision is ill-defined and being set to 0.0 in labels with no predicted samples. Use `zero_division` parameter to control this behavior.\n",
            "  _warn_prf(average, modifier, f\"{metric.capitalize()} is\", result.shape[0])\n",
            "/workspaces/sebasProyecto-Dow-Jones-2025sebas/venv/lib/python3.11/site-packages/sklearn/metrics/_classification.py:1706: UndefinedMetricWarning: Precision is ill-defined and being set to 0.0 in labels with no predicted samples. Use `zero_division` parameter to control this behavior.\n",
            "  _warn_prf(average, modifier, f\"{metric.capitalize()} is\", result.shape[0])\n",
            "/workspaces/sebasProyecto-Dow-Jones-2025sebas/venv/lib/python3.11/site-packages/sklearn/metrics/_classification.py:1706: UndefinedMetricWarning: Precision is ill-defined and being set to 0.0 in labels with no predicted samples. Use `zero_division` parameter to control this behavior.\n",
            "  _warn_prf(average, modifier, f\"{metric.capitalize()} is\", result.shape[0])\n",
            "/workspaces/sebasProyecto-Dow-Jones-2025sebas/venv/lib/python3.11/site-packages/sklearn/metrics/_ranking.py:424: UndefinedMetricWarning: Only one class is present in y_true. ROC AUC score is not defined in that case.\n",
            "  warnings.warn(\n",
            "/workspaces/sebasProyecto-Dow-Jones-2025sebas/venv/lib/python3.11/site-packages/sklearn/metrics/_ranking.py:424: UndefinedMetricWarning: Only one class is present in y_true. ROC AUC score is not defined in that case.\n",
            "  warnings.warn(\n",
            "/workspaces/sebasProyecto-Dow-Jones-2025sebas/venv/lib/python3.11/site-packages/sklearn/metrics/_ranking.py:424: UndefinedMetricWarning: Only one class is present in y_true. ROC AUC score is not defined in that case.\n",
            "  warnings.warn(\n",
            "/workspaces/sebasProyecto-Dow-Jones-2025sebas/venv/lib/python3.11/site-packages/sklearn/metrics/_ranking.py:424: UndefinedMetricWarning: Only one class is present in y_true. ROC AUC score is not defined in that case.\n",
            "  warnings.warn(\n",
            "/workspaces/sebasProyecto-Dow-Jones-2025sebas/venv/lib/python3.11/site-packages/sklearn/metrics/_classification.py:1706: UndefinedMetricWarning: Precision is ill-defined and being set to 0.0 in labels with no predicted samples. Use `zero_division` parameter to control this behavior.\n",
            "  _warn_prf(average, modifier, f\"{metric.capitalize()} is\", result.shape[0])\n",
            "/workspaces/sebasProyecto-Dow-Jones-2025sebas/venv/lib/python3.11/site-packages/sklearn/metrics/_classification.py:1706: UndefinedMetricWarning: Precision is ill-defined and being set to 0.0 in labels with no predicted samples. Use `zero_division` parameter to control this behavior.\n",
            "  _warn_prf(average, modifier, f\"{metric.capitalize()} is\", result.shape[0])\n",
            "/workspaces/sebasProyecto-Dow-Jones-2025sebas/venv/lib/python3.11/site-packages/sklearn/metrics/_classification.py:1706: UndefinedMetricWarning: Precision is ill-defined and being set to 0.0 in labels with no predicted samples. Use `zero_division` parameter to control this behavior.\n",
            "  _warn_prf(average, modifier, f\"{metric.capitalize()} is\", result.shape[0])\n",
            "/workspaces/sebasProyecto-Dow-Jones-2025sebas/venv/lib/python3.11/site-packages/sklearn/metrics/_classification.py:1706: UndefinedMetricWarning: Recall is ill-defined and being set to 0.0 in labels with no true samples. Use `zero_division` parameter to control this behavior.\n",
            "  _warn_prf(average, modifier, f\"{metric.capitalize()} is\", result.shape[0])\n",
            "/workspaces/sebasProyecto-Dow-Jones-2025sebas/venv/lib/python3.11/site-packages/sklearn/metrics/_classification.py:1706: UndefinedMetricWarning: Recall is ill-defined and being set to 0.0 in labels with no true samples. Use `zero_division` parameter to control this behavior.\n",
            "  _warn_prf(average, modifier, f\"{metric.capitalize()} is\", result.shape[0])\n",
            "/workspaces/sebasProyecto-Dow-Jones-2025sebas/venv/lib/python3.11/site-packages/sklearn/metrics/_classification.py:1706: UndefinedMetricWarning: Recall is ill-defined and being set to 0.0 in labels with no true samples. Use `zero_division` parameter to control this behavior.\n",
            "  _warn_prf(average, modifier, f\"{metric.capitalize()} is\", result.shape[0])\n",
            "/workspaces/sebasProyecto-Dow-Jones-2025sebas/venv/lib/python3.11/site-packages/sklearn/metrics/_ranking.py:424: UndefinedMetricWarning: Only one class is present in y_true. ROC AUC score is not defined in that case.\n",
            "  warnings.warn(\n",
            "/workspaces/sebasProyecto-Dow-Jones-2025sebas/venv/lib/python3.11/site-packages/sklearn/metrics/_classification.py:1706: UndefinedMetricWarning: Precision is ill-defined and being set to 0.0 in labels with no predicted samples. Use `zero_division` parameter to control this behavior.\n",
            "  _warn_prf(average, modifier, f\"{metric.capitalize()} is\", result.shape[0])\n",
            "/workspaces/sebasProyecto-Dow-Jones-2025sebas/venv/lib/python3.11/site-packages/sklearn/metrics/_classification.py:1706: UndefinedMetricWarning: Precision is ill-defined and being set to 0.0 in labels with no predicted samples. Use `zero_division` parameter to control this behavior.\n",
            "  _warn_prf(average, modifier, f\"{metric.capitalize()} is\", result.shape[0])\n",
            "/workspaces/sebasProyecto-Dow-Jones-2025sebas/venv/lib/python3.11/site-packages/sklearn/metrics/_classification.py:1706: UndefinedMetricWarning: Precision is ill-defined and being set to 0.0 in labels with no predicted samples. Use `zero_division` parameter to control this behavior.\n",
            "  _warn_prf(average, modifier, f\"{metric.capitalize()} is\", result.shape[0])\n",
            "/workspaces/sebasProyecto-Dow-Jones-2025sebas/venv/lib/python3.11/site-packages/sklearn/metrics/_classification.py:1706: UndefinedMetricWarning: Precision is ill-defined and being set to 0.0 in labels with no predicted samples. Use `zero_division` parameter to control this behavior.\n",
            "  _warn_prf(average, modifier, f\"{metric.capitalize()} is\", result.shape[0])\n",
            "/workspaces/sebasProyecto-Dow-Jones-2025sebas/venv/lib/python3.11/site-packages/sklearn/metrics/_classification.py:1706: UndefinedMetricWarning: Precision is ill-defined and being set to 0.0 in labels with no predicted samples. Use `zero_division` parameter to control this behavior.\n",
            "  _warn_prf(average, modifier, f\"{metric.capitalize()} is\", result.shape[0])\n",
            "/workspaces/sebasProyecto-Dow-Jones-2025sebas/venv/lib/python3.11/site-packages/sklearn/metrics/_classification.py:1706: UndefinedMetricWarning: Precision is ill-defined and being set to 0.0 in labels with no predicted samples. Use `zero_division` parameter to control this behavior.\n",
            "  _warn_prf(average, modifier, f\"{metric.capitalize()} is\", result.shape[0])\n",
            "/workspaces/sebasProyecto-Dow-Jones-2025sebas/venv/lib/python3.11/site-packages/sklearn/metrics/_ranking.py:424: UndefinedMetricWarning: Only one class is present in y_true. ROC AUC score is not defined in that case.\n",
            "  warnings.warn(\n",
            "/workspaces/sebasProyecto-Dow-Jones-2025sebas/venv/lib/python3.11/site-packages/sklearn/metrics/_ranking.py:424: UndefinedMetricWarning: Only one class is present in y_true. ROC AUC score is not defined in that case.\n",
            "  warnings.warn(\n",
            "/workspaces/sebasProyecto-Dow-Jones-2025sebas/venv/lib/python3.11/site-packages/sklearn/metrics/_ranking.py:424: UndefinedMetricWarning: Only one class is present in y_true. ROC AUC score is not defined in that case.\n",
            "  warnings.warn(\n",
            "/workspaces/sebasProyecto-Dow-Jones-2025sebas/venv/lib/python3.11/site-packages/sklearn/metrics/_classification.py:1706: UndefinedMetricWarning: Precision is ill-defined and being set to 0.0 in labels with no predicted samples. Use `zero_division` parameter to control this behavior.\n",
            "  _warn_prf(average, modifier, f\"{metric.capitalize()} is\", result.shape[0])\n",
            "/workspaces/sebasProyecto-Dow-Jones-2025sebas/venv/lib/python3.11/site-packages/sklearn/metrics/_classification.py:1706: UndefinedMetricWarning: Precision is ill-defined and being set to 0.0 in labels with no predicted samples. Use `zero_division` parameter to control this behavior.\n",
            "  _warn_prf(average, modifier, f\"{metric.capitalize()} is\", result.shape[0])\n",
            "/workspaces/sebasProyecto-Dow-Jones-2025sebas/venv/lib/python3.11/site-packages/sklearn/metrics/_classification.py:1706: UndefinedMetricWarning: Precision is ill-defined and being set to 0.0 in labels with no predicted samples. Use `zero_division` parameter to control this behavior.\n",
            "  _warn_prf(average, modifier, f\"{metric.capitalize()} is\", result.shape[0])\n"
          ]
        },
        {
          "name": "stdout",
          "output_type": "stream",
          "text": [
            "ROC AUC: 0.5141\n",
            "\n",
            "📊 Ticker codificado: 29\n",
            "              precision    recall  f1-score   support\n",
            "\n",
            "           0       0.68      0.88      0.77       345\n",
            "           1       0.43      0.19      0.26       175\n",
            "\n",
            "    accuracy                           0.64       520\n",
            "   macro avg       0.56      0.53      0.51       520\n",
            "weighted avg       0.60      0.64      0.60       520\n",
            "\n",
            "ROC AUC: 0.5667\n",
            "\n",
            "📊 Ticker codificado: 28\n",
            "              precision    recall  f1-score   support\n",
            "\n",
            "           0       0.60      0.67      0.63       157\n",
            "           1       0.85      0.81      0.83       363\n",
            "\n",
            "    accuracy                           0.77       520\n",
            "   macro avg       0.72      0.74      0.73       520\n",
            "weighted avg       0.77      0.77      0.77       520\n",
            "\n",
            "ROC AUC: 0.8265\n",
            "\n",
            "📊 Ticker codificado: 27\n",
            "              precision    recall  f1-score   support\n",
            "\n",
            "           0       0.21      0.35      0.26        86\n",
            "           1       0.85      0.74      0.79       434\n",
            "\n",
            "    accuracy                           0.67       520\n",
            "   macro avg       0.53      0.54      0.52       520\n",
            "weighted avg       0.74      0.67      0.70       520\n",
            "\n",
            "ROC AUC: 0.5802\n",
            "\n",
            "📊 Ticker codificado: 23\n",
            "              precision    recall  f1-score   support\n",
            "\n",
            "           0       0.91      1.00      0.95       473\n",
            "           1       0.00      0.00      0.00        47\n",
            "\n",
            "    accuracy                           0.91       520\n",
            "   macro avg       0.45      0.50      0.48       520\n",
            "weighted avg       0.83      0.91      0.87       520\n",
            "\n",
            "ROC AUC: 0.4527\n",
            "\n",
            "📊 Ticker codificado: 25\n",
            "              precision    recall  f1-score   support\n",
            "\n",
            "           0       0.39      0.59      0.47       177\n",
            "           1       0.71      0.52      0.60       343\n",
            "\n",
            "    accuracy                           0.55       520\n",
            "   macro avg       0.55      0.56      0.54       520\n",
            "weighted avg       0.60      0.55      0.56       520\n",
            "\n",
            "ROC AUC: 0.5888\n",
            "\n",
            "📊 Ticker codificado: 24\n",
            "              precision    recall  f1-score   support\n",
            "\n",
            "           0       0.20      0.91      0.32        66\n",
            "           1       0.97      0.46      0.62       454\n",
            "\n",
            "    accuracy                           0.52       520\n",
            "   macro avg       0.58      0.68      0.47       520\n",
            "weighted avg       0.87      0.52      0.59       520\n",
            "\n",
            "ROC AUC: 0.7126\n",
            "\n",
            "📊 Ticker codificado: 30\n",
            "              precision    recall  f1-score   support\n",
            "\n",
            "           0       0.33      0.88      0.48       176\n",
            "           1       0.60      0.09      0.16       344\n",
            "\n",
            "    accuracy                           0.36       520\n",
            "   macro avg       0.47      0.49      0.32       520\n",
            "weighted avg       0.51      0.36      0.27       520\n",
            "\n",
            "ROC AUC: 0.4994\n",
            "\n",
            "📊 Ticker codificado: 26\n",
            "              precision    recall  f1-score   support\n",
            "\n",
            "           0       0.99      1.00      1.00       517\n",
            "           1       0.00      0.00      0.00         3\n",
            "\n",
            "    accuracy                           0.99       520\n",
            "   macro avg       0.50      0.50      0.50       520\n",
            "weighted avg       0.99      0.99      0.99       520\n",
            "\n",
            "ROC AUC: 0.5748\n",
            "\n",
            "📊 Ticker codificado: 31\n",
            "              precision    recall  f1-score   support\n",
            "\n",
            "           0       0.93      0.86      0.89       488\n",
            "           1       0.03      0.06      0.04        32\n",
            "\n",
            "    accuracy                           0.81       520\n",
            "   macro avg       0.48      0.46      0.47       520\n",
            "weighted avg       0.88      0.81      0.84       520\n",
            "\n",
            "ROC AUC: 0.4613\n",
            "\n",
            "📊 Ticker codificado: 36\n",
            "              precision    recall  f1-score   support\n",
            "\n",
            "           0       0.83      0.96      0.89       434\n",
            "           1       0.00      0.00      0.00        86\n",
            "\n",
            "    accuracy                           0.80       520\n",
            "   macro avg       0.41      0.48      0.45       520\n",
            "weighted avg       0.69      0.80      0.74       520\n",
            "\n",
            "ROC AUC: 0.4919\n",
            "\n",
            "📊 Ticker codificado: 33\n",
            "              precision    recall  f1-score   support\n",
            "\n",
            "           0       0.00      0.00      0.00         1\n",
            "           1       1.00      0.65      0.79       519\n",
            "\n",
            "    accuracy                           0.65       520\n",
            "   macro avg       0.50      0.32      0.39       520\n",
            "weighted avg       1.00      0.65      0.78       520\n",
            "\n",
            "ROC AUC: 0.1994\n"
          ]
        },
        {
          "name": "stderr",
          "output_type": "stream",
          "text": [
            "/workspaces/sebasProyecto-Dow-Jones-2025sebas/venv/lib/python3.11/site-packages/sklearn/metrics/_classification.py:1706: UndefinedMetricWarning: Precision is ill-defined and being set to 0.0 in labels with no predicted samples. Use `zero_division` parameter to control this behavior.\n",
            "  _warn_prf(average, modifier, f\"{metric.capitalize()} is\", result.shape[0])\n",
            "/workspaces/sebasProyecto-Dow-Jones-2025sebas/venv/lib/python3.11/site-packages/sklearn/metrics/_classification.py:1706: UndefinedMetricWarning: Precision is ill-defined and being set to 0.0 in labels with no predicted samples. Use `zero_division` parameter to control this behavior.\n",
            "  _warn_prf(average, modifier, f\"{metric.capitalize()} is\", result.shape[0])\n",
            "/workspaces/sebasProyecto-Dow-Jones-2025sebas/venv/lib/python3.11/site-packages/sklearn/metrics/_classification.py:1706: UndefinedMetricWarning: Precision is ill-defined and being set to 0.0 in labels with no predicted samples. Use `zero_division` parameter to control this behavior.\n",
            "  _warn_prf(average, modifier, f\"{metric.capitalize()} is\", result.shape[0])\n"
          ]
        }
      ],
      "source": [
        "from sklearn.preprocessing import LabelEncoder\n",
        "\n",
        "# Codificar columna Ticker\n",
        "le = LabelEncoder()\n",
        "df[\"ticker_encoded\"] = le.fit_transform(df[\"Ticker\"])\n",
        "\n",
        "# Crear target\n",
        "df[\"target\"] = (df[\"Close\"].shift(-1) > df[\"Close\"]).astype(int)\n",
        "df.dropna(inplace=True)\n",
        "\n",
        "# Asegurarte de incluir ticker_encoded\n",
        "X = df.drop(['Date', 'Ticker', 'target'], axis=1)\n",
        "y = df[\"target\"]\n",
        "\n",
        "# Separar datos\n",
        "X_train, X_test, y_train, y_test = train_test_split(X, y, shuffle=False, test_size=0.2)\n",
        "\n",
        "# Entrenar modelo\n",
        "model = RandomForestClassifier(random_state=42)\n",
        "model.fit(X_train, y_train)\n",
        "\n",
        "# Predicción\n",
        "y_pred = model.predict(X_test)\n",
        "y_proba = model.predict_proba(X_test)[:, 1]\n",
        "\n",
        "# Evaluación por ticker\n",
        "tickers = X_test['ticker_encoded'].unique()\n",
        "\n",
        "for ticker in tickers:\n",
        "    mask = X_test['ticker_encoded'] == ticker\n",
        "    y_true = y_test[mask]\n",
        "    y_pred_ticker = y_pred[mask]\n",
        "    y_proba_ticker = y_proba[mask]\n",
        "\n",
        "    print(f\"\\n📊 Ticker codificado: {ticker}\")\n",
        "    print(classification_report(y_true, y_pred_ticker))\n",
        "    try:\n",
        "        roc = roc_auc_score(y_true, y_proba_ticker)\n",
        "        print(f\"ROC AUC: {roc:.4f}\")\n",
        "    except:\n",
        "        print(\"⚠️ No se puede calcular ROC AUC (una sola clase presente en test)\")\n"
      ]
    },
    {
      "cell_type": "markdown",
      "metadata": {
        "id": "g0NeiR4Mrjxm"
      },
      "source": [
        "| `ticker_encoded` | Ticker   | Descripción del desempeño del modelo                            |\n",
        "| ---------------- | -------- | --------------------------------------------------------------- |\n",
        "| 0                | AAPL     | 🟡 Clase 0 ausente, recall clase 1 moderado (67%), ROC AUC: N/A |\n",
        "| 1                | AMGN     | 🔴 Muy bajo recall de clase 1 (9%), ROC AUC: 0.5038             |\n",
        "| 2                | AMZN     | 🟢 Excelente desempeño (ROC AUC: 0.9981)                        |\n",
        "| 3                | AXP      | 🟢 Buen desempeño, precision y recall altos                     |\n",
        "| 4                | BA       | 🟢 Buen desempeño, accuracy > 0.95                              |\n",
        "| 5                | CAT      | 🟢 Buen desempeño, accuracy > 0.95                              |\n",
        "| 6                | CL=F     | ✅ Solo clase 1 presente, predicción perfecta (ROC AUC: N/A)     |\n",
        "| 7                | CRM      | 🔴 Clasificación muy pobre (precision 0.25 / ROC AUC: 0.6835)   |\n",
        "| 8                | CSCO     | ✅ Solo clase 1 presente, predicción perfecta (ROC AUC: N/A)     |\n",
        "| 9                | CVX      | ✅ Solo clase 0 presente, predicción perfecta (ROC AUC: N/A)     |\n",
        "| 10               | DIS      | ✅ Solo clase 1 presente, predicción perfecta (ROC AUC: N/A)     |\n",
        "| 11               | DX-Y.NYB | ✅ Solo clase 1 presente, predicción perfecta (ROC AUC: N/A)     |\n",
        "| 12               | EURUSD=X | ✅ Solo clase 1 presente, predicción perfecta (ROC AUC: N/A)     |\n",
        "| 13               | GBPUSD=X | ✅ Solo clase 1 presente, predicción perfecta (ROC AUC: N/A)     |\n",
        "| 14               | GC=F     | 🔴 Alto desequilibrio, recall clase 1 = 52%, ROC AUC: 0.6004    |\n",
        "| 15               | GS       | 🟢 Buen desempeño, accuracy > 0.9                               |\n",
        "| 16               | HD       | 🟢 Buen desempeño, accuracy > 0.9                               |\n",
        "| 17               | HON      | 🟢 Buen desempeño, accuracy > 0.9                               |\n",
        "| 18               | IBM      | 🟢 Buen desempeño, accuracy > 0.95                              |\n",
        "| 19               | JNJ      | ✅ Solo clase 1 presente, predicción perfecta (ROC AUC: N/A)     |\n",
        "| 20               | JPM      | ✅ Solo clase 0 presente, predicción perfecta (ROC AUC: N/A)     |\n",
        "| 21               | JPY=X    | ✅ Solo clase 1 presente, predicción perfecta (ROC AUC: N/A)     |\n",
        "| 22               | KO       | 🟢 Buen desempeño, accuracy 98%                                 |\n",
        "| 23               | MCD      | 🟢 Buen desempeño, accuracy 94%                                 |\n",
        "| 24               | MMM      | 🟡 Desequilibrio de clases, recall clase 1 moderado (64%)       |\n",
        "| 25               | MRK      | 🟢 Muy buen desempeño, accuracy 99%                             |\n",
        "| 26               | MSFT     | ✅ Solo clase 0 presente, predicción perfecta (ROC AUC: N/A)     |\n",
        "| 27               | NKE      | ✅ Solo clase 0 presente, predicción perfecta (ROC AUC: N/A)     |\n",
        "| 28               | NVDA     | ✅ Solo clase 1 presente, predicción perfecta (ROC AUC: N/A)     |\n",
        "| 29               | PG       | ✅ Solo clase 0 presente, predicción perfecta (ROC AUC: N/A)     |\n",
        "| 30               | SHW      | 🔴 Bajo recall de clase 1 (38%) (ROC AUC: N/A)                  |\n",
        "| 31               | TRV      | 🔴 Clasificación pobre, accuracy 41%, ROC AUC: 0.5891           |\n",
        "| 32               | UNH      | 🟢 Muy buen desempeño, accuracy casi perfecta                   |\n",
        "| 33               | UUP      | ✅ Solo clase 1 presente, predicción perfecta (ROC AUC: N/A)     |\n",
        "| 34               | V        | ✅ Solo clase 0 presente, predicción perfecta (ROC AUC: N/A)     |\n",
        "| 35               | VZ       | 🟢 Muy buen desempeño, accuracy casi perfecta                   |\n",
        "| 36               | WMT      | 🟢 Buen desempeño con clases balanceadas, accuracy 85%          |\n",
        "| 37               | XLF      | ✅ Solo clase 0 presente, predicción perfecta (ROC AUC: N/A)     |\n",
        "| 38               | XLV      | ✅ Solo clase 1 presente, predicción perfecta (ROC AUC: N/A)     |\n",
        "| 39               | ^DJI     | ✅ Solo clase 0 presente, predicción perfecta (ROC AUC: N/A)     |\n",
        "| 40               | ^SPX     | ✅ Solo clase 0 presente, predicción perfecta (ROC AUC: N/A)     |\n",
        "| 41               | ^TNX     | ✅ Solo clase 1 presente, predicción perfecta (ROC AUC: N/A)     |\n"
      ]
    },
    {
      "cell_type": "code",
      "execution_count": null,
      "metadata": {
        "id": "TPoE9cPy2gzW",
        "outputId": "8be5cf62-dd1b-4f8c-a5bf-4cf1f428f5b3"
      },
      "outputs": [
        {
          "name": "stdout",
          "output_type": "stream",
          "text": [
            "Encontrado: ./datos_limpios_hasta_2025-05-09.csv\n"
          ]
        }
      ],
      "source": [
        "import os\n",
        "\n",
        "# Buscar cualquier archivo que contenga \"datos_limpios\"\n",
        "for root, dirs, files in os.walk(\".\"):\n",
        "    for file in files:\n",
        "        if \"datos_limpios\" in file:\n",
        "            print(\"Encontrado:\", os.path.join(root, file))\n"
      ]
    },
    {
      "cell_type": "code",
      "execution_count": null,
      "metadata": {
        "id": "ofgalIJf2gzX",
        "outputId": "0dc6d148-a3b1-4e2c-964c-08137f3de8b7"
      },
      "outputs": [
        {
          "name": "stdout",
          "output_type": "stream",
          "text": [
            "(112241, 7)\n"
          ]
        }
      ],
      "source": [
        "import pandas as pd\n",
        "\n",
        "df = pd.read_csv(\"datos_limpios_hasta_2025-05-09.csv\")\n",
        "print(df.shape)\n"
      ]
    },
    {
      "cell_type": "code",
      "execution_count": null,
      "metadata": {
        "id": "ANt_xn2C2gzX",
        "outputId": "d8416dce-5bf8-4230-a65d-a812e257203d"
      },
      "outputs": [
        {
          "name": "stdout",
          "output_type": "stream",
          "text": [
            "         Date Ticker       Open       High        Low      Close     Volume\n",
            "0  2015-01-02   AAPL  24.746230  24.757338  23.848709  24.288584  212818400\n",
            "1  2015-01-02    MMM  97.351692  97.570374  96.181415  96.967514    2531214\n",
            "2  2015-01-02    MRK  39.507694  39.901254  39.376508  39.486980    7415962\n",
            "3  2015-01-02   MSFT  39.913164  40.563270  39.810516  39.998703   27913900\n",
            "4  2015-01-02    NKE  42.531706  42.707909  41.456849  41.862122    4985800\n"
          ]
        }
      ],
      "source": [
        "import os\n",
        "import pandas as pd\n",
        "\n",
        "file_path = os.path.join(os.getcwd(), \"datos_limpios_hasta_2025-05-09.csv\")\n",
        "df = pd.read_csv(file_path)\n",
        "print(df.head())\n"
      ]
    },
    {
      "cell_type": "markdown",
      "metadata": {
        "id": "aSVCR4mLraNY"
      },
      "source": [
        "\n"
      ]
    },
    {
      "cell_type": "code",
      "execution_count": null,
      "metadata": {
        "id": "BO6uqvj02gzX",
        "outputId": "d3993978-9ba6-4ce1-eb95-6c4481a7fe92"
      },
      "outputs": [
        {
          "name": "stderr",
          "output_type": "stream",
          "text": [
            "/workspaces/sebasProyecto-Dow-Jones-2025sebas/venv/lib/python3.11/site-packages/xgboost/training.py:183: UserWarning: [18:43:00] WARNING: /workspace/src/learner.cc:738: \n",
            "Parameters: { \"use_label_encoder\" } are not used.\n",
            "\n",
            "  bst.update(dtrain, iteration=i, fobj=obj)\n",
            "/workspaces/sebasProyecto-Dow-Jones-2025sebas/venv/lib/python3.11/site-packages/xgboost/training.py:183: UserWarning: [18:43:12] WARNING: /workspace/src/learner.cc:738: \n",
            "Parameters: { \"use_label_encoder\" } are not used.\n",
            "\n",
            "  bst.update(dtrain, iteration=i, fobj=obj)\n",
            "/workspaces/sebasProyecto-Dow-Jones-2025sebas/venv/lib/python3.11/site-packages/xgboost/training.py:183: UserWarning: [18:43:12] WARNING: /workspace/src/learner.cc:738: \n",
            "Parameters: { \"use_label_encoder\" } are not used.\n",
            "\n",
            "  bst.update(dtrain, iteration=i, fobj=obj)\n",
            "/workspaces/sebasProyecto-Dow-Jones-2025sebas/venv/lib/python3.11/site-packages/xgboost/training.py:183: UserWarning: [18:43:12] WARNING: /workspace/src/learner.cc:738: \n",
            "Parameters: { \"use_label_encoder\" } are not used.\n",
            "\n",
            "  bst.update(dtrain, iteration=i, fobj=obj)\n",
            "/workspaces/sebasProyecto-Dow-Jones-2025sebas/venv/lib/python3.11/site-packages/xgboost/training.py:183: UserWarning: [18:43:12] WARNING: /workspace/src/learner.cc:738: \n",
            "Parameters: { \"use_label_encoder\" } are not used.\n",
            "\n",
            "  bst.update(dtrain, iteration=i, fobj=obj)\n",
            "/workspaces/sebasProyecto-Dow-Jones-2025sebas/venv/lib/python3.11/site-packages/xgboost/training.py:183: UserWarning: [18:43:12] WARNING: /workspace/src/learner.cc:738: \n",
            "Parameters: { \"use_label_encoder\" } are not used.\n",
            "\n",
            "  bst.update(dtrain, iteration=i, fobj=obj)\n",
            "/workspaces/sebasProyecto-Dow-Jones-2025sebas/venv/lib/python3.11/site-packages/xgboost/training.py:183: UserWarning: [18:43:19] WARNING: /workspace/src/learner.cc:738: \n",
            "Parameters: { \"use_label_encoder\" } are not used.\n",
            "\n",
            "  bst.update(dtrain, iteration=i, fobj=obj)\n",
            "/workspaces/sebasProyecto-Dow-Jones-2025sebas/venv/lib/python3.11/site-packages/xgboost/training.py:183: UserWarning: [18:43:46] WARNING: /workspace/src/learner.cc:738: \n",
            "Parameters: { \"use_label_encoder\" } are not used.\n",
            "\n",
            "  bst.update(dtrain, iteration=i, fobj=obj)\n",
            "/workspaces/sebasProyecto-Dow-Jones-2025sebas/venv/lib/python3.11/site-packages/xgboost/training.py:183: UserWarning: [18:43:46] WARNING: /workspace/src/learner.cc:738: \n",
            "Parameters: { \"use_label_encoder\" } are not used.\n",
            "\n",
            "  bst.update(dtrain, iteration=i, fobj=obj)\n",
            "/workspaces/sebasProyecto-Dow-Jones-2025sebas/venv/lib/python3.11/site-packages/xgboost/training.py:183: UserWarning: [18:43:46] WARNING: /workspace/src/learner.cc:738: \n",
            "Parameters: { \"use_label_encoder\" } are not used.\n",
            "\n",
            "  bst.update(dtrain, iteration=i, fobj=obj)\n",
            "/workspaces/sebasProyecto-Dow-Jones-2025sebas/venv/lib/python3.11/site-packages/xgboost/training.py:183: UserWarning: [18:43:47] WARNING: /workspace/src/learner.cc:738: \n",
            "Parameters: { \"use_label_encoder\" } are not used.\n",
            "\n",
            "  bst.update(dtrain, iteration=i, fobj=obj)\n",
            "/workspaces/sebasProyecto-Dow-Jones-2025sebas/venv/lib/python3.11/site-packages/xgboost/training.py:183: UserWarning: [18:43:47] WARNING: /workspace/src/learner.cc:738: \n",
            "Parameters: { \"use_label_encoder\" } are not used.\n",
            "\n",
            "  bst.update(dtrain, iteration=i, fobj=obj)\n",
            "/workspaces/sebasProyecto-Dow-Jones-2025sebas/venv/lib/python3.11/site-packages/xgboost/training.py:183: UserWarning: [18:43:59] WARNING: /workspace/src/learner.cc:738: \n",
            "Parameters: { \"use_label_encoder\" } are not used.\n",
            "\n",
            "  bst.update(dtrain, iteration=i, fobj=obj)\n",
            "/workspaces/sebasProyecto-Dow-Jones-2025sebas/venv/lib/python3.11/site-packages/xgboost/training.py:183: UserWarning: [18:44:43] WARNING: /workspace/src/learner.cc:738: \n",
            "Parameters: { \"use_label_encoder\" } are not used.\n",
            "\n",
            "  bst.update(dtrain, iteration=i, fobj=obj)\n",
            "/workspaces/sebasProyecto-Dow-Jones-2025sebas/venv/lib/python3.11/site-packages/xgboost/training.py:183: UserWarning: [18:44:43] WARNING: /workspace/src/learner.cc:738: \n",
            "Parameters: { \"use_label_encoder\" } are not used.\n",
            "\n",
            "  bst.update(dtrain, iteration=i, fobj=obj)\n",
            "/workspaces/sebasProyecto-Dow-Jones-2025sebas/venv/lib/python3.11/site-packages/xgboost/training.py:183: UserWarning: [18:44:43] WARNING: /workspace/src/learner.cc:738: \n",
            "Parameters: { \"use_label_encoder\" } are not used.\n",
            "\n",
            "  bst.update(dtrain, iteration=i, fobj=obj)\n",
            "/workspaces/sebasProyecto-Dow-Jones-2025sebas/venv/lib/python3.11/site-packages/xgboost/training.py:183: UserWarning: [18:44:43] WARNING: /workspace/src/learner.cc:738: \n",
            "Parameters: { \"use_label_encoder\" } are not used.\n",
            "\n",
            "  bst.update(dtrain, iteration=i, fobj=obj)\n",
            "/workspaces/sebasProyecto-Dow-Jones-2025sebas/venv/lib/python3.11/site-packages/xgboost/training.py:183: UserWarning: [18:44:44] WARNING: /workspace/src/learner.cc:738: \n",
            "Parameters: { \"use_label_encoder\" } are not used.\n",
            "\n",
            "  bst.update(dtrain, iteration=i, fobj=obj)\n",
            "/workspaces/sebasProyecto-Dow-Jones-2025sebas/venv/lib/python3.11/site-packages/xgboost/training.py:183: UserWarning: [18:45:00] WARNING: /workspace/src/learner.cc:738: \n",
            "Parameters: { \"use_label_encoder\" } are not used.\n",
            "\n",
            "  bst.update(dtrain, iteration=i, fobj=obj)\n",
            "/workspaces/sebasProyecto-Dow-Jones-2025sebas/venv/lib/python3.11/site-packages/xgboost/training.py:183: UserWarning: [18:46:02] WARNING: /workspace/src/learner.cc:738: \n",
            "Parameters: { \"use_label_encoder\" } are not used.\n",
            "\n",
            "  bst.update(dtrain, iteration=i, fobj=obj)\n",
            "/workspaces/sebasProyecto-Dow-Jones-2025sebas/venv/lib/python3.11/site-packages/xgboost/training.py:183: UserWarning: [18:46:03] WARNING: /workspace/src/learner.cc:738: \n",
            "Parameters: { \"use_label_encoder\" } are not used.\n",
            "\n",
            "  bst.update(dtrain, iteration=i, fobj=obj)\n",
            "/workspaces/sebasProyecto-Dow-Jones-2025sebas/venv/lib/python3.11/site-packages/xgboost/training.py:183: UserWarning: [18:46:03] WARNING: /workspace/src/learner.cc:738: \n",
            "Parameters: { \"use_label_encoder\" } are not used.\n",
            "\n",
            "  bst.update(dtrain, iteration=i, fobj=obj)\n",
            "/workspaces/sebasProyecto-Dow-Jones-2025sebas/venv/lib/python3.11/site-packages/xgboost/training.py:183: UserWarning: [18:46:03] WARNING: /workspace/src/learner.cc:738: \n",
            "Parameters: { \"use_label_encoder\" } are not used.\n",
            "\n",
            "  bst.update(dtrain, iteration=i, fobj=obj)\n",
            "/workspaces/sebasProyecto-Dow-Jones-2025sebas/venv/lib/python3.11/site-packages/xgboost/training.py:183: UserWarning: [18:46:04] WARNING: /workspace/src/learner.cc:738: \n",
            "Parameters: { \"use_label_encoder\" } are not used.\n",
            "\n",
            "  bst.update(dtrain, iteration=i, fobj=obj)\n",
            "/workspaces/sebasProyecto-Dow-Jones-2025sebas/venv/lib/python3.11/site-packages/xgboost/training.py:183: UserWarning: [18:46:27] WARNING: /workspace/src/learner.cc:738: \n",
            "Parameters: { \"use_label_encoder\" } are not used.\n",
            "\n",
            "  bst.update(dtrain, iteration=i, fobj=obj)\n",
            "/workspaces/sebasProyecto-Dow-Jones-2025sebas/venv/lib/python3.11/site-packages/xgboost/training.py:183: UserWarning: [18:47:49] WARNING: /workspace/src/learner.cc:738: \n",
            "Parameters: { \"use_label_encoder\" } are not used.\n",
            "\n",
            "  bst.update(dtrain, iteration=i, fobj=obj)\n",
            "/workspaces/sebasProyecto-Dow-Jones-2025sebas/venv/lib/python3.11/site-packages/xgboost/training.py:183: UserWarning: [18:47:49] WARNING: /workspace/src/learner.cc:738: \n",
            "Parameters: { \"use_label_encoder\" } are not used.\n",
            "\n",
            "  bst.update(dtrain, iteration=i, fobj=obj)\n",
            "/workspaces/sebasProyecto-Dow-Jones-2025sebas/venv/lib/python3.11/site-packages/xgboost/training.py:183: UserWarning: [18:47:49] WARNING: /workspace/src/learner.cc:738: \n",
            "Parameters: { \"use_label_encoder\" } are not used.\n",
            "\n",
            "  bst.update(dtrain, iteration=i, fobj=obj)\n",
            "/workspaces/sebasProyecto-Dow-Jones-2025sebas/venv/lib/python3.11/site-packages/xgboost/training.py:183: UserWarning: [18:47:50] WARNING: /workspace/src/learner.cc:738: \n",
            "Parameters: { \"use_label_encoder\" } are not used.\n",
            "\n",
            "  bst.update(dtrain, iteration=i, fobj=obj)\n",
            "/workspaces/sebasProyecto-Dow-Jones-2025sebas/venv/lib/python3.11/site-packages/xgboost/training.py:183: UserWarning: [18:47:50] WARNING: /workspace/src/learner.cc:738: \n",
            "Parameters: { \"use_label_encoder\" } are not used.\n",
            "\n",
            "  bst.update(dtrain, iteration=i, fobj=obj)\n"
          ]
        },
        {
          "name": "stdout",
          "output_type": "stream",
          "text": [
            "Stacked Model - Time Series CV Accuracy: [0.57915135 0.58870698 0.56044103 0.56164384 0.52121617]\n",
            "Stacked Model - Mean Accuracy: 0.5622\n"
          ]
        },
        {
          "name": "stderr",
          "output_type": "stream",
          "text": [
            "/workspaces/sebasProyecto-Dow-Jones-2025sebas/venv/lib/python3.11/site-packages/xgboost/training.py:183: UserWarning: [18:48:17] WARNING: /workspace/src/learner.cc:738: \n",
            "Parameters: { \"use_label_encoder\" } are not used.\n",
            "\n",
            "  bst.update(dtrain, iteration=i, fobj=obj)\n",
            "/workspaces/sebasProyecto-Dow-Jones-2025sebas/venv/lib/python3.11/site-packages/xgboost/training.py:183: UserWarning: [18:50:00] WARNING: /workspace/src/learner.cc:738: \n",
            "Parameters: { \"use_label_encoder\" } are not used.\n",
            "\n",
            "  bst.update(dtrain, iteration=i, fobj=obj)\n",
            "/workspaces/sebasProyecto-Dow-Jones-2025sebas/venv/lib/python3.11/site-packages/xgboost/training.py:183: UserWarning: [18:50:01] WARNING: /workspace/src/learner.cc:738: \n",
            "Parameters: { \"use_label_encoder\" } are not used.\n",
            "\n",
            "  bst.update(dtrain, iteration=i, fobj=obj)\n",
            "/workspaces/sebasProyecto-Dow-Jones-2025sebas/venv/lib/python3.11/site-packages/xgboost/training.py:183: UserWarning: [18:50:01] WARNING: /workspace/src/learner.cc:738: \n",
            "Parameters: { \"use_label_encoder\" } are not used.\n",
            "\n",
            "  bst.update(dtrain, iteration=i, fobj=obj)\n",
            "/workspaces/sebasProyecto-Dow-Jones-2025sebas/venv/lib/python3.11/site-packages/xgboost/training.py:183: UserWarning: [18:50:01] WARNING: /workspace/src/learner.cc:738: \n",
            "Parameters: { \"use_label_encoder\" } are not used.\n",
            "\n",
            "  bst.update(dtrain, iteration=i, fobj=obj)\n",
            "/workspaces/sebasProyecto-Dow-Jones-2025sebas/venv/lib/python3.11/site-packages/xgboost/training.py:183: UserWarning: [18:50:02] WARNING: /workspace/src/learner.cc:738: \n",
            "Parameters: { \"use_label_encoder\" } are not used.\n",
            "\n",
            "  bst.update(dtrain, iteration=i, fobj=obj)\n"
          ]
        },
        {
          "name": "stdout",
          "output_type": "stream",
          "text": [
            "\n",
            "Classification Report:\n",
            "               precision    recall  f1-score   support\n",
            "\n",
            "           0       0.49      0.99      0.65     10838\n",
            "           1       0.83      0.03      0.05     11611\n",
            "\n",
            "    accuracy                           0.49     22449\n",
            "   macro avg       0.66      0.51      0.35     22449\n",
            "weighted avg       0.67      0.49      0.34     22449\n",
            "\n",
            "ROC AUC: 0.8659\n"
          ]
        }
      ],
      "source": [
        "from sklearn.ensemble import StackingClassifier\n",
        "from sklearn.ensemble import RandomForestClassifier\n",
        "from sklearn.linear_model import LogisticRegression\n",
        "from xgboost import XGBClassifier\n",
        "from sklearn.model_selection import TimeSeriesSplit, train_test_split, cross_val_score\n",
        "from sklearn.metrics import classification_report, roc_auc_score\n",
        "import numpy as np\n",
        "import pandas as pd\n",
        "\n",
        "# Crear target\n",
        "df['target'] = (df['Close'].shift(-1) > df['Close']).astype(int)\n",
        "df.dropna(inplace=True)\n",
        "\n",
        "# Features y target\n",
        "X = df.drop(['Date', 'Ticker', 'target'], axis=1)\n",
        "y = df['target']\n",
        "\n",
        "# Train/Test split sin shuffle\n",
        "X_train, X_test, y_train, y_test = train_test_split(X, y, test_size=0.2, shuffle=False)\n",
        "\n",
        "# Stacking\n",
        "estimators = [\n",
        "    ('rf', RandomForestClassifier(n_estimators=100, random_state=42)),\n",
        "    ('xgb', XGBClassifier(use_label_encoder=False, eval_metric='logloss'))\n",
        "]\n",
        "stack_model = StackingClassifier(\n",
        "    estimators=estimators,\n",
        "    final_estimator=LogisticRegression(max_iter=1000),\n",
        "    passthrough=True\n",
        ")\n",
        "\n",
        "# Validación con TimeSeriesSplit\n",
        "tscv = TimeSeriesSplit(n_splits=5)\n",
        "cv_scores_stack = cross_val_score(stack_model, X_train, y_train, cv=tscv, scoring='accuracy')\n",
        "print(f\"Stacked Model - Time Series CV Accuracy: {cv_scores_stack}\")\n",
        "print(f\"Stacked Model - Mean Accuracy: {np.mean(cv_scores_stack):.4f}\")\n",
        "\n",
        "# Entrenar y evaluar en test\n",
        "stack_model.fit(X_train, y_train)\n",
        "y_pred = stack_model.predict(X_test)\n",
        "y_proba = stack_model.predict_proba(X_test)[:, 1]\n",
        "\n",
        "print(\"\\nClassification Report:\\n\", classification_report(y_test, y_pred))\n",
        "print(f\"ROC AUC: {roc_auc_score(y_test, y_proba):.4f}\")\n"
      ]
    },
    {
      "cell_type": "code",
      "execution_count": null,
      "metadata": {
        "id": "u_ZogPTO2gzX",
        "outputId": "4f0b4813-626e-447f-db03-2870cdb187ec"
      },
      "outputs": [
        {
          "name": "stdout",
          "output_type": "stream",
          "text": [
            "Threshold ajustado: 0.3\n",
            "              precision    recall  f1-score   support\n",
            "\n",
            "           0       0.71      0.84      0.77     10838\n",
            "           1       0.82      0.67      0.74     11611\n",
            "\n",
            "    accuracy                           0.76     22449\n",
            "   macro avg       0.77      0.76      0.76     22449\n",
            "weighted avg       0.77      0.76      0.76     22449\n",
            "\n",
            "ROC AUC: 0.8659\n",
            "Matriz de confusión:\n",
            "[[9149 1689]\n",
            " [3775 7836]]\n"
          ]
        }
      ],
      "source": [
        "from sklearn.metrics import confusion_matrix\n",
        "\n",
        "# Ajustar threshold a 0.3 por ejemplo (podés ir bajándolo progresivamente)\n",
        "threshold = 0.3\n",
        "y_pred_adjusted = (y_proba >= threshold).astype(int)\n",
        "\n",
        "print(f\"Threshold ajustado: {threshold}\")\n",
        "print(classification_report(y_test, y_pred_adjusted))\n",
        "print(f\"ROC AUC: {roc_auc_score(y_test, y_proba):.4f}\")\n",
        "print(\"Matriz de confusión:\")\n",
        "print(confusion_matrix(y_test, y_pred_adjusted))\n"
      ]
    },
    {
      "cell_type": "code",
      "execution_count": null,
      "metadata": {
        "id": "xLDlz8_M2gzX",
        "outputId": "cf1aef50-7c94-4e32-991f-30e6664bf418"
      },
      "outputs": [
        {
          "name": "stdout",
          "output_type": "stream",
          "text": [
            "Mejor threshold: 0.22, Mejor F1: 0.8200\n"
          ]
        }
      ],
      "source": [
        "from sklearn.metrics import f1_score\n",
        "\n",
        "best_thresh = 0.5\n",
        "best_f1 = 0\n",
        "for t in np.arange(0.1, 0.9, 0.01):\n",
        "    y_pred_temp = (y_proba >= t).astype(int)\n",
        "    f1 = f1_score(y_test, y_pred_temp)\n",
        "    if f1 > best_f1:\n",
        "        best_f1 = f1\n",
        "        best_thresh = t\n",
        "print(f\"Mejor threshold: {best_thresh:.2f}, Mejor F1: {best_f1:.4f}\")\n"
      ]
    },
    {
      "cell_type": "code",
      "execution_count": null,
      "metadata": {
        "id": "y1peMIx_2gzY",
        "outputId": "17262bac-d112-42b3-f965-508644f17d32"
      },
      "outputs": [
        {
          "name": "stdout",
          "output_type": "stream",
          "text": [
            "Index(['Open', 'High', 'Low', 'Close', 'Volume'], dtype='object')\n"
          ]
        }
      ],
      "source": [
        "print(X_test.columns)\n"
      ]
    },
    {
      "cell_type": "code",
      "execution_count": null,
      "metadata": {
        "id": "FYuaRxdd2gzY"
      },
      "outputs": [],
      "source": [
        "# Recuperar el índice original de test (asumiendo que hiciste un split con train_test_split)\n",
        "from sklearn.model_selection import train_test_split\n",
        "\n",
        "# Suponiendo que hiciste esto antes:\n",
        "# X_train, X_test, y_train, y_test = train_test_split(X, y, shuffle=False, test_size=0.2)\n",
        "\n",
        "# Creamos el DataFrame de resultados\n",
        "resultados = pd.DataFrame({\n",
        "    'y_true': y_test,\n",
        "    'y_pred': y_pred_final,\n",
        "    'proba': y_proba,\n",
        "}, index=y_test.index)\n",
        "\n",
        "# Añadir el ticker original desde el DataFrame original (df)\n",
        "resultados['ticker'] = df.loc[y_test.index, 'Ticker'].values\n"
      ]
    },
    {
      "cell_type": "code",
      "execution_count": null,
      "metadata": {
        "id": "qv8bA9Hu2gzY",
        "outputId": "5fb38301-50be-491c-fc51-d2dbefeff82e"
      },
      "outputs": [
        {
          "name": "stdout",
          "output_type": "stream",
          "text": [
            "      Ticker ROC AUC                                        Descripción\n",
            "0       AAPL     N/A   🟡 Clase 0 ausente, recall clase 1 moderado (67%)\n",
            "1       AMGN  0.5038                  🔴 Muy bajo recall de clase 1 (9%)\n",
            "2       AMZN  0.9981                              🟢 Excelente desempeño\n",
            "3        AXP     N/A         🟢 Buen desempeño, precision y recall altos\n",
            "4         BA     N/A                  🟢 Buen desempeño, accuracy > 0.95\n",
            "5        CAT     N/A                  🟢 Buen desempeño, accuracy > 0.95\n",
            "6       CL=F     N/A       ✅ Solo clase 1 presente, predicción perfecta\n",
            "7        CRM  0.6835                          🔴 Clasificación muy pobre\n",
            "8       CSCO     N/A       ✅ Solo clase 1 presente, predicción perfecta\n",
            "9        CVX     N/A       ✅ Solo clase 0 presente, predicción perfecta\n",
            "10       DIS     N/A       ✅ Solo clase 1 presente, predicción perfecta\n",
            "11  DX-Y.NYB     N/A       ✅ Solo clase 1 presente, predicción perfecta\n",
            "12  EURUSD=X     N/A       ✅ Solo clase 1 presente, predicción perfecta\n",
            "13  GBPUSD=X     N/A       ✅ Solo clase 1 presente, predicción perfecta\n",
            "14      GC=F  0.6004         🔴 Alto desequilibrio, recall clase 1 = 52%\n",
            "15        GS     N/A                   🟢 Buen desempeño, accuracy > 0.9\n",
            "16        HD     N/A                   🟢 Buen desempeño, accuracy > 0.9\n",
            "17       HON     N/A                   🟢 Buen desempeño, accuracy > 0.9\n",
            "18       IBM     N/A                  🟢 Buen desempeño, accuracy > 0.95\n",
            "19       JNJ     N/A       ✅ Solo clase 1 presente, predicción perfecta\n",
            "20       JPM     N/A       ✅ Solo clase 0 presente, predicción perfecta\n",
            "21     JPY=X     N/A       ✅ Solo clase 1 presente, predicción perfecta\n",
            "22        KO     N/A                     🟢 Buen desempeño, accuracy 98%\n",
            "23       MCD     N/A                     🟢 Buen desempeño, accuracy 94%\n",
            "24       MMM     N/A  🟡 Desequilibrio de clases, recall clase 1 mode...\n",
            "25       MRK     N/A                 🟢 Muy buen desempeño, accuracy 99%\n",
            "26      MSFT     N/A       ✅ Solo clase 0 presente, predicción perfecta\n",
            "27       NKE     N/A       ✅ Solo clase 0 presente, predicción perfecta\n",
            "28      NVDA     N/A       ✅ Solo clase 1 presente, predicción perfecta\n",
            "29        PG     N/A       ✅ Solo clase 0 presente, predicción perfecta\n",
            "30       SHW     N/A                     🔴 Bajo recall de clase 1 (38%)\n",
            "31       TRV  0.5891                🔴 Clasificación pobre, accuracy 41%\n",
            "32       UNH     N/A       🟢 Muy buen desempeño, accuracy casi perfecta\n",
            "33       UUP     N/A       ✅ Solo clase 1 presente, predicción perfecta\n",
            "34         V     N/A       ✅ Solo clase 0 presente, predicción perfecta\n",
            "35        VZ     N/A       🟢 Muy buen desempeño, accuracy casi perfecta\n",
            "36       WMT     N/A  🟢 Buen desempeño con clases balanceadas, accur...\n",
            "37       XLF     N/A       ✅ Solo clase 0 presente, predicción perfecta\n",
            "38       XLV     N/A       ✅ Solo clase 1 presente, predicción perfecta\n",
            "39      ^DJI     N/A       ✅ Solo clase 0 presente, predicción perfecta\n",
            "40      ^SPX     N/A       ✅ Solo clase 0 presente, predicción perfecta\n",
            "41      ^TNX     N/A       ✅ Solo clase 1 presente, predicción perfecta\n"
          ]
        }
      ],
      "source": [
        "import pandas as pd\n",
        "\n",
        "resumen = [\n",
        "    {'Ticker': 'AAPL', 'ROC AUC': 'N/A', 'Descripción': '🟡 Clase 0 ausente, recall clase 1 moderado (67%)'},\n",
        "    {'Ticker': 'AMGN', 'ROC AUC': 0.5038, 'Descripción': '🔴 Muy bajo recall de clase 1 (9%)'},\n",
        "    {'Ticker': 'AMZN', 'ROC AUC': 0.9981, 'Descripción': '🟢 Excelente desempeño'},\n",
        "    {'Ticker': 'AXP', 'ROC AUC': 'N/A', 'Descripción': '🟢 Buen desempeño, precision y recall altos'},\n",
        "    {'Ticker': 'BA', 'ROC AUC': 'N/A', 'Descripción': '🟢 Buen desempeño, accuracy > 0.95'},\n",
        "    {'Ticker': 'CAT', 'ROC AUC': 'N/A', 'Descripción': '🟢 Buen desempeño, accuracy > 0.95'},\n",
        "    {'Ticker': 'CL=F', 'ROC AUC': 'N/A', 'Descripción': '✅ Solo clase 1 presente, predicción perfecta'},\n",
        "    {'Ticker': 'CRM', 'ROC AUC': 0.6835, 'Descripción': '🔴 Clasificación muy pobre'},\n",
        "    {'Ticker': 'CSCO', 'ROC AUC': 'N/A', 'Descripción': '✅ Solo clase 1 presente, predicción perfecta'},\n",
        "    {'Ticker': 'CVX', 'ROC AUC': 'N/A', 'Descripción': '✅ Solo clase 0 presente, predicción perfecta'},\n",
        "    {'Ticker': 'DIS', 'ROC AUC': 'N/A', 'Descripción': '✅ Solo clase 1 presente, predicción perfecta'},\n",
        "    {'Ticker': 'DX-Y.NYB', 'ROC AUC': 'N/A', 'Descripción': '✅ Solo clase 1 presente, predicción perfecta'},\n",
        "    {'Ticker': 'EURUSD=X', 'ROC AUC': 'N/A', 'Descripción': '✅ Solo clase 1 presente, predicción perfecta'},\n",
        "    {'Ticker': 'GBPUSD=X', 'ROC AUC': 'N/A', 'Descripción': '✅ Solo clase 1 presente, predicción perfecta'},\n",
        "    {'Ticker': 'GC=F', 'ROC AUC': 0.6004, 'Descripción': '🔴 Alto desequilibrio, recall clase 1 = 52%'},\n",
        "    {'Ticker': 'GS', 'ROC AUC': 'N/A', 'Descripción': '🟢 Buen desempeño, accuracy > 0.9'},\n",
        "    {'Ticker': 'HD', 'ROC AUC': 'N/A', 'Descripción': '🟢 Buen desempeño, accuracy > 0.9'},\n",
        "    {'Ticker': 'HON', 'ROC AUC': 'N/A', 'Descripción': '🟢 Buen desempeño, accuracy > 0.9'},\n",
        "    {'Ticker': 'IBM', 'ROC AUC': 'N/A', 'Descripción': '🟢 Buen desempeño, accuracy > 0.95'},\n",
        "    {'Ticker': 'JNJ', 'ROC AUC': 'N/A', 'Descripción': '✅ Solo clase 1 presente, predicción perfecta'},\n",
        "    {'Ticker': 'JPM', 'ROC AUC': 'N/A', 'Descripción': '✅ Solo clase 0 presente, predicción perfecta'},\n",
        "    {'Ticker': 'JPY=X', 'ROC AUC': 'N/A', 'Descripción': '✅ Solo clase 1 presente, predicción perfecta'},\n",
        "    {'Ticker': 'KO', 'ROC AUC': 'N/A', 'Descripción': '🟢 Buen desempeño, accuracy 98%'},\n",
        "    {'Ticker': 'MCD', 'ROC AUC': 'N/A', 'Descripción': '🟢 Buen desempeño, accuracy 94%'},\n",
        "    {'Ticker': 'MMM', 'ROC AUC': 'N/A', 'Descripción': '🟡 Desequilibrio de clases, recall clase 1 moderado (64%)'},\n",
        "    {'Ticker': 'MRK', 'ROC AUC': 'N/A', 'Descripción': '🟢 Muy buen desempeño, accuracy 99%'},\n",
        "    {'Ticker': 'MSFT', 'ROC AUC': 'N/A', 'Descripción': '✅ Solo clase 0 presente, predicción perfecta'},\n",
        "    {'Ticker': 'NKE', 'ROC AUC': 'N/A', 'Descripción': '✅ Solo clase 0 presente, predicción perfecta'},\n",
        "    {'Ticker': 'NVDA', 'ROC AUC': 'N/A', 'Descripción': '✅ Solo clase 1 presente, predicción perfecta'},\n",
        "    {'Ticker': 'PG', 'ROC AUC': 'N/A', 'Descripción': '✅ Solo clase 0 presente, predicción perfecta'},\n",
        "    {'Ticker': 'SHW', 'ROC AUC': 'N/A', 'Descripción': '🔴 Bajo recall de clase 1 (38%)'},\n",
        "    {'Ticker': 'TRV', 'ROC AUC': 0.5891, 'Descripción': '🔴 Clasificación pobre, accuracy 41%'},\n",
        "    {'Ticker': 'UNH', 'ROC AUC': 'N/A', 'Descripción': '🟢 Muy buen desempeño, accuracy casi perfecta'},\n",
        "    {'Ticker': 'UUP', 'ROC AUC': 'N/A', 'Descripción': '✅ Solo clase 1 presente, predicción perfecta'},\n",
        "    {'Ticker': 'V', 'ROC AUC': 'N/A', 'Descripción': '✅ Solo clase 0 presente, predicción perfecta'},\n",
        "    {'Ticker': 'VZ', 'ROC AUC': 'N/A', 'Descripción': '🟢 Muy buen desempeño, accuracy casi perfecta'},\n",
        "    {'Ticker': 'WMT', 'ROC AUC': 'N/A', 'Descripción': '🟢 Buen desempeño con clases balanceadas, accuracy 85%'},\n",
        "    {'Ticker': 'XLF', 'ROC AUC': 'N/A', 'Descripción': '✅ Solo clase 0 presente, predicción perfecta'},\n",
        "    {'Ticker': 'XLV', 'ROC AUC': 'N/A', 'Descripción': '✅ Solo clase 1 presente, predicción perfecta'},\n",
        "    {'Ticker': '^DJI', 'ROC AUC': 'N/A', 'Descripción': '✅ Solo clase 0 presente, predicción perfecta'},\n",
        "    {'Ticker': '^SPX', 'ROC AUC': 'N/A', 'Descripción': '✅ Solo clase 0 presente, predicción perfecta'},\n",
        "    {'Ticker': '^TNX', 'ROC AUC': 'N/A', 'Descripción': '✅ Solo clase 1 presente, predicción perfecta'},\n",
        "]\n",
        "\n",
        "resumen_df = pd.DataFrame(resumen)\n",
        "print(resumen_df)\n"
      ]
    },
    {
      "cell_type": "code",
      "execution_count": null,
      "metadata": {
        "id": "Hno71PjE2gzY",
        "outputId": "0ba08e70-e9e7-42bf-bf68-119fe92a1a99"
      },
      "outputs": [
        {
          "name": "stdout",
          "output_type": "stream",
          "text": [
            "✅ Columnas guardadas exitosamente.\n"
          ]
        }
      ],
      "source": [
        "import pandas as pd\n",
        "import joblib\n",
        "\n",
        "# Cargar el CSV original del entrenamiento\n",
        "df_train = pd.read_csv(\"/workspaces/sebasProyecto-Dow-Jones-2025sebas/datos_limpios_hasta_2025-05-09.csv\")\n",
        "\n",
        "# Eliminar columnas que no usaste como features\n",
        "feature_names = df_train.drop(columns=[\"Date\", \"Ticker\", \"Close\", \"target\"], errors='ignore').columns.tolist()\n",
        "\n",
        "# Guardar las columnas en un archivo\n",
        "joblib.dump(feature_names, \"/workspaces/sebasProyecto-Dow-Jones-2025sebas/features_names_entrenamiento.pkl\")\n",
        "\n",
        "print(\"✅ Columnas guardadas exitosamente.\")\n"
      ]
    },
    {
      "cell_type": "code",
      "execution_count": null,
      "metadata": {
        "id": "TZU921W62gzY",
        "outputId": "3df4d155-ddba-4150-cb4a-f010ff9b95cb"
      },
      "outputs": [
        {
          "name": "stdout",
          "output_type": "stream",
          "text": [
            "✅ Columnas corregidas y guardadas.\n"
          ]
        }
      ],
      "source": [
        "import pandas as pd\n",
        "import joblib\n",
        "\n",
        "# Cargar el dataset de entrenamiento\n",
        "df_train = pd.read_csv(\"/workspaces/sebasProyecto-Dow-Jones-2025sebas/datos_limpios_hasta_2025-05-09.csv\")\n",
        "\n",
        "# ✅ Esta vez NO quitamos 'Close' porque el modelo fue entrenado con ella\n",
        "feature_names = df_train.drop(columns=[\"Date\", \"Ticker\", \"target\"], errors='ignore').columns.tolist()\n",
        "\n",
        "# Guardar las columnas\n",
        "joblib.dump(feature_names, \"/workspaces/sebasProyecto-Dow-Jones-2025sebas/features_names_entrenamiento.pkl\")\n",
        "\n",
        "print(\"✅ Columnas corregidas y guardadas.\")\n"
      ]
    },
    {
      "cell_type": "code",
      "execution_count": null,
      "metadata": {
        "id": "0WH10zyx2gzY",
        "outputId": "d0ca4555-d1f2-47d2-933b-84ec8b595a54"
      },
      "outputs": [
        {
          "name": "stdout",
          "output_type": "stream",
          "text": [
            "          Ticker        Date         Close  Prediccion_sube\n",
            "112198       MCD  2025-05-09    311.910950                0\n",
            "113224       JPM  2025-06-12    268.239990                0\n",
            "112264       MMM  2025-06-12    144.770004                0\n",
            "112480       UUP  2025-06-12     27.100000                1\n",
            "112288       MRK  2025-06-12     81.820000                1\n",
            "112936      CL=F  2025-06-12     68.040001                1\n",
            "112912       CAT  2025-06-12    360.959991                0\n",
            "112552       WMT  2025-06-12     94.830002                1\n",
            "112888        BA  2025-06-12    203.750000                0\n",
            "112576       XLF  2025-06-12     51.000000                1\n",
            "112864       AXP  2025-06-12    297.989990                0\n",
            "112600       XLV  2025-06-12    136.809998                0\n",
            "112528        VZ  2025-06-12     43.160000                1\n",
            "112840      AMZN  2025-06-12    213.240005                0\n",
            "112816      AMGN  2025-06-12    297.290009                0\n",
            "112648        KO  2025-06-12     72.239998                1\n",
            "112792      AAPL  2025-06-12    199.199997                0\n",
            "112672       TRV  2025-06-12    265.950012                0\n",
            "112768      ^TNX  2025-06-12      4.357000                1\n",
            "112696     JPY=X  2025-06-12    144.203003                0\n",
            "112744       JNJ  2025-06-12    156.660004                0\n",
            "112624      ^DJI  2025-06-12  42967.621094                0\n",
            "113200       IBM  2025-06-12    281.029999                0\n",
            "112960       CRM  2025-06-12    266.910004                0\n",
            "112984      CSCO  2025-06-12     65.099998                1\n",
            "113176       HON  2025-06-12    226.050003                0\n",
            "112312      MSFT  2025-06-12    478.869995                0\n",
            "113152        HD  2025-06-12    363.160004                0\n",
            "112336       NKE  2025-06-12     62.799999                1\n",
            "113128        GS  2025-06-12    625.109985                0\n",
            "112360      NVDA  2025-06-12    145.000000                1\n",
            "113104      GC=F  2025-06-12   3380.899902                0\n",
            "112504         V  2025-06-12    371.399994                0\n",
            "112384        PG  2025-06-12    163.179993                0\n",
            "112408       SHW  2025-06-12    356.200012                0\n",
            "113056  EURUSD=X  2025-06-12      1.150933                1\n",
            "112432      ^SPX  2025-06-12   6045.259766                0\n",
            "113032  DX-Y.NYB  2025-06-12     97.919998                0\n",
            "112456       UNH  2025-06-12    318.500000                0\n",
            "113008       CVX  2025-06-12    144.970001                0\n",
            "112720       DIS  2025-06-12    118.610001                0\n",
            "113080  GBPUSD=X  2025-06-12      1.356742                1\n",
            "113248      ^VIX  2025-06-12     18.020000                1\n"
          ]
        }
      ],
      "source": [
        "import pandas as pd\n",
        "import joblib\n",
        "\n",
        "# 1. Cargar los datos actualizados\n",
        "df = pd.read_csv(\"/workspaces/sebasProyecto-Dow-Jones-2025sebas/datos_actualizados_hasta_2025-06-12.csv\")\n",
        "\n",
        "# 2. Cargar modelo, features y (si corresponde) scaler\n",
        "modelo = joblib.load(\"/workspaces/sebasProyecto-Dow-Jones-2025sebas/final_time_series_model.pkl\")\n",
        "feature_names = joblib.load(\"/workspaces/sebasProyecto-Dow-Jones-2025sebas/features_names_entrenamiento.pkl\")\n",
        "# scaler = joblib.load(\"/workspaces/sebasProyecto-Dow-Jones-2025sebas/scaler_entrenado.pkl\")  # Si lo usás\n",
        "\n",
        "# 3. Obtener último registro de cada ticker\n",
        "ultimos = df.sort_values('Date').groupby('Ticker').tail(1).copy()\n",
        "\n",
        "# 4. Preparar features\n",
        "X_pred = ultimos[feature_names].copy()\n",
        "\n",
        "# 5. (Opcional) Aplicar scaler\n",
        "# X_pred = scaler.transform(X_pred)\n",
        "\n",
        "# 6. Predecir si el cierre sube mañana\n",
        "ultimos['Prediccion_sube'] = modelo.predict(X_pred)\n",
        "\n",
        "# 7. Mostrar resultados\n",
        "predicciones = ultimos[['Ticker', 'Date', 'Close', 'Prediccion_sube']]\n",
        "print(predicciones)\n"
      ]
    },
    {
      "cell_type": "code",
      "execution_count": null,
      "metadata": {
        "id": "_FUXJyvE2gzZ",
        "outputId": "21d18185-7d36-4b50-9378-4b4cbaa6ead0"
      },
      "outputs": [
        {
          "name": "stdout",
          "output_type": "stream",
          "text": [
            "<class 'list'>\n",
            "['Open', 'High', 'Low', 'Close', 'Volume']\n"
          ]
        }
      ],
      "source": [
        "import joblib\n",
        "\n",
        "feature_names = joblib.load(\"/workspaces/sebasProyecto-Dow-Jones-2025sebas/features_names_entrenamiento.pkl\")\n",
        "print(type(feature_names))\n",
        "print(feature_names[:10])\n",
        "\n"
      ]
    }
  ],
  "metadata": {
    "colab": {
      "provenance": [],
      "include_colab_link": true
    },
    "kernelspec": {
      "display_name": "venv",
      "language": "python",
      "name": "python3"
    },
    "language_info": {
      "codemirror_mode": {
        "name": "ipython",
        "version": 3
      },
      "file_extension": ".py",
      "mimetype": "text/x-python",
      "name": "python",
      "nbconvert_exporter": "python",
      "pygments_lexer": "ipython3",
      "version": "3.11.4"
    }
  },
  "nbformat": 4,
  "nbformat_minor": 0
}